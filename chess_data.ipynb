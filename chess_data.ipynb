{
 "cells": [
  {
   "cell_type": "code",
   "execution_count": 59,
   "metadata": {},
   "outputs": [
    {
     "name": "stdout",
     "output_type": "stream",
     "text": [
      "d4\n",
      "e6\n",
      "c4\n",
      "d5\n",
      "Nc3\n",
      "dxc4\n",
      "e4\n",
      "c6\n",
      "Bxc4\n",
      "Nf6\n",
      "e5\n",
      "Nd5\n",
      "Nxd5\n",
      "cxd5\n",
      "Bb3\n",
      "a6\n",
      "f4\n",
      "Nc6\n",
      "Nf3\n",
      "b5\n",
      "Be3\n",
      "Bb7\n",
      "O-O\n",
      "Na5\n",
      "Bc2\n",
      "Nc4\n",
      "Bc1\n",
      "Be7\n",
      "Qd3\n",
      "O-O\n",
      "Qxh7#\n"
     ]
    }
   ],
   "source": [
    "import chess.pgn\n",
    "\n",
    "FILENAME = \"lichess_db_standard_rated_2014-10.pgn\"\n",
    "\n",
    "# # Open your PGN file\n",
    "# with open(file_name, \"r\") as pgn_file:\n",
    "#     while True:\n",
    "#         game = chess.pgn.read_game(pgn_file)\n",
    "#         if game is None:\n",
    "#             break  # End of file\n",
    "\n",
    "#         board = game.board()\n",
    "#         for move in game.mainline_moves():\n",
    "#             print(board.fen())\n",
    "#             print(\"Move:\", board.san(move))\n",
    "#             board.push(move)\n",
    "\n",
    "with open(FILENAME) as pgn_file:\n",
    "    first_game = chess.pgn.read_game(pgn_file)\n",
    "\n",
    "board = first_game.board()\n",
    "\n",
    "for move in first_game.mainline_moves():\n",
    "    print(board.san(move))  # Print move in algebraic notation\n",
    "    board.push(move)"
   ]
  },
  {
   "cell_type": "code",
   "execution_count": 6,
   "metadata": {},
   "outputs": [
    {
     "name": "stdout",
     "output_type": "stream",
     "text": [
      "r . . q . r k .\n",
      ". b . . b p p Q\n",
      "p . . . p . . .\n",
      ". p . p P . . .\n",
      ". . n P . P . .\n",
      ". . . . . N . .\n",
      "P P B . . . P P\n",
      "R . B . . R K .\n"
     ]
    }
   ],
   "source": [
    "print(board)"
   ]
  },
  {
   "cell_type": "code",
   "execution_count": 57,
   "metadata": {},
   "outputs": [
    {
     "data": {
      "image/svg+xml": [
       "<svg xmlns=\"http://www.w3.org/2000/svg\" xmlns:xlink=\"http://www.w3.org/1999/xlink\" viewBox=\"0 0 390 390\" width=\"400\" height=\"400\"><desc><pre>r n b q k b . r\n",
       "p p . . . p p p\n",
       ". . p . p n . .\n",
       ". . . . . . . .\n",
       ". . B P P . . .\n",
       ". . N . . . . .\n",
       "P P . . . P P P\n",
       "R . B Q K . N R</pre></desc><defs><g id=\"white-pawn\" class=\"white pawn\"><path d=\"M22.5 9c-2.21 0-4 1.79-4 4 0 .89.29 1.71.78 2.38C17.33 16.5 16 18.59 16 21c0 2.03.94 3.84 2.41 5.03-3 1.06-7.41 5.55-7.41 13.47h23c0-7.92-4.41-12.41-7.41-13.47 1.47-1.19 2.41-3 2.41-5.03 0-2.41-1.33-4.5-3.28-5.62.49-.67.78-1.49.78-2.38 0-2.21-1.79-4-4-4z\" fill=\"#fff\" stroke=\"#000\" stroke-width=\"1.5\" stroke-linecap=\"round\"/></g><g id=\"white-knight\" class=\"white knight\" fill=\"none\" fill-rule=\"evenodd\" stroke=\"#000\" stroke-width=\"1.5\" stroke-linecap=\"round\" stroke-linejoin=\"round\"><path d=\"M 22,10 C 32.5,11 38.5,18 38,39 L 15,39 C 15,30 25,32.5 23,18\" style=\"fill:#ffffff; stroke:#000000;\"/><path d=\"M 24,18 C 24.38,20.91 18.45,25.37 16,27 C 13,29 13.18,31.34 11,31 C 9.958,30.06 12.41,27.96 11,28 C 10,28 11.19,29.23 10,30 C 9,30 5.997,31 6,26 C 6,24 12,14 12,14 C 12,14 13.89,12.1 14,10.5 C 13.27,9.506 13.5,8.5 13.5,7.5 C 14.5,6.5 16.5,10 16.5,10 L 18.5,10 C 18.5,10 19.28,8.008 21,7 C 22,7 22,10 22,10\" style=\"fill:#ffffff; stroke:#000000;\"/><path d=\"M 9.5 25.5 A 0.5 0.5 0 1 1 8.5,25.5 A 0.5 0.5 0 1 1 9.5 25.5 z\" style=\"fill:#000000; stroke:#000000;\"/><path d=\"M 15 15.5 A 0.5 1.5 0 1 1 14,15.5 A 0.5 1.5 0 1 1 15 15.5 z\" transform=\"matrix(0.866,0.5,-0.5,0.866,9.693,-5.173)\" style=\"fill:#000000; stroke:#000000;\"/></g><g id=\"white-bishop\" class=\"white bishop\" fill=\"none\" fill-rule=\"evenodd\" stroke=\"#000\" stroke-width=\"1.5\" stroke-linecap=\"round\" stroke-linejoin=\"round\"><g fill=\"#fff\" stroke-linecap=\"butt\"><path d=\"M9 36c3.39-.97 10.11.43 13.5-2 3.39 2.43 10.11 1.03 13.5 2 0 0 1.65.54 3 2-.68.97-1.65.99-3 .5-3.39-.97-10.11.46-13.5-1-3.39 1.46-10.11.03-13.5 1-1.354.49-2.323.47-3-.5 1.354-1.94 3-2 3-2zM15 32c2.5 2.5 12.5 2.5 15 0 .5-1.5 0-2 0-2 0-2.5-2.5-4-2.5-4 5.5-1.5 6-11.5-5-15.5-11 4-10.5 14-5 15.5 0 0-2.5 1.5-2.5 4 0 0-.5.5 0 2zM25 8a2.5 2.5 0 1 1-5 0 2.5 2.5 0 1 1 5 0z\"/></g><path d=\"M17.5 26h10M15 30h15m-7.5-14.5v5M20 18h5\" stroke-linejoin=\"miter\"/></g><g id=\"white-rook\" class=\"white rook\" fill=\"#fff\" fill-rule=\"evenodd\" stroke=\"#000\" stroke-width=\"1.5\" stroke-linecap=\"round\" stroke-linejoin=\"round\"><path d=\"M9 39h27v-3H9v3zM12 36v-4h21v4H12zM11 14V9h4v2h5V9h5v2h5V9h4v5\" stroke-linecap=\"butt\"/><path d=\"M34 14l-3 3H14l-3-3\"/><path d=\"M31 17v12.5H14V17\" stroke-linecap=\"butt\" stroke-linejoin=\"miter\"/><path d=\"M31 29.5l1.5 2.5h-20l1.5-2.5\"/><path d=\"M11 14h23\" fill=\"none\" stroke-linejoin=\"miter\"/></g><g id=\"white-queen\" class=\"white queen\" fill=\"#fff\" fill-rule=\"evenodd\" stroke=\"#000\" stroke-width=\"1.5\" stroke-linecap=\"round\" stroke-linejoin=\"round\"><path d=\"M8 12a2 2 0 1 1-4 0 2 2 0 1 1 4 0zM24.5 7.5a2 2 0 1 1-4 0 2 2 0 1 1 4 0zM41 12a2 2 0 1 1-4 0 2 2 0 1 1 4 0zM16 8.5a2 2 0 1 1-4 0 2 2 0 1 1 4 0zM33 9a2 2 0 1 1-4 0 2 2 0 1 1 4 0z\"/><path d=\"M9 26c8.5-1.5 21-1.5 27 0l2-12-7 11V11l-5.5 13.5-3-15-3 15-5.5-14V25L7 14l2 12zM9 26c0 2 1.5 2 2.5 4 1 1.5 1 1 .5 3.5-1.5 1-1.5 2.5-1.5 2.5-1.5 1.5.5 2.5.5 2.5 6.5 1 16.5 1 23 0 0 0 1.5-1 0-2.5 0 0 .5-1.5-1-2.5-.5-2.5-.5-2 .5-3.5 1-2 2.5-2 2.5-4-8.5-1.5-18.5-1.5-27 0z\" stroke-linecap=\"butt\"/><path d=\"M11.5 30c3.5-1 18.5-1 22 0M12 33.5c6-1 15-1 21 0\" fill=\"none\"/></g><g id=\"white-king\" class=\"white king\" fill=\"none\" fill-rule=\"evenodd\" stroke=\"#000\" stroke-width=\"1.5\" stroke-linecap=\"round\" stroke-linejoin=\"round\"><path d=\"M22.5 11.63V6M20 8h5\" stroke-linejoin=\"miter\"/><path d=\"M22.5 25s4.5-7.5 3-10.5c0 0-1-2.5-3-2.5s-3 2.5-3 2.5c-1.5 3 3 10.5 3 10.5\" fill=\"#fff\" stroke-linecap=\"butt\" stroke-linejoin=\"miter\"/><path d=\"M11.5 37c5.5 3.5 15.5 3.5 21 0v-7s9-4.5 6-10.5c-4-6.5-13.5-3.5-16 4V27v-3.5c-3.5-7.5-13-10.5-16-4-3 6 5 10 5 10V37z\" fill=\"#fff\"/><path d=\"M11.5 30c5.5-3 15.5-3 21 0m-21 3.5c5.5-3 15.5-3 21 0m-21 3.5c5.5-3 15.5-3 21 0\"/></g><g id=\"black-pawn\" class=\"black pawn\"><path d=\"M22.5 9c-2.21 0-4 1.79-4 4 0 .89.29 1.71.78 2.38C17.33 16.5 16 18.59 16 21c0 2.03.94 3.84 2.41 5.03-3 1.06-7.41 5.55-7.41 13.47h23c0-7.92-4.41-12.41-7.41-13.47 1.47-1.19 2.41-3 2.41-5.03 0-2.41-1.33-4.5-3.28-5.62.49-.67.78-1.49.78-2.38 0-2.21-1.79-4-4-4z\" fill=\"#000\" stroke=\"#000\" stroke-width=\"1.5\" stroke-linecap=\"round\"/></g><g id=\"black-knight\" class=\"black knight\" fill=\"none\" fill-rule=\"evenodd\" stroke=\"#000\" stroke-width=\"1.5\" stroke-linecap=\"round\" stroke-linejoin=\"round\"><path d=\"M 22,10 C 32.5,11 38.5,18 38,39 L 15,39 C 15,30 25,32.5 23,18\" style=\"fill:#000000; stroke:#000000;\"/><path d=\"M 24,18 C 24.38,20.91 18.45,25.37 16,27 C 13,29 13.18,31.34 11,31 C 9.958,30.06 12.41,27.96 11,28 C 10,28 11.19,29.23 10,30 C 9,30 5.997,31 6,26 C 6,24 12,14 12,14 C 12,14 13.89,12.1 14,10.5 C 13.27,9.506 13.5,8.5 13.5,7.5 C 14.5,6.5 16.5,10 16.5,10 L 18.5,10 C 18.5,10 19.28,8.008 21,7 C 22,7 22,10 22,10\" style=\"fill:#000000; stroke:#000000;\"/><path d=\"M 9.5 25.5 A 0.5 0.5 0 1 1 8.5,25.5 A 0.5 0.5 0 1 1 9.5 25.5 z\" style=\"fill:#ececec; stroke:#ececec;\"/><path d=\"M 15 15.5 A 0.5 1.5 0 1 1 14,15.5 A 0.5 1.5 0 1 1 15 15.5 z\" transform=\"matrix(0.866,0.5,-0.5,0.866,9.693,-5.173)\" style=\"fill:#ececec; stroke:#ececec;\"/><path d=\"M 24.55,10.4 L 24.1,11.85 L 24.6,12 C 27.75,13 30.25,14.49 32.5,18.75 C 34.75,23.01 35.75,29.06 35.25,39 L 35.2,39.5 L 37.45,39.5 L 37.5,39 C 38,28.94 36.62,22.15 34.25,17.66 C 31.88,13.17 28.46,11.02 25.06,10.5 L 24.55,10.4 z \" style=\"fill:#ececec; stroke:none;\"/></g><g id=\"black-bishop\" class=\"black bishop\" fill=\"none\" fill-rule=\"evenodd\" stroke=\"#000\" stroke-width=\"1.5\" stroke-linecap=\"round\" stroke-linejoin=\"round\"><path d=\"M9 36c3.39-.97 10.11.43 13.5-2 3.39 2.43 10.11 1.03 13.5 2 0 0 1.65.54 3 2-.68.97-1.65.99-3 .5-3.39-.97-10.11.46-13.5-1-3.39 1.46-10.11.03-13.5 1-1.354.49-2.323.47-3-.5 1.354-1.94 3-2 3-2zm6-4c2.5 2.5 12.5 2.5 15 0 .5-1.5 0-2 0-2 0-2.5-2.5-4-2.5-4 5.5-1.5 6-11.5-5-15.5-11 4-10.5 14-5 15.5 0 0-2.5 1.5-2.5 4 0 0-.5.5 0 2zM25 8a2.5 2.5 0 1 1-5 0 2.5 2.5 0 1 1 5 0z\" fill=\"#000\" stroke-linecap=\"butt\"/><path d=\"M17.5 26h10M15 30h15m-7.5-14.5v5M20 18h5\" stroke=\"#fff\" stroke-linejoin=\"miter\"/></g><g id=\"black-rook\" class=\"black rook\" fill=\"#000\" fill-rule=\"evenodd\" stroke=\"#000\" stroke-width=\"1.5\" stroke-linecap=\"round\" stroke-linejoin=\"round\"><path d=\"M9 39h27v-3H9v3zM12.5 32l1.5-2.5h17l1.5 2.5h-20zM12 36v-4h21v4H12z\" stroke-linecap=\"butt\"/><path d=\"M14 29.5v-13h17v13H14z\" stroke-linecap=\"butt\" stroke-linejoin=\"miter\"/><path d=\"M14 16.5L11 14h23l-3 2.5H14zM11 14V9h4v2h5V9h5v2h5V9h4v5H11z\" stroke-linecap=\"butt\"/><path d=\"M12 35.5h21M13 31.5h19M14 29.5h17M14 16.5h17M11 14h23\" fill=\"none\" stroke=\"#fff\" stroke-width=\"1\" stroke-linejoin=\"miter\"/></g><g id=\"black-queen\" class=\"black queen\" fill=\"#000\" fill-rule=\"evenodd\" stroke=\"#000\" stroke-width=\"1.5\" stroke-linecap=\"round\" stroke-linejoin=\"round\"><g fill=\"#000\" stroke=\"none\"><circle cx=\"6\" cy=\"12\" r=\"2.75\"/><circle cx=\"14\" cy=\"9\" r=\"2.75\"/><circle cx=\"22.5\" cy=\"8\" r=\"2.75\"/><circle cx=\"31\" cy=\"9\" r=\"2.75\"/><circle cx=\"39\" cy=\"12\" r=\"2.75\"/></g><path d=\"M9 26c8.5-1.5 21-1.5 27 0l2.5-12.5L31 25l-.3-14.1-5.2 13.6-3-14.5-3 14.5-5.2-13.6L14 25 6.5 13.5 9 26zM9 26c0 2 1.5 2 2.5 4 1 1.5 1 1 .5 3.5-1.5 1-1.5 2.5-1.5 2.5-1.5 1.5.5 2.5.5 2.5 6.5 1 16.5 1 23 0 0 0 1.5-1 0-2.5 0 0 .5-1.5-1-2.5-.5-2.5-.5-2 .5-3.5 1-2 2.5-2 2.5-4-8.5-1.5-18.5-1.5-27 0z\" stroke-linecap=\"butt\"/><path d=\"M11 38.5a35 35 1 0 0 23 0\" fill=\"none\" stroke-linecap=\"butt\"/><path d=\"M11 29a35 35 1 0 1 23 0M12.5 31.5h20M11.5 34.5a35 35 1 0 0 22 0M10.5 37.5a35 35 1 0 0 24 0\" fill=\"none\" stroke=\"#fff\"/></g><g id=\"black-king\" class=\"black king\" fill=\"none\" fill-rule=\"evenodd\" stroke=\"#000\" stroke-width=\"1.5\" stroke-linecap=\"round\" stroke-linejoin=\"round\"><path d=\"M22.5 11.63V6\" stroke-linejoin=\"miter\"/><path d=\"M22.5 25s4.5-7.5 3-10.5c0 0-1-2.5-3-2.5s-3 2.5-3 2.5c-1.5 3 3 10.5 3 10.5\" fill=\"#000\" stroke-linecap=\"butt\" stroke-linejoin=\"miter\"/><path d=\"M11.5 37c5.5 3.5 15.5 3.5 21 0v-7s9-4.5 6-10.5c-4-6.5-13.5-3.5-16 4V27v-3.5c-3.5-7.5-13-10.5-16-4-3 6 5 10 5 10V37z\" fill=\"#000\"/><path d=\"M20 8h5\" stroke-linejoin=\"miter\"/><path d=\"M32 29.5s8.5-4 6.03-9.65C34.15 14 25 18 22.5 24.5l.01 2.1-.01-2.1C20 18 9.906 14 6.997 19.85c-2.497 5.65 4.853 9 4.853 9M11.5 30c5.5-3 15.5-3 21 0m-21 3.5c5.5-3 15.5-3 21 0m-21 3.5c5.5-3 15.5-3 21 0\" stroke=\"#fff\"/></g></defs><rect x=\"7.5\" y=\"7.5\" width=\"375\" height=\"375\" fill=\"none\" stroke=\"#212121\" stroke-width=\"15\"/><g transform=\"translate(20, 1) scale(0.75, 0.75)\" fill=\"#e5e5e5\" stroke=\"#e5e5e5\"><path d=\"M23.328 10.016q-1.742 0-2.414.398-.672.398-.672 1.36 0 .765.5 1.218.508.445 1.375.445 1.196 0 1.914-.843.727-.852.727-2.258v-.32zm2.867-.594v4.992h-1.437v-1.328q-.492.797-1.227 1.18-.734.375-1.797.375-1.343 0-2.14-.75-.79-.758-.79-2.024 0-1.476.985-2.226.992-.75 2.953-.75h2.016V8.75q0-.992-.656-1.531-.649-.547-1.829-.547-.75 0-1.46.18-.711.18-1.368.539V6.062q.79-.304 1.532-.453.742-.156 1.445-.156 1.898 0 2.836.984.937.985.937 2.985z\"/></g><g transform=\"translate(20, 375) scale(0.75, 0.75)\" fill=\"#e5e5e5\" stroke=\"#e5e5e5\"><path d=\"M23.328 10.016q-1.742 0-2.414.398-.672.398-.672 1.36 0 .765.5 1.218.508.445 1.375.445 1.196 0 1.914-.843.727-.852.727-2.258v-.32zm2.867-.594v4.992h-1.437v-1.328q-.492.797-1.227 1.18-.734.375-1.797.375-1.343 0-2.14-.75-.79-.758-.79-2.024 0-1.476.985-2.226.992-.75 2.953-.75h2.016V8.75q0-.992-.656-1.531-.649-.547-1.829-.547-.75 0-1.46.18-.711.18-1.368.539V6.062q.79-.304 1.532-.453.742-.156 1.445-.156 1.898 0 2.836.984.937.985.937 2.985z\"/></g><g transform=\"translate(65, 1) scale(0.75, 0.75)\" fill=\"#e5e5e5\" stroke=\"#e5e5e5\"><path d=\"M24.922 10.047q0-1.586-.656-2.485-.649-.906-1.79-.906-1.14 0-1.796.906-.649.899-.649 2.485 0 1.586.649 2.492.656.898 1.797.898 1.14 0 1.789-.898.656-.906.656-2.492zm-4.89-3.055q.452-.781 1.14-1.156.695-.383 1.656-.383 1.594 0 2.586 1.266 1 1.265 1 3.328 0 2.062-1 3.328-.992 1.266-2.586 1.266-.96 0-1.656-.375-.688-.383-1.14-1.164v1.312h-1.446V2.258h1.445z\"/></g><g transform=\"translate(65, 375) scale(0.75, 0.75)\" fill=\"#e5e5e5\" stroke=\"#e5e5e5\"><path d=\"M24.922 10.047q0-1.586-.656-2.485-.649-.906-1.79-.906-1.14 0-1.796.906-.649.899-.649 2.485 0 1.586.649 2.492.656.898 1.797.898 1.14 0 1.789-.898.656-.906.656-2.492zm-4.89-3.055q.452-.781 1.14-1.156.695-.383 1.656-.383 1.594 0 2.586 1.266 1 1.265 1 3.328 0 2.062-1 3.328-.992 1.266-2.586 1.266-.96 0-1.656-.375-.688-.383-1.14-1.164v1.312h-1.446V2.258h1.445z\"/></g><g transform=\"translate(110, 1) scale(0.75, 0.75)\" fill=\"#e5e5e5\" stroke=\"#e5e5e5\"><path d=\"M25.96 6v1.344q-.608-.336-1.226-.5-.609-.172-1.234-.172-1.398 0-2.172.89-.773.883-.773 2.485 0 1.601.773 2.492.774.883 2.172.883.625 0 1.234-.164.618-.172 1.227-.508v1.328q-.602.281-1.25.422-.64.14-1.367.14-1.977 0-3.14-1.242-1.165-1.242-1.165-3.351 0-2.14 1.172-3.367 1.18-1.227 3.227-1.227.664 0 1.296.14.633.134 1.227.407z\"/></g><g transform=\"translate(110, 375) scale(0.75, 0.75)\" fill=\"#e5e5e5\" stroke=\"#e5e5e5\"><path d=\"M25.96 6v1.344q-.608-.336-1.226-.5-.609-.172-1.234-.172-1.398 0-2.172.89-.773.883-.773 2.485 0 1.601.773 2.492.774.883 2.172.883.625 0 1.234-.164.618-.172 1.227-.508v1.328q-.602.281-1.25.422-.64.14-1.367.14-1.977 0-3.14-1.242-1.165-1.242-1.165-3.351 0-2.14 1.172-3.367 1.18-1.227 3.227-1.227.664 0 1.296.14.633.134 1.227.407z\"/></g><g transform=\"translate(155, 1) scale(0.75, 0.75)\" fill=\"#e5e5e5\" stroke=\"#e5e5e5\"><path d=\"M24.973 6.992V2.258h1.437v12.156h-1.437v-1.312q-.453.78-1.149 1.164-.687.375-1.656.375-1.586 0-2.586-1.266-.992-1.266-.992-3.328 0-2.063.992-3.328 1-1.266 2.586-1.266.969 0 1.656.383.696.375 1.149 1.156zm-4.899 3.055q0 1.586.649 2.492.656.898 1.797.898 1.14 0 1.796-.898.657-.906.657-2.492 0-1.586-.657-2.485-.656-.906-1.796-.906-1.141 0-1.797.906-.649.899-.649 2.485z\"/></g><g transform=\"translate(155, 375) scale(0.75, 0.75)\" fill=\"#e5e5e5\" stroke=\"#e5e5e5\"><path d=\"M24.973 6.992V2.258h1.437v12.156h-1.437v-1.312q-.453.78-1.149 1.164-.687.375-1.656.375-1.586 0-2.586-1.266-.992-1.266-.992-3.328 0-2.063.992-3.328 1-1.266 2.586-1.266.969 0 1.656.383.696.375 1.149 1.156zm-4.899 3.055q0 1.586.649 2.492.656.898 1.797.898 1.14 0 1.796-.898.657-.906.657-2.492 0-1.586-.657-2.485-.656-.906-1.796-.906-1.141 0-1.797.906-.649.899-.649 2.485z\"/></g><g transform=\"translate(200, 1) scale(0.75, 0.75)\" fill=\"#e5e5e5\" stroke=\"#e5e5e5\"><path d=\"M26.555 9.68v.703h-6.61q.094 1.484.89 2.265.806.774 2.235.774.828 0 1.602-.203.781-.203 1.547-.61v1.36q-.774.328-1.586.5-.813.172-1.649.172-2.093 0-3.32-1.22-1.219-1.218-1.219-3.296 0-2.148 1.157-3.406 1.164-1.266 3.132-1.266 1.766 0 2.79 1.14 1.03 1.134 1.03 3.087zm-1.438-.422q-.015-1.18-.664-1.883-.64-.703-1.703-.703-1.203 0-1.93.68-.718.68-.828 1.914z\"/></g><g transform=\"translate(200, 375) scale(0.75, 0.75)\" fill=\"#e5e5e5\" stroke=\"#e5e5e5\"><path d=\"M26.555 9.68v.703h-6.61q.094 1.484.89 2.265.806.774 2.235.774.828 0 1.602-.203.781-.203 1.547-.61v1.36q-.774.328-1.586.5-.813.172-1.649.172-2.093 0-3.32-1.22-1.219-1.218-1.219-3.296 0-2.148 1.157-3.406 1.164-1.266 3.132-1.266 1.766 0 2.79 1.14 1.03 1.134 1.03 3.087zm-1.438-.422q-.015-1.18-.664-1.883-.64-.703-1.703-.703-1.203 0-1.93.68-.718.68-.828 1.914z\"/></g><g transform=\"translate(245, 1) scale(0.75, 0.75)\" fill=\"#e5e5e5\" stroke=\"#e5e5e5\"><path d=\"M25.285 2.258v1.195H23.91q-.773 0-1.078.313-.297.312-.297 1.125v.773h2.367v1.117h-2.367v7.633H21.09V6.781h-1.375V5.664h1.375v-.61q0-1.46.68-2.124.68-.672 2.156-.672z\"/></g><g transform=\"translate(245, 375) scale(0.75, 0.75)\" fill=\"#e5e5e5\" stroke=\"#e5e5e5\"><path d=\"M25.285 2.258v1.195H23.91q-.773 0-1.078.313-.297.312-.297 1.125v.773h2.367v1.117h-2.367v7.633H21.09V6.781h-1.375V5.664h1.375v-.61q0-1.46.68-2.124.68-.672 2.156-.672z\"/></g><g transform=\"translate(290, 1) scale(0.75, 0.75)\" fill=\"#e5e5e5\" stroke=\"#e5e5e5\"><path d=\"M24.973 9.937q0-1.562-.649-2.421-.64-.86-1.804-.86-1.157 0-1.805.86-.64.859-.64 2.421 0 1.555.64 2.415.648.859 1.805.859 1.164 0 1.804-.86.649-.859.649-2.414zm1.437 3.391q0 2.234-.992 3.32-.992 1.094-3.04 1.094-.757 0-1.429-.117-.672-.11-1.304-.344v-1.398q.632.344 1.25.508.617.164 1.257.164 1.414 0 2.118-.743.703-.734.703-2.226v-.711q-.446.773-1.141 1.156-.695.383-1.664.383-1.61 0-2.594-1.227-.984-1.226-.984-3.25 0-2.03.984-3.257.985-1.227 2.594-1.227.969 0 1.664.383t1.14 1.156V5.664h1.438z\"/></g><g transform=\"translate(290, 375) scale(0.75, 0.75)\" fill=\"#e5e5e5\" stroke=\"#e5e5e5\"><path d=\"M24.973 9.937q0-1.562-.649-2.421-.64-.86-1.804-.86-1.157 0-1.805.86-.64.859-.64 2.421 0 1.555.64 2.415.648.859 1.805.859 1.164 0 1.804-.86.649-.859.649-2.414zm1.437 3.391q0 2.234-.992 3.32-.992 1.094-3.04 1.094-.757 0-1.429-.117-.672-.11-1.304-.344v-1.398q.632.344 1.25.508.617.164 1.257.164 1.414 0 2.118-.743.703-.734.703-2.226v-.711q-.446.773-1.141 1.156-.695.383-1.664.383-1.61 0-2.594-1.227-.984-1.226-.984-3.25 0-2.03.984-3.257.985-1.227 2.594-1.227.969 0 1.664.383t1.14 1.156V5.664h1.438z\"/></g><g transform=\"translate(335, 1) scale(0.75, 0.75)\" fill=\"#e5e5e5\" stroke=\"#e5e5e5\"><path d=\"M26.164 9.133v5.281h-1.437V9.18q0-1.243-.485-1.86-.484-.617-1.453-.617-1.164 0-1.836.742-.672.742-.672 2.024v4.945h-1.445V2.258h1.445v4.765q.516-.789 1.211-1.18.703-.39 1.617-.39 1.508 0 2.282.938.773.93.773 2.742z\"/></g><g transform=\"translate(335, 375) scale(0.75, 0.75)\" fill=\"#e5e5e5\" stroke=\"#e5e5e5\"><path d=\"M26.164 9.133v5.281h-1.437V9.18q0-1.243-.485-1.86-.484-.617-1.453-.617-1.164 0-1.836.742-.672.742-.672 2.024v4.945h-1.445V2.258h1.445v4.765q.516-.789 1.211-1.18.703-.39 1.617-.39 1.508 0 2.282.938.773.93.773 2.742z\"/></g><g transform=\"translate(0, 335) scale(0.75, 0.75)\" fill=\"#e5e5e5\" stroke=\"#e5e5e5\"><path d=\"M6.754 26.996h2.578v-8.898l-2.805.562v-1.437l2.79-.563h1.578v10.336h2.578v1.328h-6.72z\"/></g><g transform=\"translate(375, 335) scale(0.75, 0.75)\" fill=\"#e5e5e5\" stroke=\"#e5e5e5\"><path d=\"M6.754 26.996h2.578v-8.898l-2.805.562v-1.437l2.79-.563h1.578v10.336h2.578v1.328h-6.72z\"/></g><g transform=\"translate(0, 290) scale(0.75, 0.75)\" fill=\"#e5e5e5\" stroke=\"#e5e5e5\"><path d=\"M8.195 26.996h5.508v1.328H6.297v-1.328q.898-.93 2.445-2.492 1.555-1.57 1.953-2.024.758-.851 1.055-1.437.305-.594.305-1.164 0-.93-.657-1.516-.648-.586-1.695-.586-.742 0-1.57.258-.82.258-1.758.781v-1.593q.953-.383 1.781-.578.828-.196 1.516-.196 1.812 0 2.89.906 1.079.907 1.079 2.422 0 .72-.274 1.368-.265.64-.976 1.515-.196.227-1.243 1.313-1.046 1.078-2.953 3.023z\"/></g><g transform=\"translate(375, 290) scale(0.75, 0.75)\" fill=\"#e5e5e5\" stroke=\"#e5e5e5\"><path d=\"M8.195 26.996h5.508v1.328H6.297v-1.328q.898-.93 2.445-2.492 1.555-1.57 1.953-2.024.758-.851 1.055-1.437.305-.594.305-1.164 0-.93-.657-1.516-.648-.586-1.695-.586-.742 0-1.57.258-.82.258-1.758.781v-1.593q.953-.383 1.781-.578.828-.196 1.516-.196 1.812 0 2.89.906 1.079.907 1.079 2.422 0 .72-.274 1.368-.265.64-.976 1.515-.196.227-1.243 1.313-1.046 1.078-2.953 3.023z\"/></g><g transform=\"translate(0, 245) scale(0.75, 0.75)\" fill=\"#e5e5e5\" stroke=\"#e5e5e5\"><path d=\"M11.434 22.035q1.132.242 1.765 1.008.64.766.64 1.89 0 1.727-1.187 2.672-1.187.946-3.375.946-.734 0-1.515-.149-.774-.14-1.602-.43V26.45q.656.383 1.438.578.78.196 1.632.196 1.485 0 2.258-.586.782-.586.782-1.703 0-1.032-.727-1.61-.719-.586-2.008-.586h-1.36v-1.297h1.423q1.164 0 1.78-.46.618-.47.618-1.344 0-.899-.64-1.375-.633-.485-1.82-.485-.65 0-1.391.141-.743.14-1.633.437V16.95q.898-.25 1.68-.375.788-.125 1.484-.125 1.797 0 2.844.82 1.046.813 1.046 2.204 0 .968-.554 1.64-.555.664-1.578.922z\"/></g><g transform=\"translate(375, 245) scale(0.75, 0.75)\" fill=\"#e5e5e5\" stroke=\"#e5e5e5\"><path d=\"M11.434 22.035q1.132.242 1.765 1.008.64.766.64 1.89 0 1.727-1.187 2.672-1.187.946-3.375.946-.734 0-1.515-.149-.774-.14-1.602-.43V26.45q.656.383 1.438.578.78.196 1.632.196 1.485 0 2.258-.586.782-.586.782-1.703 0-1.032-.727-1.61-.719-.586-2.008-.586h-1.36v-1.297h1.423q1.164 0 1.78-.46.618-.47.618-1.344 0-.899-.64-1.375-.633-.485-1.82-.485-.65 0-1.391.141-.743.14-1.633.437V16.95q.898-.25 1.68-.375.788-.125 1.484-.125 1.797 0 2.844.82 1.046.813 1.046 2.204 0 .968-.554 1.64-.555.664-1.578.922z\"/></g><g transform=\"translate(0, 200) scale(0.75, 0.75)\" fill=\"#e5e5e5\" stroke=\"#e5e5e5\"><path d=\"M11.016 18.035L7.03 24.262h3.985zm-.414-1.375h1.984v7.602h1.664v1.312h-1.664v2.75h-1.57v-2.75H5.75v-1.523z\"/></g><g transform=\"translate(375, 200) scale(0.75, 0.75)\" fill=\"#e5e5e5\" stroke=\"#e5e5e5\"><path d=\"M11.016 18.035L7.03 24.262h3.985zm-.414-1.375h1.984v7.602h1.664v1.312h-1.664v2.75h-1.57v-2.75H5.75v-1.523z\"/></g><g transform=\"translate(0, 155) scale(0.75, 0.75)\" fill=\"#e5e5e5\" stroke=\"#e5e5e5\"><path d=\"M6.719 16.66h6.195v1.328h-4.75v2.86q.344-.118.688-.172.343-.063.687-.063 1.953 0 3.094 1.07 1.14 1.07 1.14 2.899 0 1.883-1.171 2.93-1.172 1.039-3.305 1.039-.735 0-1.5-.125-.758-.125-1.57-.375v-1.586q.703.383 1.453.57.75.188 1.586.188 1.351 0 2.14-.711.79-.711.79-1.93 0-1.219-.79-1.93-.789-.71-2.14-.71-.633 0-1.266.14-.625.14-1.281.438z\"/></g><g transform=\"translate(375, 155) scale(0.75, 0.75)\" fill=\"#e5e5e5\" stroke=\"#e5e5e5\"><path d=\"M6.719 16.66h6.195v1.328h-4.75v2.86q.344-.118.688-.172.343-.063.687-.063 1.953 0 3.094 1.07 1.14 1.07 1.14 2.899 0 1.883-1.171 2.93-1.172 1.039-3.305 1.039-.735 0-1.5-.125-.758-.125-1.57-.375v-1.586q.703.383 1.453.57.75.188 1.586.188 1.351 0 2.14-.711.79-.711.79-1.93 0-1.219-.79-1.93-.789-.71-2.14-.71-.633 0-1.266.14-.625.14-1.281.438z\"/></g><g transform=\"translate(0, 110) scale(0.75, 0.75)\" fill=\"#e5e5e5\" stroke=\"#e5e5e5\"><path d=\"M10.137 21.863q-1.063 0-1.688.727-.617.726-.617 1.992 0 1.258.617 1.992.625.727 1.688.727 1.062 0 1.68-.727.624-.734.624-1.992 0-1.266-.625-1.992-.617-.727-1.68-.727zm3.133-4.945v1.437q-.594-.28-1.204-.43-.601-.148-1.195-.148-1.562 0-2.39 1.055-.82 1.055-.938 3.188.46-.68 1.156-1.04.696-.367 1.531-.367 1.758 0 2.774 1.07 1.023 1.063 1.023 2.899 0 1.797-1.062 2.883-1.063 1.086-2.828 1.086-2.024 0-3.094-1.547-1.07-1.555-1.07-4.5 0-2.766 1.312-4.406 1.313-1.649 3.524-1.649.593 0 1.195.117.61.118 1.266.352z\"/></g><g transform=\"translate(375, 110) scale(0.75, 0.75)\" fill=\"#e5e5e5\" stroke=\"#e5e5e5\"><path d=\"M10.137 21.863q-1.063 0-1.688.727-.617.726-.617 1.992 0 1.258.617 1.992.625.727 1.688.727 1.062 0 1.68-.727.624-.734.624-1.992 0-1.266-.625-1.992-.617-.727-1.68-.727zm3.133-4.945v1.437q-.594-.28-1.204-.43-.601-.148-1.195-.148-1.562 0-2.39 1.055-.82 1.055-.938 3.188.46-.68 1.156-1.04.696-.367 1.531-.367 1.758 0 2.774 1.07 1.023 1.063 1.023 2.899 0 1.797-1.062 2.883-1.063 1.086-2.828 1.086-2.024 0-3.094-1.547-1.07-1.555-1.07-4.5 0-2.766 1.312-4.406 1.313-1.649 3.524-1.649.593 0 1.195.117.61.118 1.266.352z\"/></g><g transform=\"translate(0, 65) scale(0.75, 0.75)\" fill=\"#e5e5e5\" stroke=\"#e5e5e5\"><path d=\"M6.25 16.66h7.5v.672L9.516 28.324H7.867l3.985-10.336H6.25z\"/></g><g transform=\"translate(375, 65) scale(0.75, 0.75)\" fill=\"#e5e5e5\" stroke=\"#e5e5e5\"><path d=\"M6.25 16.66h7.5v.672L9.516 28.324H7.867l3.985-10.336H6.25z\"/></g><g transform=\"translate(0, 20) scale(0.75, 0.75)\" fill=\"#e5e5e5\" stroke=\"#e5e5e5\"><path d=\"M10 22.785q-1.125 0-1.773.602-.641.601-.641 1.656t.64 1.656q.649.602 1.774.602t1.773-.602q.649-.61.649-1.656 0-1.055-.649-1.656-.64-.602-1.773-.602zm-1.578-.672q-1.016-.25-1.586-.945-.563-.695-.563-1.695 0-1.399.993-2.211 1-.813 2.734-.813 1.742 0 2.734.813.993.812.993 2.21 0 1-.57 1.696-.563.695-1.571.945 1.14.266 1.773 1.04.641.773.641 1.89 0 1.695-1.04 2.602-1.03.906-2.96.906t-2.969-.906Q6 26.738 6 25.043q0-1.117.64-1.89.641-.774 1.782-1.04zm-.578-2.492q0 .906.562 1.414.57.508 1.594.508 1.016 0 1.586-.508.578-.508.578-1.414 0-.906-.578-1.414-.57-.508-1.586-.508-1.023 0-1.594.508-.562.508-.562 1.414z\"/></g><g transform=\"translate(375, 20) scale(0.75, 0.75)\" fill=\"#e5e5e5\" stroke=\"#e5e5e5\"><path d=\"M10 22.785q-1.125 0-1.773.602-.641.601-.641 1.656t.64 1.656q.649.602 1.774.602t1.773-.602q.649-.61.649-1.656 0-1.055-.649-1.656-.64-.602-1.773-.602zm-1.578-.672q-1.016-.25-1.586-.945-.563-.695-.563-1.695 0-1.399.993-2.211 1-.813 2.734-.813 1.742 0 2.734.813.993.812.993 2.21 0 1-.57 1.696-.563.695-1.571.945 1.14.266 1.773 1.04.641.773.641 1.89 0 1.695-1.04 2.602-1.03.906-2.96.906t-2.969-.906Q6 26.738 6 25.043q0-1.117.64-1.89.641-.774 1.782-1.04zm-.578-2.492q0 .906.562 1.414.57.508 1.594.508 1.016 0 1.586-.508.578-.508.578-1.414 0-.906-.578-1.414-.57-.508-1.586-.508-1.023 0-1.594.508-.562.508-.562 1.414z\"/></g><rect x=\"15\" y=\"330\" width=\"45\" height=\"45\" class=\"square dark a1\" stroke=\"none\" fill=\"#d18b47\"/><rect x=\"60\" y=\"330\" width=\"45\" height=\"45\" class=\"square light b1\" stroke=\"none\" fill=\"#ffce9e\"/><rect x=\"105\" y=\"330\" width=\"45\" height=\"45\" class=\"square dark c1\" stroke=\"none\" fill=\"#d18b47\"/><rect x=\"150\" y=\"330\" width=\"45\" height=\"45\" class=\"square light d1\" stroke=\"none\" fill=\"#ffce9e\"/><rect x=\"195\" y=\"330\" width=\"45\" height=\"45\" class=\"square dark e1\" stroke=\"none\" fill=\"#d18b47\"/><rect x=\"240\" y=\"330\" width=\"45\" height=\"45\" class=\"square light f1\" stroke=\"none\" fill=\"#ffce9e\"/><rect x=\"285\" y=\"330\" width=\"45\" height=\"45\" class=\"square dark g1\" stroke=\"none\" fill=\"#d18b47\"/><rect x=\"330\" y=\"330\" width=\"45\" height=\"45\" class=\"square light h1\" stroke=\"none\" fill=\"#ffce9e\"/><rect x=\"15\" y=\"285\" width=\"45\" height=\"45\" class=\"square light a2\" stroke=\"none\" fill=\"#ffce9e\"/><rect x=\"60\" y=\"285\" width=\"45\" height=\"45\" class=\"square dark b2\" stroke=\"none\" fill=\"#d18b47\"/><rect x=\"105\" y=\"285\" width=\"45\" height=\"45\" class=\"square light c2\" stroke=\"none\" fill=\"#ffce9e\"/><rect x=\"150\" y=\"285\" width=\"45\" height=\"45\" class=\"square dark d2\" stroke=\"none\" fill=\"#d18b47\"/><rect x=\"195\" y=\"285\" width=\"45\" height=\"45\" class=\"square light e2\" stroke=\"none\" fill=\"#ffce9e\"/><rect x=\"240\" y=\"285\" width=\"45\" height=\"45\" class=\"square dark f2\" stroke=\"none\" fill=\"#d18b47\"/><rect x=\"285\" y=\"285\" width=\"45\" height=\"45\" class=\"square light g2\" stroke=\"none\" fill=\"#ffce9e\"/><rect x=\"330\" y=\"285\" width=\"45\" height=\"45\" class=\"square dark h2\" stroke=\"none\" fill=\"#d18b47\"/><rect x=\"15\" y=\"240\" width=\"45\" height=\"45\" class=\"square dark a3\" stroke=\"none\" fill=\"#d18b47\"/><rect x=\"60\" y=\"240\" width=\"45\" height=\"45\" class=\"square light b3\" stroke=\"none\" fill=\"#ffce9e\"/><rect x=\"105\" y=\"240\" width=\"45\" height=\"45\" class=\"square dark c3\" stroke=\"none\" fill=\"#d18b47\"/><rect x=\"150\" y=\"240\" width=\"45\" height=\"45\" class=\"square light d3\" stroke=\"none\" fill=\"#ffce9e\"/><rect x=\"195\" y=\"240\" width=\"45\" height=\"45\" class=\"square dark e3\" stroke=\"none\" fill=\"#d18b47\"/><rect x=\"240\" y=\"240\" width=\"45\" height=\"45\" class=\"square light f3\" stroke=\"none\" fill=\"#ffce9e\"/><rect x=\"285\" y=\"240\" width=\"45\" height=\"45\" class=\"square dark g3\" stroke=\"none\" fill=\"#d18b47\"/><rect x=\"330\" y=\"240\" width=\"45\" height=\"45\" class=\"square light h3\" stroke=\"none\" fill=\"#ffce9e\"/><rect x=\"15\" y=\"195\" width=\"45\" height=\"45\" class=\"square light a4\" stroke=\"none\" fill=\"#ffce9e\"/><rect x=\"60\" y=\"195\" width=\"45\" height=\"45\" class=\"square dark b4\" stroke=\"none\" fill=\"#d18b47\"/><rect x=\"105\" y=\"195\" width=\"45\" height=\"45\" class=\"square light c4\" stroke=\"none\" fill=\"#ffce9e\"/><rect x=\"150\" y=\"195\" width=\"45\" height=\"45\" class=\"square dark d4\" stroke=\"none\" fill=\"#d18b47\"/><rect x=\"195\" y=\"195\" width=\"45\" height=\"45\" class=\"square light e4\" stroke=\"none\" fill=\"#ffce9e\"/><rect x=\"240\" y=\"195\" width=\"45\" height=\"45\" class=\"square dark f4\" stroke=\"none\" fill=\"#d18b47\"/><rect x=\"285\" y=\"195\" width=\"45\" height=\"45\" class=\"square light g4\" stroke=\"none\" fill=\"#ffce9e\"/><rect x=\"330\" y=\"195\" width=\"45\" height=\"45\" class=\"square dark h4\" stroke=\"none\" fill=\"#d18b47\"/><rect x=\"15\" y=\"150\" width=\"45\" height=\"45\" class=\"square dark a5\" stroke=\"none\" fill=\"#d18b47\"/><rect x=\"60\" y=\"150\" width=\"45\" height=\"45\" class=\"square light b5\" stroke=\"none\" fill=\"#ffce9e\"/><rect x=\"105\" y=\"150\" width=\"45\" height=\"45\" class=\"square dark c5\" stroke=\"none\" fill=\"#d18b47\"/><rect x=\"150\" y=\"150\" width=\"45\" height=\"45\" class=\"square light d5\" stroke=\"none\" fill=\"#ffce9e\"/><rect x=\"195\" y=\"150\" width=\"45\" height=\"45\" class=\"square dark e5\" stroke=\"none\" fill=\"#d18b47\"/><rect x=\"240\" y=\"150\" width=\"45\" height=\"45\" class=\"square light f5\" stroke=\"none\" fill=\"#ffce9e\"/><rect x=\"285\" y=\"150\" width=\"45\" height=\"45\" class=\"square dark g5\" stroke=\"none\" fill=\"#d18b47\"/><rect x=\"330\" y=\"150\" width=\"45\" height=\"45\" class=\"square light h5\" stroke=\"none\" fill=\"#ffce9e\"/><rect x=\"15\" y=\"105\" width=\"45\" height=\"45\" class=\"square light a6\" stroke=\"none\" fill=\"#ffce9e\"/><rect x=\"60\" y=\"105\" width=\"45\" height=\"45\" class=\"square dark b6\" stroke=\"none\" fill=\"#d18b47\"/><rect x=\"105\" y=\"105\" width=\"45\" height=\"45\" class=\"square light c6\" stroke=\"none\" fill=\"#ffce9e\"/><rect x=\"150\" y=\"105\" width=\"45\" height=\"45\" class=\"square dark d6\" stroke=\"none\" fill=\"#d18b47\"/><rect x=\"195\" y=\"105\" width=\"45\" height=\"45\" class=\"square light e6\" stroke=\"none\" fill=\"#ffce9e\"/><rect x=\"240\" y=\"105\" width=\"45\" height=\"45\" class=\"square dark f6\" stroke=\"none\" fill=\"#d18b47\"/><rect x=\"285\" y=\"105\" width=\"45\" height=\"45\" class=\"square light g6\" stroke=\"none\" fill=\"#ffce9e\"/><rect x=\"330\" y=\"105\" width=\"45\" height=\"45\" class=\"square dark h6\" stroke=\"none\" fill=\"#d18b47\"/><rect x=\"15\" y=\"60\" width=\"45\" height=\"45\" class=\"square dark a7\" stroke=\"none\" fill=\"#d18b47\"/><rect x=\"60\" y=\"60\" width=\"45\" height=\"45\" class=\"square light b7\" stroke=\"none\" fill=\"#ffce9e\"/><rect x=\"105\" y=\"60\" width=\"45\" height=\"45\" class=\"square dark c7\" stroke=\"none\" fill=\"#d18b47\"/><rect x=\"150\" y=\"60\" width=\"45\" height=\"45\" class=\"square light d7\" stroke=\"none\" fill=\"#ffce9e\"/><rect x=\"195\" y=\"60\" width=\"45\" height=\"45\" class=\"square dark e7\" stroke=\"none\" fill=\"#d18b47\"/><rect x=\"240\" y=\"60\" width=\"45\" height=\"45\" class=\"square light f7\" stroke=\"none\" fill=\"#ffce9e\"/><rect x=\"285\" y=\"60\" width=\"45\" height=\"45\" class=\"square dark g7\" stroke=\"none\" fill=\"#d18b47\"/><rect x=\"330\" y=\"60\" width=\"45\" height=\"45\" class=\"square light h7\" stroke=\"none\" fill=\"#ffce9e\"/><rect x=\"15\" y=\"15\" width=\"45\" height=\"45\" class=\"square light a8\" stroke=\"none\" fill=\"#ffce9e\"/><rect x=\"60\" y=\"15\" width=\"45\" height=\"45\" class=\"square dark b8\" stroke=\"none\" fill=\"#d18b47\"/><rect x=\"105\" y=\"15\" width=\"45\" height=\"45\" class=\"square light c8\" stroke=\"none\" fill=\"#ffce9e\"/><rect x=\"150\" y=\"15\" width=\"45\" height=\"45\" class=\"square dark d8\" stroke=\"none\" fill=\"#d18b47\"/><rect x=\"195\" y=\"15\" width=\"45\" height=\"45\" class=\"square light e8\" stroke=\"none\" fill=\"#ffce9e\"/><rect x=\"240\" y=\"15\" width=\"45\" height=\"45\" class=\"square dark f8\" stroke=\"none\" fill=\"#d18b47\"/><rect x=\"285\" y=\"15\" width=\"45\" height=\"45\" class=\"square light g8\" stroke=\"none\" fill=\"#ffce9e\"/><rect x=\"330\" y=\"15\" width=\"45\" height=\"45\" class=\"square dark h8\" stroke=\"none\" fill=\"#d18b47\"/><use href=\"#white-rook\" xlink:href=\"#white-rook\" transform=\"translate(15, 330)\"/><use href=\"#white-bishop\" xlink:href=\"#white-bishop\" transform=\"translate(105, 330)\"/><use href=\"#white-queen\" xlink:href=\"#white-queen\" transform=\"translate(150, 330)\"/><use href=\"#white-king\" xlink:href=\"#white-king\" transform=\"translate(195, 330)\"/><use href=\"#white-knight\" xlink:href=\"#white-knight\" transform=\"translate(285, 330)\"/><use href=\"#white-rook\" xlink:href=\"#white-rook\" transform=\"translate(330, 330)\"/><use href=\"#white-pawn\" xlink:href=\"#white-pawn\" transform=\"translate(15, 285)\"/><use href=\"#white-pawn\" xlink:href=\"#white-pawn\" transform=\"translate(60, 285)\"/><use href=\"#white-pawn\" xlink:href=\"#white-pawn\" transform=\"translate(240, 285)\"/><use href=\"#white-pawn\" xlink:href=\"#white-pawn\" transform=\"translate(285, 285)\"/><use href=\"#white-pawn\" xlink:href=\"#white-pawn\" transform=\"translate(330, 285)\"/><use href=\"#white-knight\" xlink:href=\"#white-knight\" transform=\"translate(105, 240)\"/><use href=\"#white-bishop\" xlink:href=\"#white-bishop\" transform=\"translate(105, 195)\"/><use href=\"#white-pawn\" xlink:href=\"#white-pawn\" transform=\"translate(150, 195)\"/><use href=\"#white-pawn\" xlink:href=\"#white-pawn\" transform=\"translate(195, 195)\"/><use href=\"#black-pawn\" xlink:href=\"#black-pawn\" transform=\"translate(105, 105)\"/><use href=\"#black-pawn\" xlink:href=\"#black-pawn\" transform=\"translate(195, 105)\"/><use href=\"#black-knight\" xlink:href=\"#black-knight\" transform=\"translate(240, 105)\"/><use href=\"#black-pawn\" xlink:href=\"#black-pawn\" transform=\"translate(15, 60)\"/><use href=\"#black-pawn\" xlink:href=\"#black-pawn\" transform=\"translate(60, 60)\"/><use href=\"#black-pawn\" xlink:href=\"#black-pawn\" transform=\"translate(240, 60)\"/><use href=\"#black-pawn\" xlink:href=\"#black-pawn\" transform=\"translate(285, 60)\"/><use href=\"#black-pawn\" xlink:href=\"#black-pawn\" transform=\"translate(330, 60)\"/><use href=\"#black-rook\" xlink:href=\"#black-rook\" transform=\"translate(15, 15)\"/><use href=\"#black-knight\" xlink:href=\"#black-knight\" transform=\"translate(60, 15)\"/><use href=\"#black-bishop\" xlink:href=\"#black-bishop\" transform=\"translate(105, 15)\"/><use href=\"#black-queen\" xlink:href=\"#black-queen\" transform=\"translate(150, 15)\"/><use href=\"#black-king\" xlink:href=\"#black-king\" transform=\"translate(195, 15)\"/><use href=\"#black-bishop\" xlink:href=\"#black-bishop\" transform=\"translate(240, 15)\"/><use href=\"#black-rook\" xlink:href=\"#black-rook\" transform=\"translate(330, 15)\"/></svg>"
      ],
      "text/plain": [
       "<IPython.core.display.SVG object>"
      ]
     },
     "execution_count": 57,
     "metadata": {},
     "output_type": "execute_result"
    }
   ],
   "source": [
    "from IPython.display import SVG\n",
    "\n",
    "# Show final position of the first game\n",
    "SVG(chess.svg.board(board))\n",
    "#resize the board to smaller size\n",
    "SVG(chess.svg.board(board, size=400))"
   ]
  },
  {
   "cell_type": "code",
   "execution_count": 84,
   "metadata": {},
   "outputs": [
    {
     "data": {
      "image/svg+xml": [
       "<svg xmlns=\"http://www.w3.org/2000/svg\" xmlns:xlink=\"http://www.w3.org/1999/xlink\" viewBox=\"0 0 390 390\" width=\"400\" height=\"400\"><desc><pre>r n b q k b n r\n",
       "p p p . . p p p\n",
       ". . . . p . . .\n",
       ". . . . . . . .\n",
       ". . p P . . . .\n",
       ". . N . . . . .\n",
       "P P . . P P P P\n",
       "R . B Q K B N R</pre></desc><defs><g id=\"white-pawn\" class=\"white pawn\"><path d=\"M22.5 9c-2.21 0-4 1.79-4 4 0 .89.29 1.71.78 2.38C17.33 16.5 16 18.59 16 21c0 2.03.94 3.84 2.41 5.03-3 1.06-7.41 5.55-7.41 13.47h23c0-7.92-4.41-12.41-7.41-13.47 1.47-1.19 2.41-3 2.41-5.03 0-2.41-1.33-4.5-3.28-5.62.49-.67.78-1.49.78-2.38 0-2.21-1.79-4-4-4z\" fill=\"#fff\" stroke=\"#000\" stroke-width=\"1.5\" stroke-linecap=\"round\"/></g><g id=\"white-knight\" class=\"white knight\" fill=\"none\" fill-rule=\"evenodd\" stroke=\"#000\" stroke-width=\"1.5\" stroke-linecap=\"round\" stroke-linejoin=\"round\"><path d=\"M 22,10 C 32.5,11 38.5,18 38,39 L 15,39 C 15,30 25,32.5 23,18\" style=\"fill:#ffffff; stroke:#000000;\"/><path d=\"M 24,18 C 24.38,20.91 18.45,25.37 16,27 C 13,29 13.18,31.34 11,31 C 9.958,30.06 12.41,27.96 11,28 C 10,28 11.19,29.23 10,30 C 9,30 5.997,31 6,26 C 6,24 12,14 12,14 C 12,14 13.89,12.1 14,10.5 C 13.27,9.506 13.5,8.5 13.5,7.5 C 14.5,6.5 16.5,10 16.5,10 L 18.5,10 C 18.5,10 19.28,8.008 21,7 C 22,7 22,10 22,10\" style=\"fill:#ffffff; stroke:#000000;\"/><path d=\"M 9.5 25.5 A 0.5 0.5 0 1 1 8.5,25.5 A 0.5 0.5 0 1 1 9.5 25.5 z\" style=\"fill:#000000; stroke:#000000;\"/><path d=\"M 15 15.5 A 0.5 1.5 0 1 1 14,15.5 A 0.5 1.5 0 1 1 15 15.5 z\" transform=\"matrix(0.866,0.5,-0.5,0.866,9.693,-5.173)\" style=\"fill:#000000; stroke:#000000;\"/></g><g id=\"white-bishop\" class=\"white bishop\" fill=\"none\" fill-rule=\"evenodd\" stroke=\"#000\" stroke-width=\"1.5\" stroke-linecap=\"round\" stroke-linejoin=\"round\"><g fill=\"#fff\" stroke-linecap=\"butt\"><path d=\"M9 36c3.39-.97 10.11.43 13.5-2 3.39 2.43 10.11 1.03 13.5 2 0 0 1.65.54 3 2-.68.97-1.65.99-3 .5-3.39-.97-10.11.46-13.5-1-3.39 1.46-10.11.03-13.5 1-1.354.49-2.323.47-3-.5 1.354-1.94 3-2 3-2zM15 32c2.5 2.5 12.5 2.5 15 0 .5-1.5 0-2 0-2 0-2.5-2.5-4-2.5-4 5.5-1.5 6-11.5-5-15.5-11 4-10.5 14-5 15.5 0 0-2.5 1.5-2.5 4 0 0-.5.5 0 2zM25 8a2.5 2.5 0 1 1-5 0 2.5 2.5 0 1 1 5 0z\"/></g><path d=\"M17.5 26h10M15 30h15m-7.5-14.5v5M20 18h5\" stroke-linejoin=\"miter\"/></g><g id=\"white-rook\" class=\"white rook\" fill=\"#fff\" fill-rule=\"evenodd\" stroke=\"#000\" stroke-width=\"1.5\" stroke-linecap=\"round\" stroke-linejoin=\"round\"><path d=\"M9 39h27v-3H9v3zM12 36v-4h21v4H12zM11 14V9h4v2h5V9h5v2h5V9h4v5\" stroke-linecap=\"butt\"/><path d=\"M34 14l-3 3H14l-3-3\"/><path d=\"M31 17v12.5H14V17\" stroke-linecap=\"butt\" stroke-linejoin=\"miter\"/><path d=\"M31 29.5l1.5 2.5h-20l1.5-2.5\"/><path d=\"M11 14h23\" fill=\"none\" stroke-linejoin=\"miter\"/></g><g id=\"white-queen\" class=\"white queen\" fill=\"#fff\" fill-rule=\"evenodd\" stroke=\"#000\" stroke-width=\"1.5\" stroke-linecap=\"round\" stroke-linejoin=\"round\"><path d=\"M8 12a2 2 0 1 1-4 0 2 2 0 1 1 4 0zM24.5 7.5a2 2 0 1 1-4 0 2 2 0 1 1 4 0zM41 12a2 2 0 1 1-4 0 2 2 0 1 1 4 0zM16 8.5a2 2 0 1 1-4 0 2 2 0 1 1 4 0zM33 9a2 2 0 1 1-4 0 2 2 0 1 1 4 0z\"/><path d=\"M9 26c8.5-1.5 21-1.5 27 0l2-12-7 11V11l-5.5 13.5-3-15-3 15-5.5-14V25L7 14l2 12zM9 26c0 2 1.5 2 2.5 4 1 1.5 1 1 .5 3.5-1.5 1-1.5 2.5-1.5 2.5-1.5 1.5.5 2.5.5 2.5 6.5 1 16.5 1 23 0 0 0 1.5-1 0-2.5 0 0 .5-1.5-1-2.5-.5-2.5-.5-2 .5-3.5 1-2 2.5-2 2.5-4-8.5-1.5-18.5-1.5-27 0z\" stroke-linecap=\"butt\"/><path d=\"M11.5 30c3.5-1 18.5-1 22 0M12 33.5c6-1 15-1 21 0\" fill=\"none\"/></g><g id=\"white-king\" class=\"white king\" fill=\"none\" fill-rule=\"evenodd\" stroke=\"#000\" stroke-width=\"1.5\" stroke-linecap=\"round\" stroke-linejoin=\"round\"><path d=\"M22.5 11.63V6M20 8h5\" stroke-linejoin=\"miter\"/><path d=\"M22.5 25s4.5-7.5 3-10.5c0 0-1-2.5-3-2.5s-3 2.5-3 2.5c-1.5 3 3 10.5 3 10.5\" fill=\"#fff\" stroke-linecap=\"butt\" stroke-linejoin=\"miter\"/><path d=\"M11.5 37c5.5 3.5 15.5 3.5 21 0v-7s9-4.5 6-10.5c-4-6.5-13.5-3.5-16 4V27v-3.5c-3.5-7.5-13-10.5-16-4-3 6 5 10 5 10V37z\" fill=\"#fff\"/><path d=\"M11.5 30c5.5-3 15.5-3 21 0m-21 3.5c5.5-3 15.5-3 21 0m-21 3.5c5.5-3 15.5-3 21 0\"/></g><g id=\"black-pawn\" class=\"black pawn\"><path d=\"M22.5 9c-2.21 0-4 1.79-4 4 0 .89.29 1.71.78 2.38C17.33 16.5 16 18.59 16 21c0 2.03.94 3.84 2.41 5.03-3 1.06-7.41 5.55-7.41 13.47h23c0-7.92-4.41-12.41-7.41-13.47 1.47-1.19 2.41-3 2.41-5.03 0-2.41-1.33-4.5-3.28-5.62.49-.67.78-1.49.78-2.38 0-2.21-1.79-4-4-4z\" fill=\"#000\" stroke=\"#000\" stroke-width=\"1.5\" stroke-linecap=\"round\"/></g><g id=\"black-knight\" class=\"black knight\" fill=\"none\" fill-rule=\"evenodd\" stroke=\"#000\" stroke-width=\"1.5\" stroke-linecap=\"round\" stroke-linejoin=\"round\"><path d=\"M 22,10 C 32.5,11 38.5,18 38,39 L 15,39 C 15,30 25,32.5 23,18\" style=\"fill:#000000; stroke:#000000;\"/><path d=\"M 24,18 C 24.38,20.91 18.45,25.37 16,27 C 13,29 13.18,31.34 11,31 C 9.958,30.06 12.41,27.96 11,28 C 10,28 11.19,29.23 10,30 C 9,30 5.997,31 6,26 C 6,24 12,14 12,14 C 12,14 13.89,12.1 14,10.5 C 13.27,9.506 13.5,8.5 13.5,7.5 C 14.5,6.5 16.5,10 16.5,10 L 18.5,10 C 18.5,10 19.28,8.008 21,7 C 22,7 22,10 22,10\" style=\"fill:#000000; stroke:#000000;\"/><path d=\"M 9.5 25.5 A 0.5 0.5 0 1 1 8.5,25.5 A 0.5 0.5 0 1 1 9.5 25.5 z\" style=\"fill:#ececec; stroke:#ececec;\"/><path d=\"M 15 15.5 A 0.5 1.5 0 1 1 14,15.5 A 0.5 1.5 0 1 1 15 15.5 z\" transform=\"matrix(0.866,0.5,-0.5,0.866,9.693,-5.173)\" style=\"fill:#ececec; stroke:#ececec;\"/><path d=\"M 24.55,10.4 L 24.1,11.85 L 24.6,12 C 27.75,13 30.25,14.49 32.5,18.75 C 34.75,23.01 35.75,29.06 35.25,39 L 35.2,39.5 L 37.45,39.5 L 37.5,39 C 38,28.94 36.62,22.15 34.25,17.66 C 31.88,13.17 28.46,11.02 25.06,10.5 L 24.55,10.4 z \" style=\"fill:#ececec; stroke:none;\"/></g><g id=\"black-bishop\" class=\"black bishop\" fill=\"none\" fill-rule=\"evenodd\" stroke=\"#000\" stroke-width=\"1.5\" stroke-linecap=\"round\" stroke-linejoin=\"round\"><path d=\"M9 36c3.39-.97 10.11.43 13.5-2 3.39 2.43 10.11 1.03 13.5 2 0 0 1.65.54 3 2-.68.97-1.65.99-3 .5-3.39-.97-10.11.46-13.5-1-3.39 1.46-10.11.03-13.5 1-1.354.49-2.323.47-3-.5 1.354-1.94 3-2 3-2zm6-4c2.5 2.5 12.5 2.5 15 0 .5-1.5 0-2 0-2 0-2.5-2.5-4-2.5-4 5.5-1.5 6-11.5-5-15.5-11 4-10.5 14-5 15.5 0 0-2.5 1.5-2.5 4 0 0-.5.5 0 2zM25 8a2.5 2.5 0 1 1-5 0 2.5 2.5 0 1 1 5 0z\" fill=\"#000\" stroke-linecap=\"butt\"/><path d=\"M17.5 26h10M15 30h15m-7.5-14.5v5M20 18h5\" stroke=\"#fff\" stroke-linejoin=\"miter\"/></g><g id=\"black-rook\" class=\"black rook\" fill=\"#000\" fill-rule=\"evenodd\" stroke=\"#000\" stroke-width=\"1.5\" stroke-linecap=\"round\" stroke-linejoin=\"round\"><path d=\"M9 39h27v-3H9v3zM12.5 32l1.5-2.5h17l1.5 2.5h-20zM12 36v-4h21v4H12z\" stroke-linecap=\"butt\"/><path d=\"M14 29.5v-13h17v13H14z\" stroke-linecap=\"butt\" stroke-linejoin=\"miter\"/><path d=\"M14 16.5L11 14h23l-3 2.5H14zM11 14V9h4v2h5V9h5v2h5V9h4v5H11z\" stroke-linecap=\"butt\"/><path d=\"M12 35.5h21M13 31.5h19M14 29.5h17M14 16.5h17M11 14h23\" fill=\"none\" stroke=\"#fff\" stroke-width=\"1\" stroke-linejoin=\"miter\"/></g><g id=\"black-queen\" class=\"black queen\" fill=\"#000\" fill-rule=\"evenodd\" stroke=\"#000\" stroke-width=\"1.5\" stroke-linecap=\"round\" stroke-linejoin=\"round\"><g fill=\"#000\" stroke=\"none\"><circle cx=\"6\" cy=\"12\" r=\"2.75\"/><circle cx=\"14\" cy=\"9\" r=\"2.75\"/><circle cx=\"22.5\" cy=\"8\" r=\"2.75\"/><circle cx=\"31\" cy=\"9\" r=\"2.75\"/><circle cx=\"39\" cy=\"12\" r=\"2.75\"/></g><path d=\"M9 26c8.5-1.5 21-1.5 27 0l2.5-12.5L31 25l-.3-14.1-5.2 13.6-3-14.5-3 14.5-5.2-13.6L14 25 6.5 13.5 9 26zM9 26c0 2 1.5 2 2.5 4 1 1.5 1 1 .5 3.5-1.5 1-1.5 2.5-1.5 2.5-1.5 1.5.5 2.5.5 2.5 6.5 1 16.5 1 23 0 0 0 1.5-1 0-2.5 0 0 .5-1.5-1-2.5-.5-2.5-.5-2 .5-3.5 1-2 2.5-2 2.5-4-8.5-1.5-18.5-1.5-27 0z\" stroke-linecap=\"butt\"/><path d=\"M11 38.5a35 35 1 0 0 23 0\" fill=\"none\" stroke-linecap=\"butt\"/><path d=\"M11 29a35 35 1 0 1 23 0M12.5 31.5h20M11.5 34.5a35 35 1 0 0 22 0M10.5 37.5a35 35 1 0 0 24 0\" fill=\"none\" stroke=\"#fff\"/></g><g id=\"black-king\" class=\"black king\" fill=\"none\" fill-rule=\"evenodd\" stroke=\"#000\" stroke-width=\"1.5\" stroke-linecap=\"round\" stroke-linejoin=\"round\"><path d=\"M22.5 11.63V6\" stroke-linejoin=\"miter\"/><path d=\"M22.5 25s4.5-7.5 3-10.5c0 0-1-2.5-3-2.5s-3 2.5-3 2.5c-1.5 3 3 10.5 3 10.5\" fill=\"#000\" stroke-linecap=\"butt\" stroke-linejoin=\"miter\"/><path d=\"M11.5 37c5.5 3.5 15.5 3.5 21 0v-7s9-4.5 6-10.5c-4-6.5-13.5-3.5-16 4V27v-3.5c-3.5-7.5-13-10.5-16-4-3 6 5 10 5 10V37z\" fill=\"#000\"/><path d=\"M20 8h5\" stroke-linejoin=\"miter\"/><path d=\"M32 29.5s8.5-4 6.03-9.65C34.15 14 25 18 22.5 24.5l.01 2.1-.01-2.1C20 18 9.906 14 6.997 19.85c-2.497 5.65 4.853 9 4.853 9M11.5 30c5.5-3 15.5-3 21 0m-21 3.5c5.5-3 15.5-3 21 0m-21 3.5c5.5-3 15.5-3 21 0\" stroke=\"#fff\"/></g></defs><rect x=\"7.5\" y=\"7.5\" width=\"375\" height=\"375\" fill=\"none\" stroke=\"#212121\" stroke-width=\"15\"/><g transform=\"translate(20, 1) scale(0.75, 0.75)\" fill=\"#e5e5e5\" stroke=\"#e5e5e5\"><path d=\"M23.328 10.016q-1.742 0-2.414.398-.672.398-.672 1.36 0 .765.5 1.218.508.445 1.375.445 1.196 0 1.914-.843.727-.852.727-2.258v-.32zm2.867-.594v4.992h-1.437v-1.328q-.492.797-1.227 1.18-.734.375-1.797.375-1.343 0-2.14-.75-.79-.758-.79-2.024 0-1.476.985-2.226.992-.75 2.953-.75h2.016V8.75q0-.992-.656-1.531-.649-.547-1.829-.547-.75 0-1.46.18-.711.18-1.368.539V6.062q.79-.304 1.532-.453.742-.156 1.445-.156 1.898 0 2.836.984.937.985.937 2.985z\"/></g><g transform=\"translate(20, 375) scale(0.75, 0.75)\" fill=\"#e5e5e5\" stroke=\"#e5e5e5\"><path d=\"M23.328 10.016q-1.742 0-2.414.398-.672.398-.672 1.36 0 .765.5 1.218.508.445 1.375.445 1.196 0 1.914-.843.727-.852.727-2.258v-.32zm2.867-.594v4.992h-1.437v-1.328q-.492.797-1.227 1.18-.734.375-1.797.375-1.343 0-2.14-.75-.79-.758-.79-2.024 0-1.476.985-2.226.992-.75 2.953-.75h2.016V8.75q0-.992-.656-1.531-.649-.547-1.829-.547-.75 0-1.46.18-.711.18-1.368.539V6.062q.79-.304 1.532-.453.742-.156 1.445-.156 1.898 0 2.836.984.937.985.937 2.985z\"/></g><g transform=\"translate(65, 1) scale(0.75, 0.75)\" fill=\"#e5e5e5\" stroke=\"#e5e5e5\"><path d=\"M24.922 10.047q0-1.586-.656-2.485-.649-.906-1.79-.906-1.14 0-1.796.906-.649.899-.649 2.485 0 1.586.649 2.492.656.898 1.797.898 1.14 0 1.789-.898.656-.906.656-2.492zm-4.89-3.055q.452-.781 1.14-1.156.695-.383 1.656-.383 1.594 0 2.586 1.266 1 1.265 1 3.328 0 2.062-1 3.328-.992 1.266-2.586 1.266-.96 0-1.656-.375-.688-.383-1.14-1.164v1.312h-1.446V2.258h1.445z\"/></g><g transform=\"translate(65, 375) scale(0.75, 0.75)\" fill=\"#e5e5e5\" stroke=\"#e5e5e5\"><path d=\"M24.922 10.047q0-1.586-.656-2.485-.649-.906-1.79-.906-1.14 0-1.796.906-.649.899-.649 2.485 0 1.586.649 2.492.656.898 1.797.898 1.14 0 1.789-.898.656-.906.656-2.492zm-4.89-3.055q.452-.781 1.14-1.156.695-.383 1.656-.383 1.594 0 2.586 1.266 1 1.265 1 3.328 0 2.062-1 3.328-.992 1.266-2.586 1.266-.96 0-1.656-.375-.688-.383-1.14-1.164v1.312h-1.446V2.258h1.445z\"/></g><g transform=\"translate(110, 1) scale(0.75, 0.75)\" fill=\"#e5e5e5\" stroke=\"#e5e5e5\"><path d=\"M25.96 6v1.344q-.608-.336-1.226-.5-.609-.172-1.234-.172-1.398 0-2.172.89-.773.883-.773 2.485 0 1.601.773 2.492.774.883 2.172.883.625 0 1.234-.164.618-.172 1.227-.508v1.328q-.602.281-1.25.422-.64.14-1.367.14-1.977 0-3.14-1.242-1.165-1.242-1.165-3.351 0-2.14 1.172-3.367 1.18-1.227 3.227-1.227.664 0 1.296.14.633.134 1.227.407z\"/></g><g transform=\"translate(110, 375) scale(0.75, 0.75)\" fill=\"#e5e5e5\" stroke=\"#e5e5e5\"><path d=\"M25.96 6v1.344q-.608-.336-1.226-.5-.609-.172-1.234-.172-1.398 0-2.172.89-.773.883-.773 2.485 0 1.601.773 2.492.774.883 2.172.883.625 0 1.234-.164.618-.172 1.227-.508v1.328q-.602.281-1.25.422-.64.14-1.367.14-1.977 0-3.14-1.242-1.165-1.242-1.165-3.351 0-2.14 1.172-3.367 1.18-1.227 3.227-1.227.664 0 1.296.14.633.134 1.227.407z\"/></g><g transform=\"translate(155, 1) scale(0.75, 0.75)\" fill=\"#e5e5e5\" stroke=\"#e5e5e5\"><path d=\"M24.973 6.992V2.258h1.437v12.156h-1.437v-1.312q-.453.78-1.149 1.164-.687.375-1.656.375-1.586 0-2.586-1.266-.992-1.266-.992-3.328 0-2.063.992-3.328 1-1.266 2.586-1.266.969 0 1.656.383.696.375 1.149 1.156zm-4.899 3.055q0 1.586.649 2.492.656.898 1.797.898 1.14 0 1.796-.898.657-.906.657-2.492 0-1.586-.657-2.485-.656-.906-1.796-.906-1.141 0-1.797.906-.649.899-.649 2.485z\"/></g><g transform=\"translate(155, 375) scale(0.75, 0.75)\" fill=\"#e5e5e5\" stroke=\"#e5e5e5\"><path d=\"M24.973 6.992V2.258h1.437v12.156h-1.437v-1.312q-.453.78-1.149 1.164-.687.375-1.656.375-1.586 0-2.586-1.266-.992-1.266-.992-3.328 0-2.063.992-3.328 1-1.266 2.586-1.266.969 0 1.656.383.696.375 1.149 1.156zm-4.899 3.055q0 1.586.649 2.492.656.898 1.797.898 1.14 0 1.796-.898.657-.906.657-2.492 0-1.586-.657-2.485-.656-.906-1.796-.906-1.141 0-1.797.906-.649.899-.649 2.485z\"/></g><g transform=\"translate(200, 1) scale(0.75, 0.75)\" fill=\"#e5e5e5\" stroke=\"#e5e5e5\"><path d=\"M26.555 9.68v.703h-6.61q.094 1.484.89 2.265.806.774 2.235.774.828 0 1.602-.203.781-.203 1.547-.61v1.36q-.774.328-1.586.5-.813.172-1.649.172-2.093 0-3.32-1.22-1.219-1.218-1.219-3.296 0-2.148 1.157-3.406 1.164-1.266 3.132-1.266 1.766 0 2.79 1.14 1.03 1.134 1.03 3.087zm-1.438-.422q-.015-1.18-.664-1.883-.64-.703-1.703-.703-1.203 0-1.93.68-.718.68-.828 1.914z\"/></g><g transform=\"translate(200, 375) scale(0.75, 0.75)\" fill=\"#e5e5e5\" stroke=\"#e5e5e5\"><path d=\"M26.555 9.68v.703h-6.61q.094 1.484.89 2.265.806.774 2.235.774.828 0 1.602-.203.781-.203 1.547-.61v1.36q-.774.328-1.586.5-.813.172-1.649.172-2.093 0-3.32-1.22-1.219-1.218-1.219-3.296 0-2.148 1.157-3.406 1.164-1.266 3.132-1.266 1.766 0 2.79 1.14 1.03 1.134 1.03 3.087zm-1.438-.422q-.015-1.18-.664-1.883-.64-.703-1.703-.703-1.203 0-1.93.68-.718.68-.828 1.914z\"/></g><g transform=\"translate(245, 1) scale(0.75, 0.75)\" fill=\"#e5e5e5\" stroke=\"#e5e5e5\"><path d=\"M25.285 2.258v1.195H23.91q-.773 0-1.078.313-.297.312-.297 1.125v.773h2.367v1.117h-2.367v7.633H21.09V6.781h-1.375V5.664h1.375v-.61q0-1.46.68-2.124.68-.672 2.156-.672z\"/></g><g transform=\"translate(245, 375) scale(0.75, 0.75)\" fill=\"#e5e5e5\" stroke=\"#e5e5e5\"><path d=\"M25.285 2.258v1.195H23.91q-.773 0-1.078.313-.297.312-.297 1.125v.773h2.367v1.117h-2.367v7.633H21.09V6.781h-1.375V5.664h1.375v-.61q0-1.46.68-2.124.68-.672 2.156-.672z\"/></g><g transform=\"translate(290, 1) scale(0.75, 0.75)\" fill=\"#e5e5e5\" stroke=\"#e5e5e5\"><path d=\"M24.973 9.937q0-1.562-.649-2.421-.64-.86-1.804-.86-1.157 0-1.805.86-.64.859-.64 2.421 0 1.555.64 2.415.648.859 1.805.859 1.164 0 1.804-.86.649-.859.649-2.414zm1.437 3.391q0 2.234-.992 3.32-.992 1.094-3.04 1.094-.757 0-1.429-.117-.672-.11-1.304-.344v-1.398q.632.344 1.25.508.617.164 1.257.164 1.414 0 2.118-.743.703-.734.703-2.226v-.711q-.446.773-1.141 1.156-.695.383-1.664.383-1.61 0-2.594-1.227-.984-1.226-.984-3.25 0-2.03.984-3.257.985-1.227 2.594-1.227.969 0 1.664.383t1.14 1.156V5.664h1.438z\"/></g><g transform=\"translate(290, 375) scale(0.75, 0.75)\" fill=\"#e5e5e5\" stroke=\"#e5e5e5\"><path d=\"M24.973 9.937q0-1.562-.649-2.421-.64-.86-1.804-.86-1.157 0-1.805.86-.64.859-.64 2.421 0 1.555.64 2.415.648.859 1.805.859 1.164 0 1.804-.86.649-.859.649-2.414zm1.437 3.391q0 2.234-.992 3.32-.992 1.094-3.04 1.094-.757 0-1.429-.117-.672-.11-1.304-.344v-1.398q.632.344 1.25.508.617.164 1.257.164 1.414 0 2.118-.743.703-.734.703-2.226v-.711q-.446.773-1.141 1.156-.695.383-1.664.383-1.61 0-2.594-1.227-.984-1.226-.984-3.25 0-2.03.984-3.257.985-1.227 2.594-1.227.969 0 1.664.383t1.14 1.156V5.664h1.438z\"/></g><g transform=\"translate(335, 1) scale(0.75, 0.75)\" fill=\"#e5e5e5\" stroke=\"#e5e5e5\"><path d=\"M26.164 9.133v5.281h-1.437V9.18q0-1.243-.485-1.86-.484-.617-1.453-.617-1.164 0-1.836.742-.672.742-.672 2.024v4.945h-1.445V2.258h1.445v4.765q.516-.789 1.211-1.18.703-.39 1.617-.39 1.508 0 2.282.938.773.93.773 2.742z\"/></g><g transform=\"translate(335, 375) scale(0.75, 0.75)\" fill=\"#e5e5e5\" stroke=\"#e5e5e5\"><path d=\"M26.164 9.133v5.281h-1.437V9.18q0-1.243-.485-1.86-.484-.617-1.453-.617-1.164 0-1.836.742-.672.742-.672 2.024v4.945h-1.445V2.258h1.445v4.765q.516-.789 1.211-1.18.703-.39 1.617-.39 1.508 0 2.282.938.773.93.773 2.742z\"/></g><g transform=\"translate(0, 335) scale(0.75, 0.75)\" fill=\"#e5e5e5\" stroke=\"#e5e5e5\"><path d=\"M6.754 26.996h2.578v-8.898l-2.805.562v-1.437l2.79-.563h1.578v10.336h2.578v1.328h-6.72z\"/></g><g transform=\"translate(375, 335) scale(0.75, 0.75)\" fill=\"#e5e5e5\" stroke=\"#e5e5e5\"><path d=\"M6.754 26.996h2.578v-8.898l-2.805.562v-1.437l2.79-.563h1.578v10.336h2.578v1.328h-6.72z\"/></g><g transform=\"translate(0, 290) scale(0.75, 0.75)\" fill=\"#e5e5e5\" stroke=\"#e5e5e5\"><path d=\"M8.195 26.996h5.508v1.328H6.297v-1.328q.898-.93 2.445-2.492 1.555-1.57 1.953-2.024.758-.851 1.055-1.437.305-.594.305-1.164 0-.93-.657-1.516-.648-.586-1.695-.586-.742 0-1.57.258-.82.258-1.758.781v-1.593q.953-.383 1.781-.578.828-.196 1.516-.196 1.812 0 2.89.906 1.079.907 1.079 2.422 0 .72-.274 1.368-.265.64-.976 1.515-.196.227-1.243 1.313-1.046 1.078-2.953 3.023z\"/></g><g transform=\"translate(375, 290) scale(0.75, 0.75)\" fill=\"#e5e5e5\" stroke=\"#e5e5e5\"><path d=\"M8.195 26.996h5.508v1.328H6.297v-1.328q.898-.93 2.445-2.492 1.555-1.57 1.953-2.024.758-.851 1.055-1.437.305-.594.305-1.164 0-.93-.657-1.516-.648-.586-1.695-.586-.742 0-1.57.258-.82.258-1.758.781v-1.593q.953-.383 1.781-.578.828-.196 1.516-.196 1.812 0 2.89.906 1.079.907 1.079 2.422 0 .72-.274 1.368-.265.64-.976 1.515-.196.227-1.243 1.313-1.046 1.078-2.953 3.023z\"/></g><g transform=\"translate(0, 245) scale(0.75, 0.75)\" fill=\"#e5e5e5\" stroke=\"#e5e5e5\"><path d=\"M11.434 22.035q1.132.242 1.765 1.008.64.766.64 1.89 0 1.727-1.187 2.672-1.187.946-3.375.946-.734 0-1.515-.149-.774-.14-1.602-.43V26.45q.656.383 1.438.578.78.196 1.632.196 1.485 0 2.258-.586.782-.586.782-1.703 0-1.032-.727-1.61-.719-.586-2.008-.586h-1.36v-1.297h1.423q1.164 0 1.78-.46.618-.47.618-1.344 0-.899-.64-1.375-.633-.485-1.82-.485-.65 0-1.391.141-.743.14-1.633.437V16.95q.898-.25 1.68-.375.788-.125 1.484-.125 1.797 0 2.844.82 1.046.813 1.046 2.204 0 .968-.554 1.64-.555.664-1.578.922z\"/></g><g transform=\"translate(375, 245) scale(0.75, 0.75)\" fill=\"#e5e5e5\" stroke=\"#e5e5e5\"><path d=\"M11.434 22.035q1.132.242 1.765 1.008.64.766.64 1.89 0 1.727-1.187 2.672-1.187.946-3.375.946-.734 0-1.515-.149-.774-.14-1.602-.43V26.45q.656.383 1.438.578.78.196 1.632.196 1.485 0 2.258-.586.782-.586.782-1.703 0-1.032-.727-1.61-.719-.586-2.008-.586h-1.36v-1.297h1.423q1.164 0 1.78-.46.618-.47.618-1.344 0-.899-.64-1.375-.633-.485-1.82-.485-.65 0-1.391.141-.743.14-1.633.437V16.95q.898-.25 1.68-.375.788-.125 1.484-.125 1.797 0 2.844.82 1.046.813 1.046 2.204 0 .968-.554 1.64-.555.664-1.578.922z\"/></g><g transform=\"translate(0, 200) scale(0.75, 0.75)\" fill=\"#e5e5e5\" stroke=\"#e5e5e5\"><path d=\"M11.016 18.035L7.03 24.262h3.985zm-.414-1.375h1.984v7.602h1.664v1.312h-1.664v2.75h-1.57v-2.75H5.75v-1.523z\"/></g><g transform=\"translate(375, 200) scale(0.75, 0.75)\" fill=\"#e5e5e5\" stroke=\"#e5e5e5\"><path d=\"M11.016 18.035L7.03 24.262h3.985zm-.414-1.375h1.984v7.602h1.664v1.312h-1.664v2.75h-1.57v-2.75H5.75v-1.523z\"/></g><g transform=\"translate(0, 155) scale(0.75, 0.75)\" fill=\"#e5e5e5\" stroke=\"#e5e5e5\"><path d=\"M6.719 16.66h6.195v1.328h-4.75v2.86q.344-.118.688-.172.343-.063.687-.063 1.953 0 3.094 1.07 1.14 1.07 1.14 2.899 0 1.883-1.171 2.93-1.172 1.039-3.305 1.039-.735 0-1.5-.125-.758-.125-1.57-.375v-1.586q.703.383 1.453.57.75.188 1.586.188 1.351 0 2.14-.711.79-.711.79-1.93 0-1.219-.79-1.93-.789-.71-2.14-.71-.633 0-1.266.14-.625.14-1.281.438z\"/></g><g transform=\"translate(375, 155) scale(0.75, 0.75)\" fill=\"#e5e5e5\" stroke=\"#e5e5e5\"><path d=\"M6.719 16.66h6.195v1.328h-4.75v2.86q.344-.118.688-.172.343-.063.687-.063 1.953 0 3.094 1.07 1.14 1.07 1.14 2.899 0 1.883-1.171 2.93-1.172 1.039-3.305 1.039-.735 0-1.5-.125-.758-.125-1.57-.375v-1.586q.703.383 1.453.57.75.188 1.586.188 1.351 0 2.14-.711.79-.711.79-1.93 0-1.219-.79-1.93-.789-.71-2.14-.71-.633 0-1.266.14-.625.14-1.281.438z\"/></g><g transform=\"translate(0, 110) scale(0.75, 0.75)\" fill=\"#e5e5e5\" stroke=\"#e5e5e5\"><path d=\"M10.137 21.863q-1.063 0-1.688.727-.617.726-.617 1.992 0 1.258.617 1.992.625.727 1.688.727 1.062 0 1.68-.727.624-.734.624-1.992 0-1.266-.625-1.992-.617-.727-1.68-.727zm3.133-4.945v1.437q-.594-.28-1.204-.43-.601-.148-1.195-.148-1.562 0-2.39 1.055-.82 1.055-.938 3.188.46-.68 1.156-1.04.696-.367 1.531-.367 1.758 0 2.774 1.07 1.023 1.063 1.023 2.899 0 1.797-1.062 2.883-1.063 1.086-2.828 1.086-2.024 0-3.094-1.547-1.07-1.555-1.07-4.5 0-2.766 1.312-4.406 1.313-1.649 3.524-1.649.593 0 1.195.117.61.118 1.266.352z\"/></g><g transform=\"translate(375, 110) scale(0.75, 0.75)\" fill=\"#e5e5e5\" stroke=\"#e5e5e5\"><path d=\"M10.137 21.863q-1.063 0-1.688.727-.617.726-.617 1.992 0 1.258.617 1.992.625.727 1.688.727 1.062 0 1.68-.727.624-.734.624-1.992 0-1.266-.625-1.992-.617-.727-1.68-.727zm3.133-4.945v1.437q-.594-.28-1.204-.43-.601-.148-1.195-.148-1.562 0-2.39 1.055-.82 1.055-.938 3.188.46-.68 1.156-1.04.696-.367 1.531-.367 1.758 0 2.774 1.07 1.023 1.063 1.023 2.899 0 1.797-1.062 2.883-1.063 1.086-2.828 1.086-2.024 0-3.094-1.547-1.07-1.555-1.07-4.5 0-2.766 1.312-4.406 1.313-1.649 3.524-1.649.593 0 1.195.117.61.118 1.266.352z\"/></g><g transform=\"translate(0, 65) scale(0.75, 0.75)\" fill=\"#e5e5e5\" stroke=\"#e5e5e5\"><path d=\"M6.25 16.66h7.5v.672L9.516 28.324H7.867l3.985-10.336H6.25z\"/></g><g transform=\"translate(375, 65) scale(0.75, 0.75)\" fill=\"#e5e5e5\" stroke=\"#e5e5e5\"><path d=\"M6.25 16.66h7.5v.672L9.516 28.324H7.867l3.985-10.336H6.25z\"/></g><g transform=\"translate(0, 20) scale(0.75, 0.75)\" fill=\"#e5e5e5\" stroke=\"#e5e5e5\"><path d=\"M10 22.785q-1.125 0-1.773.602-.641.601-.641 1.656t.64 1.656q.649.602 1.774.602t1.773-.602q.649-.61.649-1.656 0-1.055-.649-1.656-.64-.602-1.773-.602zm-1.578-.672q-1.016-.25-1.586-.945-.563-.695-.563-1.695 0-1.399.993-2.211 1-.813 2.734-.813 1.742 0 2.734.813.993.812.993 2.21 0 1-.57 1.696-.563.695-1.571.945 1.14.266 1.773 1.04.641.773.641 1.89 0 1.695-1.04 2.602-1.03.906-2.96.906t-2.969-.906Q6 26.738 6 25.043q0-1.117.64-1.89.641-.774 1.782-1.04zm-.578-2.492q0 .906.562 1.414.57.508 1.594.508 1.016 0 1.586-.508.578-.508.578-1.414 0-.906-.578-1.414-.57-.508-1.586-.508-1.023 0-1.594.508-.562.508-.562 1.414z\"/></g><g transform=\"translate(375, 20) scale(0.75, 0.75)\" fill=\"#e5e5e5\" stroke=\"#e5e5e5\"><path d=\"M10 22.785q-1.125 0-1.773.602-.641.601-.641 1.656t.64 1.656q.649.602 1.774.602t1.773-.602q.649-.61.649-1.656 0-1.055-.649-1.656-.64-.602-1.773-.602zm-1.578-.672q-1.016-.25-1.586-.945-.563-.695-.563-1.695 0-1.399.993-2.211 1-.813 2.734-.813 1.742 0 2.734.813.993.812.993 2.21 0 1-.57 1.696-.563.695-1.571.945 1.14.266 1.773 1.04.641.773.641 1.89 0 1.695-1.04 2.602-1.03.906-2.96.906t-2.969-.906Q6 26.738 6 25.043q0-1.117.64-1.89.641-.774 1.782-1.04zm-.578-2.492q0 .906.562 1.414.57.508 1.594.508 1.016 0 1.586-.508.578-.508.578-1.414 0-.906-.578-1.414-.57-.508-1.586-.508-1.023 0-1.594.508-.562.508-.562 1.414z\"/></g><rect x=\"15\" y=\"330\" width=\"45\" height=\"45\" class=\"square dark a1\" stroke=\"none\" fill=\"#d18b47\"/><rect x=\"60\" y=\"330\" width=\"45\" height=\"45\" class=\"square light b1\" stroke=\"none\" fill=\"#ffce9e\"/><rect x=\"105\" y=\"330\" width=\"45\" height=\"45\" class=\"square dark c1\" stroke=\"none\" fill=\"#d18b47\"/><rect x=\"150\" y=\"330\" width=\"45\" height=\"45\" class=\"square light d1\" stroke=\"none\" fill=\"#ffce9e\"/><rect x=\"195\" y=\"330\" width=\"45\" height=\"45\" class=\"square dark e1\" stroke=\"none\" fill=\"#d18b47\"/><rect x=\"240\" y=\"330\" width=\"45\" height=\"45\" class=\"square light f1\" stroke=\"none\" fill=\"#ffce9e\"/><rect x=\"285\" y=\"330\" width=\"45\" height=\"45\" class=\"square dark g1\" stroke=\"none\" fill=\"#d18b47\"/><rect x=\"330\" y=\"330\" width=\"45\" height=\"45\" class=\"square light h1\" stroke=\"none\" fill=\"#ffce9e\"/><rect x=\"15\" y=\"285\" width=\"45\" height=\"45\" class=\"square light a2\" stroke=\"none\" fill=\"#ffce9e\"/><rect x=\"60\" y=\"285\" width=\"45\" height=\"45\" class=\"square dark b2\" stroke=\"none\" fill=\"#d18b47\"/><rect x=\"105\" y=\"285\" width=\"45\" height=\"45\" class=\"square light c2\" stroke=\"none\" fill=\"#ffce9e\"/><rect x=\"150\" y=\"285\" width=\"45\" height=\"45\" class=\"square dark d2\" stroke=\"none\" fill=\"#d18b47\"/><rect x=\"195\" y=\"285\" width=\"45\" height=\"45\" class=\"square light e2\" stroke=\"none\" fill=\"#ffce9e\"/><rect x=\"240\" y=\"285\" width=\"45\" height=\"45\" class=\"square dark f2\" stroke=\"none\" fill=\"#d18b47\"/><rect x=\"285\" y=\"285\" width=\"45\" height=\"45\" class=\"square light g2\" stroke=\"none\" fill=\"#ffce9e\"/><rect x=\"330\" y=\"285\" width=\"45\" height=\"45\" class=\"square dark h2\" stroke=\"none\" fill=\"#d18b47\"/><rect x=\"15\" y=\"240\" width=\"45\" height=\"45\" class=\"square dark a3\" stroke=\"none\" fill=\"#d18b47\"/><rect x=\"60\" y=\"240\" width=\"45\" height=\"45\" class=\"square light b3\" stroke=\"none\" fill=\"#ffce9e\"/><rect x=\"105\" y=\"240\" width=\"45\" height=\"45\" class=\"square dark c3\" stroke=\"none\" fill=\"#d18b47\"/><rect x=\"150\" y=\"240\" width=\"45\" height=\"45\" class=\"square light d3\" stroke=\"none\" fill=\"#ffce9e\"/><rect x=\"195\" y=\"240\" width=\"45\" height=\"45\" class=\"square dark e3\" stroke=\"none\" fill=\"#d18b47\"/><rect x=\"240\" y=\"240\" width=\"45\" height=\"45\" class=\"square light f3\" stroke=\"none\" fill=\"#ffce9e\"/><rect x=\"285\" y=\"240\" width=\"45\" height=\"45\" class=\"square dark g3\" stroke=\"none\" fill=\"#d18b47\"/><rect x=\"330\" y=\"240\" width=\"45\" height=\"45\" class=\"square light h3\" stroke=\"none\" fill=\"#ffce9e\"/><rect x=\"15\" y=\"195\" width=\"45\" height=\"45\" class=\"square light a4\" stroke=\"none\" fill=\"#ffce9e\"/><rect x=\"60\" y=\"195\" width=\"45\" height=\"45\" class=\"square dark b4\" stroke=\"none\" fill=\"#d18b47\"/><rect x=\"105\" y=\"195\" width=\"45\" height=\"45\" class=\"square light c4\" stroke=\"none\" fill=\"#ffce9e\"/><rect x=\"150\" y=\"195\" width=\"45\" height=\"45\" class=\"square dark d4\" stroke=\"none\" fill=\"#d18b47\"/><rect x=\"195\" y=\"195\" width=\"45\" height=\"45\" class=\"square light e4\" stroke=\"none\" fill=\"#ffce9e\"/><rect x=\"240\" y=\"195\" width=\"45\" height=\"45\" class=\"square dark f4\" stroke=\"none\" fill=\"#d18b47\"/><rect x=\"285\" y=\"195\" width=\"45\" height=\"45\" class=\"square light g4\" stroke=\"none\" fill=\"#ffce9e\"/><rect x=\"330\" y=\"195\" width=\"45\" height=\"45\" class=\"square dark h4\" stroke=\"none\" fill=\"#d18b47\"/><rect x=\"15\" y=\"150\" width=\"45\" height=\"45\" class=\"square dark a5\" stroke=\"none\" fill=\"#d18b47\"/><rect x=\"60\" y=\"150\" width=\"45\" height=\"45\" class=\"square light b5\" stroke=\"none\" fill=\"#ffce9e\"/><rect x=\"105\" y=\"150\" width=\"45\" height=\"45\" class=\"square dark c5\" stroke=\"none\" fill=\"#d18b47\"/><rect x=\"150\" y=\"150\" width=\"45\" height=\"45\" class=\"square light d5\" stroke=\"none\" fill=\"#ffce9e\"/><rect x=\"195\" y=\"150\" width=\"45\" height=\"45\" class=\"square dark e5\" stroke=\"none\" fill=\"#d18b47\"/><rect x=\"240\" y=\"150\" width=\"45\" height=\"45\" class=\"square light f5\" stroke=\"none\" fill=\"#ffce9e\"/><rect x=\"285\" y=\"150\" width=\"45\" height=\"45\" class=\"square dark g5\" stroke=\"none\" fill=\"#d18b47\"/><rect x=\"330\" y=\"150\" width=\"45\" height=\"45\" class=\"square light h5\" stroke=\"none\" fill=\"#ffce9e\"/><rect x=\"15\" y=\"105\" width=\"45\" height=\"45\" class=\"square light a6\" stroke=\"none\" fill=\"#ffce9e\"/><rect x=\"60\" y=\"105\" width=\"45\" height=\"45\" class=\"square dark b6\" stroke=\"none\" fill=\"#d18b47\"/><rect x=\"105\" y=\"105\" width=\"45\" height=\"45\" class=\"square light c6\" stroke=\"none\" fill=\"#ffce9e\"/><rect x=\"150\" y=\"105\" width=\"45\" height=\"45\" class=\"square dark d6\" stroke=\"none\" fill=\"#d18b47\"/><rect x=\"195\" y=\"105\" width=\"45\" height=\"45\" class=\"square light e6\" stroke=\"none\" fill=\"#ffce9e\"/><rect x=\"240\" y=\"105\" width=\"45\" height=\"45\" class=\"square dark f6\" stroke=\"none\" fill=\"#d18b47\"/><rect x=\"285\" y=\"105\" width=\"45\" height=\"45\" class=\"square light g6\" stroke=\"none\" fill=\"#ffce9e\"/><rect x=\"330\" y=\"105\" width=\"45\" height=\"45\" class=\"square dark h6\" stroke=\"none\" fill=\"#d18b47\"/><rect x=\"15\" y=\"60\" width=\"45\" height=\"45\" class=\"square dark a7\" stroke=\"none\" fill=\"#d18b47\"/><rect x=\"60\" y=\"60\" width=\"45\" height=\"45\" class=\"square light b7\" stroke=\"none\" fill=\"#ffce9e\"/><rect x=\"105\" y=\"60\" width=\"45\" height=\"45\" class=\"square dark c7\" stroke=\"none\" fill=\"#d18b47\"/><rect x=\"150\" y=\"60\" width=\"45\" height=\"45\" class=\"square light d7\" stroke=\"none\" fill=\"#ffce9e\"/><rect x=\"195\" y=\"60\" width=\"45\" height=\"45\" class=\"square dark e7\" stroke=\"none\" fill=\"#d18b47\"/><rect x=\"240\" y=\"60\" width=\"45\" height=\"45\" class=\"square light f7\" stroke=\"none\" fill=\"#ffce9e\"/><rect x=\"285\" y=\"60\" width=\"45\" height=\"45\" class=\"square dark g7\" stroke=\"none\" fill=\"#d18b47\"/><rect x=\"330\" y=\"60\" width=\"45\" height=\"45\" class=\"square light h7\" stroke=\"none\" fill=\"#ffce9e\"/><rect x=\"15\" y=\"15\" width=\"45\" height=\"45\" class=\"square light a8\" stroke=\"none\" fill=\"#ffce9e\"/><rect x=\"60\" y=\"15\" width=\"45\" height=\"45\" class=\"square dark b8\" stroke=\"none\" fill=\"#d18b47\"/><rect x=\"105\" y=\"15\" width=\"45\" height=\"45\" class=\"square light c8\" stroke=\"none\" fill=\"#ffce9e\"/><rect x=\"150\" y=\"15\" width=\"45\" height=\"45\" class=\"square dark d8\" stroke=\"none\" fill=\"#d18b47\"/><rect x=\"195\" y=\"15\" width=\"45\" height=\"45\" class=\"square light e8\" stroke=\"none\" fill=\"#ffce9e\"/><rect x=\"240\" y=\"15\" width=\"45\" height=\"45\" class=\"square dark f8\" stroke=\"none\" fill=\"#d18b47\"/><rect x=\"285\" y=\"15\" width=\"45\" height=\"45\" class=\"square light g8\" stroke=\"none\" fill=\"#ffce9e\"/><rect x=\"330\" y=\"15\" width=\"45\" height=\"45\" class=\"square dark h8\" stroke=\"none\" fill=\"#d18b47\"/><use href=\"#white-rook\" xlink:href=\"#white-rook\" transform=\"translate(15, 330)\"/><use href=\"#white-bishop\" xlink:href=\"#white-bishop\" transform=\"translate(105, 330)\"/><use href=\"#white-queen\" xlink:href=\"#white-queen\" transform=\"translate(150, 330)\"/><use href=\"#white-king\" xlink:href=\"#white-king\" transform=\"translate(195, 330)\"/><use href=\"#white-bishop\" xlink:href=\"#white-bishop\" transform=\"translate(240, 330)\"/><use href=\"#white-knight\" xlink:href=\"#white-knight\" transform=\"translate(285, 330)\"/><use href=\"#white-rook\" xlink:href=\"#white-rook\" transform=\"translate(330, 330)\"/><use href=\"#white-pawn\" xlink:href=\"#white-pawn\" transform=\"translate(15, 285)\"/><use href=\"#white-pawn\" xlink:href=\"#white-pawn\" transform=\"translate(60, 285)\"/><use href=\"#white-pawn\" xlink:href=\"#white-pawn\" transform=\"translate(195, 285)\"/><use href=\"#white-pawn\" xlink:href=\"#white-pawn\" transform=\"translate(240, 285)\"/><use href=\"#white-pawn\" xlink:href=\"#white-pawn\" transform=\"translate(285, 285)\"/><use href=\"#white-pawn\" xlink:href=\"#white-pawn\" transform=\"translate(330, 285)\"/><use href=\"#white-knight\" xlink:href=\"#white-knight\" transform=\"translate(105, 240)\"/><use href=\"#black-pawn\" xlink:href=\"#black-pawn\" transform=\"translate(105, 195)\"/><use href=\"#white-pawn\" xlink:href=\"#white-pawn\" transform=\"translate(150, 195)\"/><use href=\"#black-pawn\" xlink:href=\"#black-pawn\" transform=\"translate(195, 105)\"/><use href=\"#black-pawn\" xlink:href=\"#black-pawn\" transform=\"translate(15, 60)\"/><use href=\"#black-pawn\" xlink:href=\"#black-pawn\" transform=\"translate(60, 60)\"/><use href=\"#black-pawn\" xlink:href=\"#black-pawn\" transform=\"translate(105, 60)\"/><use href=\"#black-pawn\" xlink:href=\"#black-pawn\" transform=\"translate(240, 60)\"/><use href=\"#black-pawn\" xlink:href=\"#black-pawn\" transform=\"translate(285, 60)\"/><use href=\"#black-pawn\" xlink:href=\"#black-pawn\" transform=\"translate(330, 60)\"/><use href=\"#black-rook\" xlink:href=\"#black-rook\" transform=\"translate(15, 15)\"/><use href=\"#black-knight\" xlink:href=\"#black-knight\" transform=\"translate(60, 15)\"/><use href=\"#black-bishop\" xlink:href=\"#black-bishop\" transform=\"translate(105, 15)\"/><use href=\"#black-queen\" xlink:href=\"#black-queen\" transform=\"translate(150, 15)\"/><use href=\"#black-king\" xlink:href=\"#black-king\" transform=\"translate(195, 15)\"/><use href=\"#black-bishop\" xlink:href=\"#black-bishop\" transform=\"translate(240, 15)\"/><use href=\"#black-knight\" xlink:href=\"#black-knight\" transform=\"translate(285, 15)\"/><use href=\"#black-rook\" xlink:href=\"#black-rook\" transform=\"translate(330, 15)\"/></svg>"
      ],
      "text/plain": [
       "<IPython.core.display.SVG object>"
      ]
     },
     "execution_count": 84,
     "metadata": {},
     "output_type": "execute_result"
    }
   ],
   "source": [
    "board = first_game.board()\n",
    "for i, move in enumerate(first_game.mainline_moves()):\n",
    "    board.push(move)\n",
    "    if i == 5:\n",
    "        break  # show board after 10 moves\n",
    "\n",
    "SVG(chess.svg.board(board, size=400))"
   ]
  },
  {
   "cell_type": "markdown",
   "metadata": {},
   "source": [
    "# Ratings Histogram"
   ]
  },
  {
   "cell_type": "code",
   "execution_count": null,
   "metadata": {},
   "outputs": [
    {
     "name": "stderr",
     "output_type": "stream",
     "text": [
      "1000000it [00:01, 911575.34it/s]\n",
      "Exception ignored in: <generator object pgn_text_game_generator at 0x130407de0>\n",
      "Traceback (most recent call last):\n",
      "  File \"/var/folders/xb/0_m2vys15615hn4xqm0k1_7m0000gn/T/ipykernel_32495/2962771306.py\", line 24, in <module>\n",
      "RuntimeError: generator ignored GeneratorExit\n"
     ]
    },
    {
     "name": "stdout",
     "output_type": "stream",
     "text": [
      "Number of games with players rated above 2000: 66480\n",
      "Number of games with players rated above 2200: 12700\n"
     ]
    },
    {
     "data": {
      "image/png": "[encoded data removed]",
      "text/plain": [
       "<Figure size 1000x600 with 1 Axes>"
      ]
     },
     "metadata": {},
     "output_type": "display_data"
    }
   ],
   "source": [
    "def pgn_text_game_generator(file_path):\n",
    "    with open(file_path) as f:\n",
    "        game_lines = []\n",
    "        for line in f:\n",
    "            # only yield lines starting with [WhiteElo \"...\"] or [BlackElo \"...\"]\n",
    "\n",
    "            if line.startswith(\"[WhiteElo\") or line.startswith(\"[BlackElo\"):\n",
    "                try:\n",
    "                # extract the rating from the line\n",
    "                    rating = int(re.search(r'\\d+', line).group())\n",
    "                    yield rating\n",
    "                \n",
    "                except:\n",
    "                    continue\n",
    "\n",
    "\n",
    "# Example: Extract ratings without using python-chess\n",
    "import re\n",
    "\n",
    "ratings = []\n",
    "RATED_ABOVE_2200 = 0\n",
    "RATED_ABOVE_2000 = 0\n",
    "\n",
    "for rating in tqdm(zip(pgn_text_game_generator(FILENAME), range(1000000))):\n",
    "    if rating[0] >= 2000:\n",
    "        RATED_ABOVE_2000 += 1\n",
    "        if rating[0] >= 2200:\n",
    "            RATED_ABOVE_2200 += 1\n",
    "\n",
    "    ratings.append(rating[0])\n",
    "    #print(rating[0])\n",
    "\n",
    "print(f\"Number of games with players rated above 2000: {RATED_ABOVE_2000}\")\n",
    "print(f\"Number of games with players rated above 2200: {RATED_ABOVE_2200}\")\n",
    "\n",
    "# plot histogram of ratings\n",
    "\n",
    "plt.figure(figsize=(10, 6))\n",
    "plt.hist(ratings, bins=range(800, 2801, 100), edgecolor='black')\n",
    "plt.title(\"Player Rating Distribution (First 10 Games)\")\n",
    "plt.xlabel(\"Elo Rating\")\n",
    "plt.ylabel(\"Number of Occurrences\")\n",
    "plt.grid(True)\n",
    "plt.show()"
   ]
  },
  {
   "cell_type": "code",
   "execution_count": 93,
   "metadata": {},
   "outputs": [
    {
     "name": "stderr",
     "output_type": "stream",
     "text": [
      "1111302it [00:01, 813326.22it/s]"
     ]
    },
    {
     "name": "stdout",
     "output_type": "stream",
     "text": [
      "Number of games in the PGN file: 1111302\n"
     ]
    },
    {
     "name": "stderr",
     "output_type": "stream",
     "text": [
      "\n"
     ]
    }
   ],
   "source": [
    "import itertools\n",
    "        \n",
    "def pgn_text_game_generator2(file_path):\n",
    "    with open(file_path) as f:\n",
    "        game_lines = []\n",
    "        for line in f:\n",
    "            # only yield lines starting with [WhiteElo \"...\"] or [BlackElo \"...\"]\n",
    "            if line.startswith(\"[Event\"):\n",
    "                yield line\n",
    "\n",
    "def game_generator(file_path, n=None):\n",
    "    if n is None:\n",
    "        yield from pgn_text_game_generator2(file_path)\n",
    "    else:\n",
    "        yield from itertools.islice(pgn_text_game_generator2(file_path), n)\n",
    "\n",
    "# count games\n",
    "\n",
    "game_count = 0\n",
    "for game in tqdm(game_generator(FILENAME)):\n",
    "    game_count += 1\n",
    "\n",
    "print(f\"Number of games in the PGN file: {game_count}\")"
   ]
  },
  {
   "cell_type": "markdown",
   "metadata": {},
   "source": [
    "# Creating position tensors"
   ]
  },
  {
   "cell_type": "code",
   "execution_count": 62,
   "metadata": {},
   "outputs": [],
   "source": [
    "import torch\n",
    "import chess\n",
    "import chess.pgn\n",
    "\n",
    "def piece_to_index(piece):\n",
    "    \"\"\"Map a chess.Piece to index 0–11 (or None for empty).\"\"\"\n",
    "    if piece is None:\n",
    "        return None\n",
    "    offset = 0 if piece.color == chess.WHITE else 6\n",
    "    return offset + piece.piece_type - 1  # piece_type in 1..6\n",
    "\n",
    "def board_to_tensor(board):\n",
    "    tensor = torch.zeros(8, 8, 18)  # (rows, cols, channels)\n",
    "\n",
    "    # Piece planes (12)\n",
    "    for square in chess.SQUARES:\n",
    "        piece = board.piece_at(square)\n",
    "        idx = piece_to_index(piece)\n",
    "        if idx is not None:\n",
    "            row, col = divmod(square, 8)\n",
    "            tensor[row, col, idx] = 1\n",
    "\n",
    "    # Side to move (1)\n",
    "    stm_channel = 12\n",
    "    if board.turn == chess.WHITE:\n",
    "        tensor[:, :, stm_channel] = 1  # broadcast over all squares\n",
    "\n",
    "    # # Castling rights (4)\n",
    "    # castling_rights = {\n",
    "    #     chess.WHITE: [chess.KING_SIDE, chess.QUEEN_SIDE],\n",
    "    #     chess.BLACK: [chess.KING_SIDE, chess.QUEEN_SIDE],\n",
    "    # }\n",
    "    # castling_channels = [13, 14, 15, 16]\n",
    "    # for i, (color, sides) in enumerate(castling_rights.items()):\n",
    "    #     for j, side in enumerate(sides):\n",
    "    #         if board.has_castling_rights(color) and board.has_kingside_castling_rights(color) if side == chess.KING_SIDE else board.has_queenside_castling_rights(color):\n",
    "    #             tensor[:, :, castling_channels[2*i + j]] = 1\n",
    "\n",
    "    # Castling rights (4)\n",
    "    castling_channels = [13, 14, 15, 16]\n",
    "    if board.has_kingside_castling_rights(chess.WHITE):\n",
    "        tensor[:, :, castling_channels[0]] = 1\n",
    "    if board.has_queenside_castling_rights(chess.WHITE):\n",
    "        tensor[:, :, castling_channels[1]] = 1\n",
    "    if board.has_kingside_castling_rights(chess.BLACK):\n",
    "        tensor[:, :, castling_channels[2]] = 1\n",
    "    if board.has_queenside_castling_rights(chess.BLACK):\n",
    "        tensor[:, :, castling_channels[3]] = 1\n",
    "\n",
    "    # En passant square (1)\n",
    "    ep_channel = 17\n",
    "    ep_square = board.ep_square\n",
    "    if ep_square is not None:\n",
    "        row, col = divmod(ep_square, 8)\n",
    "        tensor[row, col, ep_channel] = 1\n",
    "\n",
    "    return tensor\n",
    "\n",
    "def game_to_tensor_sequence(game):\n",
    "    \"\"\"Returns a tensor of shape (m, 8, 8, 18) for a single game.\"\"\"\n",
    "    board = game.board()\n",
    "    positions = []\n",
    "    for move in game.mainline_moves():\n",
    "        board.push(move)\n",
    "        tensor = board_to_tensor(board)\n",
    "        positions.append(tensor)\n",
    "    return torch.stack(positions)  # (m, 8, 8, 18)"
   ]
  },
  {
   "cell_type": "code",
   "execution_count": 78,
   "metadata": {},
   "outputs": [
    {
     "name": "stdout",
     "output_type": "stream",
     "text": [
      "torch.Size([31, 8, 8, 18])\n"
     ]
    },
    {
     "data": {
      "text/plain": [
       "tensor([[0., 0., 0., 0., 0., 0., 0., 0.],\n",
       "        [0., 0., 0., 0., 0., 0., 0., 0.],\n",
       "        [0., 0., 0., 0., 0., 0., 0., 0.],\n",
       "        [0., 0., 0., 0., 0., 0., 0., 0.],\n",
       "        [0., 0., 0., 0., 0., 0., 0., 0.],\n",
       "        [0., 0., 0., 0., 0., 0., 0., 0.],\n",
       "        [0., 0., 0., 0., 0., 0., 0., 0.],\n",
       "        [0., 0., 0., 0., 1., 0., 0., 0.]])"
      ]
     },
     "execution_count": 78,
     "metadata": {},
     "output_type": "execute_result"
    }
   ],
   "source": [
    "X = game_to_tensor_sequence(first_game)\n",
    "print(X.shape)\n",
    "X[0, :, :, 11]  # side to move"
   ]
  },
  {
   "cell_type": "code",
   "execution_count": 9,
   "metadata": {},
   "outputs": [
    {
     "name": "stdout",
     "output_type": "stream",
     "text": [
      "embed_dim : 128\n",
      "num_heads : 8\n",
      "dropout : 0.1\n",
      "mlp_ratio : 4\n",
      "eval_hidden_dim : 128\n",
      "num_layers : 12\n"
     ]
    }
   ],
   "source": [
    "# import ChessTransformer\n",
    "# read config from engine_config.yaml\n",
    "import yaml\n",
    "from src.engine import ChessTransformer\n",
    "\n",
    "with open(\"engine_config.yaml\", \"r\") as f:\n",
    "    config = yaml.safe_load(f)\n",
    "\n",
    "\n",
    "for key, value in config[\"model\"].items():\n",
    "    print(key, \":\", value)\n",
    "\n",
    "engine = ChessTransformer(config[\"model\"])"
   ]
  },
  {
   "cell_type": "code",
   "execution_count": 10,
   "metadata": {},
   "outputs": [
    {
     "name": "stdout",
     "output_type": "stream",
     "text": [
      "Number of parameters in the model: 3,199,617\n"
     ]
    }
   ],
   "source": [
    "# number of parameters in engine\n",
    "def count_parameters(model):\n",
    "    return sum(p.numel() for p in model.parameters() if p.requires_grad)\n",
    "\n",
    "print(f\"Number of parameters in the model: {count_parameters(engine):,}\")"
   ]
  },
  {
   "cell_type": "code",
   "execution_count": 124,
   "metadata": {},
   "outputs": [
    {
     "name": "stdout",
     "output_type": "stream",
     "text": [
      "Number of parameters in the first transformer block: 461,568\n"
     ]
    }
   ],
   "source": [
    "model = engine.blocks[0]\n",
    "\n",
    "# count parameters in model\n",
    "\n",
    "print(f\"Number of parameters in the first transformer block: {count_parameters(model):,}\")\n"
   ]
  },
  {
   "cell_type": "code",
   "execution_count": 6,
   "metadata": {},
   "outputs": [
    {
     "name": "stdout",
     "output_type": "stream",
     "text": [
      "in_check.dtype = torch.int64\n",
      "tensor(0.6789, grad_fn=<BinaryCrossEntropyWithLogitsBackward0>)\n",
      "tensor([[ 0.0934],\n",
      "        [ 0.0061],\n",
      "        [-0.1649],\n",
      "        [-0.1257]], grad_fn=<SqueezeBackward1>)\n"
     ]
    }
   ],
   "source": [
    "from chessengine.loss_heads import InCheckLoss\n",
    "import torch\n",
    "\n",
    "B = 4  # batch size\n",
    "x = torch.randn(B, 65, 20)  # random input tensor\n",
    "king_square = torch.randint(0, 64, (B,1))  # random king squares\n",
    "in_check = torch.randint(0, 2, (B,1))  # random in-check flags\n",
    "\n",
    "print(f'{in_check.dtype = }')\n",
    "\n",
    "config = {\"embed_dim\": 20}\n",
    "\n",
    "loss_fn = InCheckLoss(config)\n",
    "loss1, loss2 = loss_fn(x, king_square, in_check.float())\n",
    "print(loss1)\n",
    "print(loss2)  \n",
    "\n",
    "# board_x = x[:, 1:, :]  # Remove the [EVAL] token — shape becomes (B, 64, H)\n",
    "# print(f'{board_x.shape=}')\n",
    "\n",
    "# index = king_square.unsqueeze(-1).expand(-1, -1, board_x.size(-1))  # (B, 1, H)\n",
    "# print(f'{index.shape=}')\n",
    "\n",
    "# king_repr = board_x.gather(dim=1, index=index)  # (B, 1, H)\n",
    "# print(f'{king_repr.shape=}')"
   ]
  },
  {
   "cell_type": "code",
   "execution_count": 17,
   "metadata": {},
   "outputs": [],
   "source": [
    "from chessengine.dataclass import ChessPositionDataset\n",
    "\n",
    "data = ChessPositionDataset([\"../chess_engine/data/positions_short3.pt\"])"
   ]
  },
  {
   "cell_type": "code",
   "execution_count": 18,
   "metadata": {},
   "outputs": [
    {
     "data": {
      "text/plain": [
       "4346"
      ]
     },
     "execution_count": 18,
     "metadata": {},
     "output_type": "execute_result"
    }
   ],
   "source": [
    "len(data)"
   ]
  },
  {
   "cell_type": "code",
   "execution_count": 20,
   "metadata": {},
   "outputs": [
    {
     "name": "stdout",
     "output_type": "stream",
     "text": [
      "Time to train on 100000000 positions: 368154.62 seconds\n",
      "Time to train on 100000000 positions: 6135.91 minutes\n",
      "Time to train on 100000000 positions: 102.27 hours\n"
     ]
    }
   ],
   "source": [
    "N = 4346 \n",
    "T = 16 # seconds\n",
    "\n",
    "games = 1000000\n",
    "positions = games * 100\n",
    "\n",
    "time = T * positions / N\n",
    "time_m = time / 60  # convert to minutes\n",
    "time_h = time / 3600  # convert to hours\n",
    "print(f\"Time to train on {positions} positions: {time:.2f} seconds\")\n",
    "print(f\"Time to train on {positions} positions: {time_m:.2f} minutes\")\n",
    "print(f\"Time to train on {positions} positions: {time_h:.2f} hours\")"
   ]
  },
  {
   "cell_type": "markdown",
   "metadata": {},
   "source": [
    "# NEW DATABASE - ABOVE 2400 RATINGS"
   ]
  },
  {
   "cell_type": "code",
   "execution_count": 33,
   "metadata": {},
   "outputs": [
    {
     "name": "stdout",
     "output_type": "stream",
     "text": [
      "[Event \"Rated Bullet game\"]\n",
      "[Site \"https://lichess.org/OQPdf60o\"]\n",
      "[Date \"2025.02.01\"]\n",
      "[Round \"-\"]\n",
      "[White \"PSti\"]\n",
      "[Black \"arturogonzalez\"]\n",
      "[Result \"0-1\"]\n",
      "[UTCDate \"2025.02.01\"]\n",
      "[UTCTime \"00:00:05\"]\n",
      "[WhiteElo \"2462\"]\n",
      "[BlackElo \"2416\"]\n",
      "[WhiteRatingDiff \"-7\"]\n",
      "[BlackRatingDiff \"+6\"]\n",
      "[BlackTitle \"CM\"]\n",
      "[ECO \"A10\"]\n",
      "[Opening \"English Opening\"]\n",
      "[TimeControl \"60+0\"]\n",
      "[Termination \"Normal\"]\n",
      "\n",
      "1. c4 { [%clk 0:01:00] } 1... d6 { [%clk 0:01:00] } 2. g3 { [%clk 0:01:00] } 2... Nf6 { [%clk 0:01:00] } 3. Bg2 { [%clk 0:01:00] } 3... g6 { [%clk 0:00:59] } 4. Nf3 { [%clk 0:00:59] } 4... Bg7 { [%clk 0:00:59] } 5. Nc3 { [%clk 0:00:59] } 5... O-O { [%clk 0:00:59] } 6. O-O { [%clk 0:00:58] } 6... c6 { [%clk 0:00:59] } 7. d4 { [%clk 0:00:58] } 7... d5 { [%clk 0:00:58] } 8. cxd5 { [%clk 0:00:57] } 8... cxd5 { [%clk 0:00:58] } 9. Ne5 { [%clk 0:00:56] } 9... Nc6 { [%clk 0:00:55] } 10. Nxc6 { [%clk 0:00:55] } 10... bxc6 { [%clk 0:00:55] } 11. Bg5 { [%clk 0:00:55] } 11... Bf5 { [%clk 0:00:54] } 12. Na4 { [%clk 0:00:54] } 12... Rb8 { [%clk 0:00:53] } 13. b3 { [%clk 0:00:53] } 13... Qd6 { [%clk 0:00:51] } 14. Bf4 { [%clk 0:00:51] } 14... Qd8 { [%clk 0:00:46] } 15. Bxb8 { [%clk 0:00:50] } 15... Qxb8 { [%clk 0:00:46] } 16. Rc1 { [%clk 0:00:49] } 16... Rc8 { [%clk 0:00:44] } 17. Nc5 { [%clk 0:00:47] } 17... Ne4 { [%clk 0:00:44] } 18. Nxe4 { [%clk 0:00:45] } 18... dxe4 { [%clk 0:00:44] } 19. e3 { [%clk 0:00:44] } 19... e5 { [%clk 0:00:42] } 20. d5 { [%clk 0:00:40] } 20... cxd5 { [%clk 0:00:40] } 21. Qxd5 { [%clk 0:00:38] } 21... Rd8 { [%clk 0:00:38] } 22. Qc4 { [%clk 0:00:36] } 22... Qb7 { [%clk 0:00:36] } 23. Qc6 { [%clk 0:00:35] } 23... Qe7 { [%clk 0:00:33] } 24. Bxe4 { [%clk 0:00:33] } 24... Rd6 { [%clk 0:00:30] } 25. Qa8+ { [%clk 0:00:31] } 25... Rd8 { [%clk 0:00:29] } 26. Rc8 { [%clk 0:00:30] } 26... Bxc8 { [%clk 0:00:28] } 27. Qc6 { [%clk 0:00:27] } 27... Bd7 { [%clk 0:00:26] } 28. Qc2 { [%clk 0:00:25] } 28... Rc8 { [%clk 0:00:24] } 29. Qb2 { [%clk 0:00:23] } 29... Bf5 { [%clk 0:00:23] } 30. Bxf5 { [%clk 0:00:23] } 30... gxf5 { [%clk 0:00:23] } 31. b4 { [%clk 0:00:22] } 31... e4 { [%clk 0:00:23] } 32. b5 { [%clk 0:00:21] } 32... Bxb2 { [%clk 0:00:22] } 0-1\n",
      "\n",
      "\n",
      "\n",
      "\n",
      "================================================================================\n",
      "[Event \"Rated Blitz game\"]\n",
      "[Site \"https://lichess.org/EKN4pMXp\"]\n",
      "[Date \"2025.02.01\"]\n",
      "[Round \"-\"]\n",
      "[White \"estrelladelnorte2024\"]\n",
      "[Black \"TheFengwizzard\"]\n",
      "[Result \"1-0\"]\n",
      "[UTCDate \"2025.02.01\"]\n",
      "[UTCTime \"00:00:05\"]\n",
      "[WhiteElo \"2578\"]\n",
      "[BlackElo \"2541\"]\n",
      "[WhiteRatingDiff \"+5\"]\n",
      "[BlackRatingDiff \"-5\"]\n",
      "[ECO \"B31\"]\n",
      "[Opening \"Sicilian Defense: Nyezhmetdinov-Rossolimo Attack, Fianchetto Variation, Lutikov Gambit\"]\n",
      "[TimeControl \"180+2\"]\n",
      "[Termination \"Normal\"]\n",
      "\n",
      "1. e4 { [%eval 0.18] [%clk 0:03:00] } 1... c5 { [%eval 0.25] [%clk 0:03:00] } 2. Nf3 { [%eval 0.2] [%clk 0:02:59] } 2... Nc6 { [%eval 0.25] [%clk 0:03:01] } 3. Bb5 { [%eval 0.28] [%clk 0:02:59] } 3... g6 { [%eval 0.24] [%clk 0:03:02] } 4. O-O { [%eval 0.22] [%clk 0:02:59] } 4... Bg7 { [%eval 0.22] [%clk 0:03:04] } 5. c3 { [%eval 0.17] [%clk 0:02:59] } 5... Nf6 { [%eval 0.26] [%clk 0:03:04] } 6. d4 { [%eval 0.0] [%clk 0:03:00] } 6... cxd4 { [%eval 0.14] [%clk 0:03:03] } 7. cxd4 { [%eval -0.07] [%clk 0:03:00] } 7... Nxe4 { [%eval 0.0] [%clk 0:03:05] } 8. d5 { [%eval -0.22] [%clk 0:03:01] } 8... Nd6 { [%eval -0.23] [%clk 0:03:06] } 9. Ba4?! { [%eval -1.07] [%clk 0:02:40] } 9... b5 { [%eval -0.98] [%clk 0:02:55] } 10. Bc2 { [%eval -1.34] [%clk 0:02:28] } 10... Nb4 { [%eval -1.0] [%clk 0:02:54] } 11. Bb3 { [%eval -0.99] [%clk 0:02:27] } 11... a5 { [%eval -0.84] [%clk 0:02:46] } 12. a3 { [%eval -0.76] [%clk 0:02:24] } 12... Na6 { [%eval -0.83] [%clk 0:02:47] } 13. Re1 { [%eval -0.91] [%clk 0:02:13] } 13... O-O { [%eval -1.06] [%clk 0:02:47] } 14. Bg5 { [%eval -1.34] [%clk 0:01:52] } 14... Re8 { [%eval -1.16] [%clk 0:02:44] } 15. Nc3 { [%eval -1.28] [%clk 0:01:49] } 15... Bb7 { [%eval -1.32] [%clk 0:02:23] } 16. Rc1 { [%eval -1.32] [%clk 0:01:20] } 16... h6?! { [%eval -0.5] [%clk 0:02:04] } 17. Bf4 { [%eval -0.45] [%clk 0:01:18] } 17... b4?! { [%eval 0.33] [%clk 0:01:21] } 18. Ne4? { [%eval -0.96] [%clk 0:01:04] } 18... Nxe4 { [%eval -1.08] [%clk 0:01:19] } 19. Rxe4 { [%eval -1.02] [%clk 0:01:06] } 19... d6 { [%eval -0.9] [%clk 0:01:03] } 20. Qd2?! { [%eval -1.82] [%clk 0:00:43] } 20... Kh7?? { [%eval 1.3] [%clk 0:00:52] } 21. Be3? { [%eval -0.68] [%clk 0:00:40] } 21... e5 { [%eval -0.21] [%clk 0:00:46] } 22. Rh4 { [%eval -0.29] [%clk 0:00:32] } 22... h5? { [%eval 0.95] [%clk 0:00:40] } 23. g4 { [%eval 0.72] [%clk 0:00:30] } 23... Bf6 { [%eval 0.7] [%clk 0:00:28] } 24. Bg5 { [%eval 0.62] [%clk 0:00:21] } 24... e4?? { [%eval 4.55] [%clk 0:00:17] } 25. gxh5 { [%eval 4.25] [%clk 0:00:17] } 25... exf3?? { [%eval #16] [%clk 0:00:10] } 26. hxg6+ { [%eval #15] [%clk 0:00:18] } 26... Kg8 { [%eval #15] [%clk 0:00:07] } 27. Qf4 { [%eval #14] [%clk 0:00:19] } 27... Qe7 { [%eval #15] [%clk 0:00:02] } 28. gxf7+ { [%eval 8.4] [%clk 0:00:18] } 28... Qxf7? { [%eval #7] [%clk 0:00:04] } 29. Bxf6 { [%eval #6] [%clk 0:00:17] } 29... Qg6+ { [%eval #6] [%clk 0:00:03] } 30. Rg4 { [%eval #5] [%clk 0:00:18] } 30... Qxg4+ { [%eval #2] [%clk 0:00:03] } 31. Qxg4+ { [%eval #1] [%clk 0:00:19] } 31... Kf7 { [%eval #1] [%clk 0:00:04] } 32. Bg5 { [%eval #7] [%clk 0:00:20] } 32... Bc8 { [%eval #6] [%clk 0:00:04] } 33. Qf4+ { [%eval #7] [%clk 0:00:20] } 33... Kg6 { [%eval #5] [%clk 0:00:05] } 34. Bc2+ { [%eval #4] [%clk 0:00:18] } 34... Kg7 { [%eval #3] [%clk 0:00:04] } 35. Qf6+ { [%eval #3] [%clk 0:00:19] } 35... Kg8 { [%eval #3] [%clk 0:00:05] } 36. Qg6+ { [%eval #3] [%clk 0:00:16] } 36... Kf8 { [%eval #3] [%clk 0:00:06] } 37. Bh6+ { [%eval #2] [%clk 0:00:17] } 37... Ke7 { [%eval #2] [%clk 0:00:07] } 38. Qg7+ { [%eval #2] [%clk 0:00:17] } 38... Kd8 { [%eval #2] [%clk 0:00:08] } 39. Bg5+ { [%eval #1] [%clk 0:00:19] } 39... Re7 { [%eval #1] [%clk 0:00:08] } 40. Qxe7# { [%clk 0:00:18] } 1-0\n",
      "\n",
      "\n",
      "\n",
      "\n",
      "================================================================================\n",
      "[Event \"Rated Bullet game\"]\n",
      "[Site \"https://lichess.org/cwAgdYvG\"]\n",
      "[Date \"2025.02.01\"]\n",
      "[Round \"-\"]\n",
      "[White \"SanthoshAyyappan\"]\n",
      "[Black \"WelcomeViolence\"]\n",
      "[Result \"1-0\"]\n",
      "[UTCDate \"2025.02.01\"]\n",
      "[UTCTime \"00:00:02\"]\n",
      "[WhiteElo \"2595\"]\n",
      "[BlackElo \"2679\"]\n",
      "[WhiteRatingDiff \"+7\"]\n",
      "[BlackRatingDiff \"-7\"]\n",
      "[ECO \"C01\"]\n",
      "[Opening \"French Defense: Exchange Variation\"]\n",
      "[TimeControl \"30+0\"]\n",
      "[Termination \"Normal\"]\n",
      "\n",
      "1. e4 { [%clk 0:00:30] } 1... e6 { [%clk 0:00:30] } 2. d4 { [%clk 0:00:29] } 2... d5 { [%clk 0:00:30] } 3. exd5 { [%clk 0:00:29] } 3... exd5 { [%clk 0:00:30] } 4. Bd3 { [%clk 0:00:29] } 4... Nf6 { [%clk 0:00:30] } 5. Ne2 { [%clk 0:00:29] } 5... Be7 { [%clk 0:00:30] } 6. O-O { [%clk 0:00:29] } 6... O-O { [%clk 0:00:29] } 7. c4 { [%clk 0:00:29] } 7... Re8 { [%clk 0:00:29] } 8. cxd5 { [%clk 0:00:29] } 8... Nxd5 { [%clk 0:00:28] } 9. Nbc3 { [%clk 0:00:29] } 9... c6 { [%clk 0:00:28] } 10. Nxd5 { [%clk 0:00:28] } 10... cxd5 { [%clk 0:00:27] } 11. Qc2 { [%clk 0:00:28] } 11... Nc6 { [%clk 0:00:27] } 12. Be3 { [%clk 0:00:28] } 12... Kh8 { [%clk 0:00:27] } 13. Bxh7 { [%clk 0:00:27] } 13... Be6 { [%clk 0:00:27] } 14. Bd3 { [%clk 0:00:26] } 14... g6 { [%clk 0:00:17] } 15. Bxg6 { [%clk 0:00:25] } 15... fxg6 { [%clk 0:00:17] } 16. Qxg6 { [%clk 0:00:24] } 16... Bg8 { [%clk 0:00:16] } 17. Qh6+ { [%clk 0:00:24] } 17... Bh7 { [%clk 0:00:16] } 18. Nf4 { [%clk 0:00:22] } 18... Bf6 { [%clk 0:00:15] } 19. Nh5 { [%clk 0:00:20] } 19... Rf8 { [%clk 0:00:10] } 20. Bf4 { [%clk 0:00:19] } 20... Bxd4 { [%clk 0:00:09] } 21. Rfd1 { [%clk 0:00:19] } 21... Bf6 { [%clk 0:00:08] } 22. Nxf6 { [%clk 0:00:18] } 22... Qxf6 { [%clk 0:00:08] } 23. Qxf6+ { [%clk 0:00:17] } 23... Rxf6 { [%clk 0:00:08] } 24. Bg5 { [%clk 0:00:17] } 24... Rg6 { [%clk 0:00:07] } 25. h4 { [%clk 0:00:16] } 25... Rag8 { [%clk 0:00:07] } 26. f4 { [%clk 0:00:16] } 26... Nd4 { [%clk 0:00:06] } 27. Rxd4 { [%clk 0:00:15] } 27... Rxg5 { [%clk 0:00:05] } 28. fxg5 { [%clk 0:00:14] } 28... Bf5 { [%clk 0:00:05] } 29. Rad1 { [%clk 0:00:14] } 29... Be4 { [%clk 0:00:05] } 30. Re1 { [%clk 0:00:13] } 30... Kg7 { [%clk 0:00:05] } 31. Rexe4 { [%clk 0:00:12] } 31... dxe4 { [%clk 0:00:05] } 32. Rxe4 { [%clk 0:00:12] } 32... Kg6 { [%clk 0:00:05] } 33. Kf2 { [%clk 0:00:11] } 33... Kh5 { [%clk 0:00:05] } 34. Kf3 { [%clk 0:00:11] } 34... Rf8+ { [%clk 0:00:04] } 35. Rf4 { [%clk 0:00:11] } 35... Rd8 { [%clk 0:00:04] } 36. Rf7 { [%clk 0:00:09] } 36... Rd3+ { [%clk 0:00:04] } 37. Kf2 { [%clk 0:00:09] } 37... Rd2+ { [%clk 0:00:03] } 38. Kg3 { [%clk 0:00:08] } 38... Rxb2 { [%clk 0:00:03] } 39. Rh7+ { [%clk 0:00:07] } 39... Kg6 { [%clk 0:00:03] } 40. Rh6+ { [%clk 0:00:07] } 40... Kf5 { [%clk 0:00:03] } 41. Rf6+ { [%clk 0:00:07] } 41... Ke5 { [%clk 0:00:02] } 42. Rf3 { [%clk 0:00:07] } 42... Rxa2 { [%clk 0:00:02] } 43. Re3+ { [%clk 0:00:06] } 43... Kf5 { [%clk 0:00:01] } 44. Rf3+ { [%clk 0:00:06] } 44... Kg6 { [%clk 0:00:01] } 45. Rf6+ { [%clk 0:00:06] } 45... Kh5 { [%clk 0:00:01] } 46. Rh6# { [%clk 0:00:06] } 1-0\n",
      "\n",
      "\n",
      "\n",
      "\n",
      "================================================================================\n"
     ]
    }
   ],
   "source": [
    "def print_first_games(pgn_path, n_games=3):\n",
    "    with open(pgn_path, \"r\", encoding=\"utf-8\") as f:\n",
    "        game_lines = []\n",
    "        count = 0\n",
    "        for line in f:\n",
    "            if line.startswith(\"[Event \"):\n",
    "                if game_lines:\n",
    "                    print(\"\".join(game_lines))\n",
    "                    print(\"=\" * 80)\n",
    "                    count += 1\n",
    "                    if count >= n_games:\n",
    "                        break\n",
    "                game_lines = [line]\n",
    "            else:\n",
    "                game_lines.append(line)\n",
    "\n",
    "# Example usage:\n",
    "print_first_games(\"filtered_2400.pgn\", n_games=3)"
   ]
  },
  {
   "cell_type": "markdown",
   "metadata": {},
   "source": [
    "## Games with evaluation"
   ]
  },
  {
   "cell_type": "code",
   "execution_count": 31,
   "metadata": {},
   "outputs": [
    {
     "name": "stdout",
     "output_type": "stream",
     "text": [
      "Total games: 1737008\n",
      "Games with eval: 203480\n"
     ]
    }
   ],
   "source": [
    "def check_if_eval_exists(pgn_path, max_games=None):\n",
    "    with open(pgn_path, \"r\", encoding=\"utf-8\") as f:\n",
    "        game_lines = []\n",
    "        total_games = 0\n",
    "        count = 0\n",
    "        for line in f:\n",
    "            if line.startswith(\"[Event \"):\n",
    "                total_games += 1\n",
    "                if game_lines:\n",
    "                    game = \"\".join(game_lines)\n",
    "                    if \"%eval\" in game:\n",
    "                        count += 1\n",
    "                    if max_games and total_games >= max_games:\n",
    "                        break\n",
    "                    game_lines = []\n",
    "            else:\n",
    "                game_lines.append(line)\n",
    "\n",
    "    # Print the number of games with eval\n",
    "    print(f\"Total games: {total_games}\")\n",
    "    print(f\"Games with eval: {count}\")\n",
    "\n",
    "# Example usage:\n",
    "check_if_eval_exists(\"filtered_2400.pgn\", max_games=None)"
   ]
  },
  {
   "cell_type": "markdown",
   "metadata": {},
   "source": [
    "## Time conrol "
   ]
  },
  {
   "cell_type": "code",
   "execution_count": 2,
   "metadata": {},
   "outputs": [
    {
     "name": "stdout",
     "output_type": "stream",
     "text": [
      "Total games: 1737008\n",
      "Time control: {'60+0': 1295320, '180+2': 57054, '30+0': 65688, '180+0': 234866, '1800+2': 92, '600+0': 10122, '60+1': 21098, '120+1': 19134, '480+0': 619, '300+1': 438, '900+1': 97, '0+1': 5689, '1200+7': 1, '180+1': 2459, '900+2': 25, '45+0': 202, '600+1': 998, '1800+1': 286, '45+1': 18, '1200+8': 393, '900+10': 70, '300+5': 913, '60+3': 276, '60+2': 1310, '300+0': 4530, '600+3': 321, '0+2': 426, '1500+1': 86, '180+15': 20, '900+3': 127, '900+4': 1, '600+2': 568, '900+15': 44, '120+0': 881, '600+5': 577, '3600+2': 17, '1200+3': 2, '1500+0': 92, '120+10': 31, '900+5': 122, '300+10': 38, '900+0': 66, '600+10': 79, '30+1': 1066, '180+10': 52, '0+4': 267, '300+4': 66, '1320+2': 1, '300+3': 470, '120+15': 30, '360+2': 6, '60+15': 16, '1800+0': 169, '-': 503, '30+2': 188, '90+2': 150, '420+0': 59, '15+1': 653, '720+3': 27, '300+2': 201, '30+10': 10, '90+0': 995, '15+0': 4407, '180+3': 220, '1020+5': 6, '45+5': 12, '60+5': 81, '60+10': 46, '30+3': 93, '30+5': 16, '180+5': 69, '2400+1': 34, '90+4': 2, '1200+2': 2, '2400+0': 19, '1800+15': 16, '180+4': 52, '0+3': 18, '3600+15': 14, '1800+10': 26, '3600+10': 13, '3600+1': 14, '45+2': 7, '840+10': 2, '600+4': 52, '120+2': 227, '420+1': 43, '600+15': 22, '480+5': 7, '1800+4': 1, '1200+1': 1, '1200+4': 5, '360+4': 2, '90+3': 98, '1800+3': 107, '420+2': 67, '3600+3': 18, '360+5': 10, '90+1': 126, '1800+30': 1, '420+5': 25, '1800+5': 15, '120+3': 116, '300+15': 21, '300+20': 1, '1200+0': 3, '90+10': 16, '300+8': 2, '45+10': 9, '660+0': 1, '720+0': 23, '360+3': 90, '480+2': 31, '0+10': 8, '120+30': 2, '480+1': 43, '540+10': 7, '960+0': 19, '90+5': 13, '480+3': 1, '180+30': 1, '240+0': 21, '1500+15': 1, '1800+20': 1, '1200+10': 2, '300+30': 2, '960+5': 2, '15+2': 69, '1500+20': 1, '300+7': 6, '60+4': 74, '60+8': 8, '180+9': 2, '60+7': 3, '60+11': 1, '420+3': 5, '540+1': 6, '120+5': 6, '420+10': 12, '0+5': 3, '420+9': 1, '300+9': 4, '60+9': 2, '240+1': 21, '420+4': 4, '180+6': 4, '240+5': 5, '360+10': 6, '600+7': 2, '300+6': 1, '540+2': 5, '120+4': 10, '540+5': 5, '480+10': 6, '540+0': 13, '1200+15': 1, '1500+2': 2, '600+9': 1, '360+0': 11, '360+1': 4, '180+8': 1, '1500+10': 2, '60+6': 4, '600+20': 1, '1500+5': 4, '240+2': 10, '240+10': 2, '720+2': 1, '600+6': 1, '120+16': 2, '240+8': 9, '960+2': 1, '960+1': 2, '240+4': 11, '480+16': 3, '30+4': 11, '0+8': 8, '120+8': 9, '960+4': 1, '60+16': 1, '960+8': 4, '15+16': 1, '480+4': 7, '480+8': 11, '30+8': 9, '15+4': 8, '45+3': 12, '15+8': 8, '120+9': 2, '2700+0': 1}\n"
     ]
    }
   ],
   "source": [
    "def check_time_control(pgn_path, max_games=None):\n",
    "    time_control = {}\n",
    "    with open(pgn_path, \"r\", encoding=\"utf-8\") as f:\n",
    "        game_lines = []\n",
    "        total_games = 0\n",
    "        for line in f:\n",
    "            if max_games and total_games == max_games:\n",
    "                break\n",
    "            if line.startswith(\"[Event \"):\n",
    "                total_games += 1\n",
    "                #print(total_games)\n",
    "            if line.startswith(\"[TimeControl\"):\n",
    "                # input in the format [TimeControl \"300\"] extract the \"300\"\n",
    "                time_control_value = line.split('\"')[1]\n",
    "                # print(line)\n",
    "                # print(time_control_value)\n",
    "                time_control[time_control_value] = time_control.get(time_control_value, 0) + 1\n",
    "                \n",
    "    return total_games, time_control\n",
    "    \n",
    "\n",
    "total_games, time_control = check_time_control(\"filtered_2400.pgn\", max_games=None)\n",
    "\n",
    "# Print the number of games with eval\n",
    "print(f\"Total games: {total_games}\")\n",
    "print(f\"Time control: {time_control}\")"
   ]
  },
  {
   "cell_type": "code",
   "execution_count": 13,
   "metadata": {},
   "outputs": [
    {
     "name": "stdout",
     "output_type": "stream",
     "text": [
      "Time control filtered:\n",
      "{'60+0': 1295320, '180+2': 57054, '30+0': 65688, '180+0': 234866, '600+0': 10122, '60+1': 21098, '120+1': 19134, '480+0': 619, '300+1': 438, '0+1': 5689, '180+1': 2459, '600+1': 998, '1200+8': 393, '300+5': 913, '60+2': 1310, '300+0': 4530, '600+3': 321, '0+2': 426, '600+2': 568, '120+0': 881, '600+5': 577, '30+1': 1066, '300+3': 470, '15+1': 653, '90+0': 995, '15+0': 4407}\n",
      "   TimeControl    Count\n",
      "0         60+0  1295320\n",
      "3        180+0   234866\n",
      "2         30+0    65688\n",
      "1        180+2    57054\n",
      "5         60+1    21098\n",
      "6        120+1    19134\n",
      "4        600+0    10122\n",
      "9          0+1     5689\n",
      "15       300+0     4530\n",
      "25        15+0     4407\n",
      "10       180+1     2459\n",
      "14        60+2     1310\n",
      "21        30+1     1066\n",
      "11       600+1      998\n",
      "24        90+0      995\n",
      "13       300+5      913\n",
      "19       120+0      881\n",
      "23        15+1      653\n",
      "7        480+0      619\n",
      "20       600+5      577\n",
      "18       600+2      568\n",
      "22       300+3      470\n",
      "8        300+1      438\n",
      "17         0+2      426\n",
      "12      1200+8      393\n",
      "16       600+3      321\n"
     ]
    },
    {
     "data": {
      "text/html": [
       "<div>\n",
       "<style scoped>\n",
       "    .dataframe tbody tr th:only-of-type {\n",
       "        vertical-align: middle;\n",
       "    }\n",
       "\n",
       "    .dataframe tbody tr th {\n",
       "        vertical-align: top;\n",
       "    }\n",
       "\n",
       "    .dataframe thead th {\n",
       "        text-align: right;\n",
       "    }\n",
       "</style>\n",
       "<table border=\"1\" class=\"dataframe\">\n",
       "  <thead>\n",
       "    <tr style=\"text-align: right;\">\n",
       "      <th></th>\n",
       "      <th>TimeControl</th>\n",
       "      <th>Count</th>\n",
       "    </tr>\n",
       "  </thead>\n",
       "  <tbody>\n",
       "    <tr>\n",
       "      <th>0</th>\n",
       "      <td>0</td>\n",
       "      <td>6115</td>\n",
       "    </tr>\n",
       "    <tr>\n",
       "      <th>1</th>\n",
       "      <td>15</td>\n",
       "      <td>5060</td>\n",
       "    </tr>\n",
       "    <tr>\n",
       "      <th>2</th>\n",
       "      <td>30</td>\n",
       "      <td>66754</td>\n",
       "    </tr>\n",
       "    <tr>\n",
       "      <th>3</th>\n",
       "      <td>60</td>\n",
       "      <td>1317728</td>\n",
       "    </tr>\n",
       "    <tr>\n",
       "      <th>4</th>\n",
       "      <td>90</td>\n",
       "      <td>995</td>\n",
       "    </tr>\n",
       "    <tr>\n",
       "      <th>5</th>\n",
       "      <td>120</td>\n",
       "      <td>20015</td>\n",
       "    </tr>\n",
       "    <tr>\n",
       "      <th>6</th>\n",
       "      <td>180</td>\n",
       "      <td>294379</td>\n",
       "    </tr>\n",
       "    <tr>\n",
       "      <th>7</th>\n",
       "      <td>300</td>\n",
       "      <td>6351</td>\n",
       "    </tr>\n",
       "    <tr>\n",
       "      <th>8</th>\n",
       "      <td>480</td>\n",
       "      <td>619</td>\n",
       "    </tr>\n",
       "    <tr>\n",
       "      <th>9</th>\n",
       "      <td>600</td>\n",
       "      <td>12586</td>\n",
       "    </tr>\n",
       "    <tr>\n",
       "      <th>10</th>\n",
       "      <td>1200</td>\n",
       "      <td>393</td>\n",
       "    </tr>\n",
       "  </tbody>\n",
       "</table>\n",
       "</div>"
      ],
      "text/plain": [
       "    TimeControl    Count\n",
       "0             0     6115\n",
       "1            15     5060\n",
       "2            30    66754\n",
       "3            60  1317728\n",
       "4            90      995\n",
       "5           120    20015\n",
       "6           180   294379\n",
       "7           300     6351\n",
       "8           480      619\n",
       "9           600    12586\n",
       "10         1200      393"
      ]
     },
     "execution_count": 13,
     "metadata": {},
     "output_type": "execute_result"
    }
   ],
   "source": [
    "import pandas as pd\n",
    "\n",
    "\n",
    "time_control_filtered = {k: v for k, v in time_control.items() if int(v) >= 300 and k != '-'}\n",
    "print(f\"Time control filtered:\") \n",
    "print(time_control_filtered)\n",
    "time_control_df = pd.DataFrame(time_control_filtered.items(), columns=[\"TimeControl\", \"Count\"])\n",
    "time_control_df = time_control_df[time_control_df[\"Count\"] >= 300]\n",
    "# reorde by count\n",
    "time_control_df = time_control_df.sort_values(by=\"Count\", ascending=False)\n",
    "print(time_control_df)\n",
    "\n",
    "# TimeControl is given in the form \"300+0\" or \"60+1\" etc. The +1 is increment time. \n",
    "# Remove increment time from the TimeControl and sum all the game time. \n",
    "# E.g. \"60+0\" and \"60+1\" should be counted as 60 and added together.\n",
    "\n",
    "# Create a new column with the time in seconds\n",
    "time_control_df[\"TimeControl\"] = time_control_df[\"TimeControl\"].str.split(\"+\").str[0].astype(int)\n",
    "# add together equal time controls\n",
    "time_control_df = time_control_df.groupby(\"TimeControl\").sum().reset_index()\n",
    "# sort by time control\n",
    "time_control_df = time_control_df.sort_values(by=\"TimeControl\", ascending=True)\n",
    "time_control_df"
   ]
  },
  {
   "cell_type": "code",
   "execution_count": null,
   "metadata": {},
   "outputs": [
    {
     "data": {
      "text/plain": [
       "{0: 6115,\n",
       " 15: 5060,\n",
       " 30: 66754,\n",
       " 60: 1317728,\n",
       " 90: 995,\n",
       " 120: 20015,\n",
       " 180: 294379,\n",
       " 300: 6351,\n",
       " 480: 619,\n",
       " 600: 12586,\n",
       " 1200: 393}"
      ]
     },
     "execution_count": 14,
     "metadata": {},
     "output_type": "execute_result"
    }
   ],
   "source": [
    "# convert time_control_df to a dictionary\n",
    "time_control_dict = time_control_df.set_index(\"TimeControl\").to_dict()[\"Count\"]\n",
    "\n",
    "time_control_dict"
   ]
  },
  {
   "cell_type": "code",
   "execution_count": 12,
   "metadata": {},
   "outputs": [
    {
     "name": "stdout",
     "output_type": "stream",
     "text": [
      "Filtering PGN file: filtered_2400.pgn\n",
      "Output file: filtered_elo2400_time180.pgn\n",
      "Minimum time: 180\n",
      "Maximum games: None\n",
      "Found 1737008 games in the PGN file\n"
     ]
    },
    {
     "name": "stderr",
     "output_type": "stream",
     "text": [
      "Filtering games: 100%|██████████| 1737008/1737008 [00:13<00:00, 133031.04it/s]\n"
     ]
    },
    {
     "name": "stdout",
     "output_type": "stream",
     "text": [
      "Saved 317083 filtered games to filtered_elo2400_time180.pgn\n"
     ]
    }
   ],
   "source": [
    "%run preprocessing/pgn_time_filtering.py --input filtered_2400.pgn --output filtered_elo2400_time180.pgn --min_time 180"
   ]
  },
  {
   "cell_type": "code",
   "execution_count": 19,
   "metadata": {},
   "outputs": [
    {
     "name": "stdout",
     "output_type": "stream",
     "text": [
      "Total games: 317083\n",
      "Games with eval: 144896\n"
     ]
    }
   ],
   "source": [
    "import json\n",
    "\n",
    "def check_if_eval_exists(pgn_path, max_games=None):\n",
    "    with open(pgn_path, \"r\", encoding=\"utf-8\") as f:\n",
    "        game_lines = []\n",
    "        total_games = 0\n",
    "        count = 0\n",
    "        for line in f:\n",
    "            obj = json.loads(line)\n",
    "            pgn = obj[\"pgn\"]\n",
    "            total_games += 1\n",
    "            if \"%eval\" in pgn:\n",
    "                count += 1\n",
    "            if max_games and total_games >= max_games:\n",
    "                break\n",
    "           \n",
    "           \n",
    "    return total_games, count\n",
    "    \n",
    "\n",
    "# Example usage:\n",
    "total_games, count = check_if_eval_exists(\"filtered_elo2400_time180.pgn\", max_games=None)\n",
    "\n",
    "# Print the number of games with eval\n",
    "print(f\"Total games: {total_games}\")\n",
    "print(f\"Games with eval: {count}\")"
   ]
  },
  {
   "cell_type": "markdown",
   "metadata": {},
   "source": [
    "# Creat Small test data"
   ]
  },
  {
   "cell_type": "code",
   "execution_count": 12,
   "metadata": {},
   "outputs": [],
   "source": [
    "# take the first 100 lines from the file data/shards300_small/positions0.pgn\n",
    "file_path = \"data/shards300_small/shard_0.pgn\"\n",
    "with open(file_path, \"r\", encoding=\"utf-8\") as f:\n",
    "    lines = []\n",
    "    for i, line in enumerate(f):\n",
    "        if i < 100:\n",
    "            lines.append(line)\n",
    "        else:\n",
    "            break\n",
    "\n",
    "    with open(\"data/test_shard.pgn\", \"w\", encoding=\"utf-8\") as f_out:\n",
    "        f_out.writelines(lines)\n"
   ]
  },
  {
   "cell_type": "markdown",
   "metadata": {},
   "source": [
    "# Create Data Shards"
   ]
  },
  {
   "cell_type": "code",
   "execution_count": 2,
   "metadata": {},
   "outputs": [
    {
     "name": "stdout",
     "output_type": "stream",
     "text": [
      "Created 23 shards.\n"
     ]
    }
   ],
   "source": [
    "def create_pgn_shards(pgn_path, out_path, games_per_shard=5000):\n",
    "    with open(pgn_path, \"r\", encoding=\"utf-8\") as f:\n",
    "        shard = []\n",
    "        shard_idx = 0\n",
    "        for line in f:\n",
    "            shard.append(line)\n",
    "            if len(shard) == games_per_shard:\n",
    "                with open(f\"{out_path}/shard_{shard_idx}.pgn\", \"w\", encoding=\"utf-8\") as out_f:\n",
    "                    out_f.writelines(shard)\n",
    "                shard = []\n",
    "                shard_idx += 1\n",
    "\n",
    "        if shard:\n",
    "            with open(f\"{out_path}/shard_{shard_idx}.pgn\", \"w\", encoding=\"utf-8\") as out_f:\n",
    "                out_f.writelines(shard)\n",
    "    print(f\"Created {shard_idx + 1} shards.\")\n",
    "# Example usage:\n",
    "create_pgn_shards(\"filtered_elo2400_time300.pgn\", \"data/shards300_small\", games_per_shard=1000)\n",
    "        "
   ]
  },
  {
   "cell_type": "markdown",
   "metadata": {},
   "source": [
    "# Generate Positions"
   ]
  },
  {
   "cell_type": "code",
   "execution_count": null,
   "metadata": {},
   "outputs": [
    {
     "name": "stderr",
     "output_type": "stream",
     "text": [
      "Parsing games: 1000it [01:01, 16.24it/s]\n"
     ]
    },
    {
     "name": "stdout",
     "output_type": "stream",
     "text": [
      "Saved 97604 positions to data/shards300_small/positions9.pt\n"
     ]
    }
   ],
   "source": [
    "%run chessengine/preprocessing/position_parsing.py --input data/shards300_small/shard_10.pgn --output data/shards300_small/positions10.pt"
   ]
  },
  {
   "cell_type": "code",
   "execution_count": 15,
   "metadata": {},
   "outputs": [
    {
     "name": "stdout",
     "output_type": "stream",
     "text": [
      "Parsing shard 20...\n"
     ]
    },
    {
     "name": "stderr",
     "output_type": "stream",
     "text": [
      "Parsing games: 1000it [01:10, 14.27it/s]\n"
     ]
    },
    {
     "name": "stdout",
     "output_type": "stream",
     "text": [
      "Saved 113889 positions to data/shards300_small/positions20.pt\n",
      "Parsing shard 21...\n"
     ]
    },
    {
     "name": "stderr",
     "output_type": "stream",
     "text": [
      "Parsing games: 1000it [01:11, 14.05it/s]\n"
     ]
    },
    {
     "name": "stdout",
     "output_type": "stream",
     "text": [
      "Saved 117169 positions to data/shards300_small/positions21.pt\n",
      "Parsing shard 22...\n"
     ]
    },
    {
     "name": "stderr",
     "output_type": "stream",
     "text": [
      "Parsing games: 596it [00:40, 14.56it/s]\n"
     ]
    },
    {
     "name": "stdout",
     "output_type": "stream",
     "text": [
      "Saved 65961 positions to data/shards300_small/positions22.pt\n"
     ]
    }
   ],
   "source": [
    "import subprocess\n",
    "\n",
    "for i in range(20, 23):  # or whatever range you want\n",
    "    input_file = f\"data/shards300_small/shard_{i}.pgn\"\n",
    "    output_file = f\"data/shards300_small/positions{i}.pt\"\n",
    "    command = [\n",
    "        \"python3\", \"chessengine/preprocessing/position_parsing.py\",\n",
    "        \"--input\", input_file,\n",
    "        \"--output\", output_file\n",
    "    ]\n",
    "    print(f\"Parsing shard {i}...\")\n",
    "    subprocess.run(command)"
   ]
  },
  {
   "cell_type": "code",
   "execution_count": 13,
   "metadata": {},
   "outputs": [
    {
     "name": "stderr",
     "output_type": "stream",
     "text": [
      "Parsing games: 100it [00:06, 14.95it/s]\n"
     ]
    },
    {
     "name": "stdout",
     "output_type": "stream",
     "text": [
      "Saved 11643 positions to data/test_positions.pt\n"
     ]
    }
   ],
   "source": [
    "%run preprocessing/position_parsing.py --input data/test_shard.pgn --output data/test_positions.pt"
   ]
  },
  {
   "cell_type": "code",
   "execution_count": 9,
   "metadata": {},
   "outputs": [
    {
     "name": "stdout",
     "output_type": "stream",
     "text": [
      "[DEBUG] Loading sample 0 from shard 0, local idx 0\n",
      "x.shape = torch.Size([8, 8, 21])\n"
     ]
    }
   ],
   "source": [
    "from chessengine.dataclass import ChessPositionDataset\n",
    "from chessengine.sampler import ShardSampler\n",
    "from chessengine.dataloader import get_dataloaders\n",
    "dataset = ChessPositionDataset([\"data/test_positions.pt\"])\n",
    "sampler = ShardSampler(dataset,shuffle_shards=True, shuffle_within_shard=True) \n",
    "    \n",
    "x, labels = dataset[0]\n",
    "print(f\"{x.shape = }\")"
   ]
  },
  {
   "cell_type": "code",
   "execution_count": 11,
   "metadata": {},
   "outputs": [
    {
     "name": "stdout",
     "output_type": "stream",
     "text": [
      "['__add__', '__annotations__', '__class__', '__class_getitem__', '__delattr__', '__dict__', '__dir__', '__doc__', '__eq__', '__format__', '__ge__', '__getattribute__', '__getitem__', '__getstate__', '__gt__', '__hash__', '__init__', '__init_subclass__', '__le__', '__len__', '__lt__', '__module__', '__ne__', '__new__', '__orig_bases__', '__parameters__', '__reduce__', '__reduce_ex__', '__repr__', '__setattr__', '__sizeof__', '__slotnames__', '__slots__', '__str__', '__subclasshook__', '__weakref__', '_is_protocol', 'data_paths', 'format_item', 'index_map', 'shard_sizes']\n"
     ]
    },
    {
     "data": {
      "text/plain": [
       "tensor([1])"
      ]
     },
     "execution_count": 11,
     "metadata": {},
     "output_type": "execute_result"
    }
   ],
   "source": [
    "labels.keys()\n",
    "labels[\"legal_moves\"].shape\n",
    "print(dir(dataset))\n",
    "labels[\"true_index\"]\n",
    "\n",
    "\n"
   ]
  },
  {
   "cell_type": "code",
   "execution_count": 1,
   "metadata": {},
   "outputs": [
    {
     "name": "stdout",
     "output_type": "stream",
     "text": [
      "Loading dataset from: ['data/test_positions.pt']\n"
     ]
    },
    {
     "name": "stderr",
     "output_type": "stream",
     "text": [
      "/Users/itamarshamir/Documents/code/chess_engine/chessengine/dataclass.py:14: FutureWarning: You are using `torch.load` with `weights_only=False` (the current default value), which uses the default pickle module implicitly. It is possible to construct malicious pickle data which will execute arbitrary code during unpickling (See https://github.com/pytorch/pytorch/blob/main/SECURITY.md#untrusted-models for more details). In a future release, the default value for `weights_only` will be flipped to `True`. This limits the functions that could be executed during unpickling. Arbitrary objects will no longer be allowed to be loaded via this mode unless they are explicitly allowlisted by the user via `torch.serialization.add_safe_globals`. We recommend you start setting `weights_only=True` for any use case where you don't have full control of the loaded file. Please open an issue on GitHub for any issues related to this experimental feature.\n",
      "  data = torch.load(path, map_location='cpu')\n"
     ]
    },
    {
     "name": "stdout",
     "output_type": "stream",
     "text": [
      "Train set size: 10479\n",
      "Validation set size: 1164\n",
      "Batch size: 2\n",
      "Preparing sampler...\n",
      "Preparing dataloaders with 0 workers...\n"
     ]
    }
   ],
   "source": [
    "from chessengine.dataloader import get_dataloaders\n",
    "# get config from engine_config.yaml\n",
    "import yaml\n",
    "\n",
    "with open(\"engine_config.yaml\", \"r\") as f:\n",
    "    config = yaml.safe_load(f)\n",
    "\n",
    "config[\"data\"][\"batch_size\"] = 2\n",
    "config[\"data\"][\"num_workers\"] = 0\n",
    "config[\"data\"][\"persistent_workers\"] = False\n",
    "# get dataloaders\n",
    "train_loader, val_loader = get_dataloaders([\"data/test_positions.pt\"], config[\"data\"])"
   ]
  },
  {
   "cell_type": "code",
   "execution_count": 1,
   "metadata": {},
   "outputs": [
    {
     "name": "stdout",
     "output_type": "stream",
     "text": [
      "loss:\n",
      "tensor([  0.6985,   0.7032,   0.6299,   0.6134,   0.7216,   0.7586,   0.6158,\n",
      "          0.7114,   0.7562,   0.8501,   0.5666,   0.4758,   0.5975,   0.6392,\n",
      "          0.5399,   0.8829,   0.7161,   0.8262,   0.9177,   0.5820,   0.9049,\n",
      "          0.6670, -22.4928,   0.7626,   0.6634,   0.6103,   0.6933,  -2.8919,\n",
      "          0.6614,   0.8940,   0.8519,   0.6377,   0.8027,   0.6334,   0.7591,\n",
      "          0.7685,   0.8218,   0.5390,   0.6493,   0.6855,   0.7375,   0.6517,\n",
      "          0.6989,   0.6190,   0.7582,   0.6638,   0.6948,   0.6977,   0.7915,\n",
      "          0.7678,   0.5948,   0.6811,   0.6612,  39.9800,   0.7262,   0.9077,\n",
      "          0.5258,   0.5869,   0.9353,   0.7642,   0.6843,  -3.3443,   0.6531,\n",
      "          0.7118], grad_fn=<ViewBackward0>)\n",
      "idx where loss is < 0:\n",
      "tensor([22, 27, 61])\n",
      "valid:\n",
      "tensor([1, 1, 1, 1, 1, 1, 1, 1, 1, 1, 1, 1, 1, 1, 1, 1, 1, 1, 1, 1, 1, 1, 0, 1,\n",
      "        1, 1, 1, 0, 1, 1, 1, 1, 1, 1, 1, 1, 1, 1, 1, 1, 1, 1, 1, 1, 1, 1, 1, 1,\n",
      "        1, 1, 1, 1, 1, 0, 1, 1, 1, 1, 1, 1, 1, 0, 1, 1])\n",
      "idx where valid is 0:\n",
      "tensor([22, 27, 53, 61])\n",
      "loss[valid]:\n",
      "tensor([0.6985, 0.7032, 0.6299, 0.6134, 0.7216, 0.7586, 0.6158, 0.7114, 0.7562,\n",
      "        0.8501, 0.5666, 0.4758, 0.5975, 0.6392, 0.5399, 0.8829, 0.7161, 0.8262,\n",
      "        0.9177, 0.5820, 0.9049, 0.6670, 0.7626, 0.6634, 0.6103, 0.6933, 0.6614,\n",
      "        0.8940, 0.8519, 0.6377, 0.8027, 0.6334, 0.7591, 0.7685, 0.8218, 0.5390,\n",
      "        0.6493, 0.6855, 0.7375, 0.6517, 0.6989, 0.6190, 0.7582, 0.6638, 0.6948,\n",
      "        0.6977, 0.7915, 0.7678, 0.5948, 0.6811, 0.6612, 0.7262, 0.9077, 0.5258,\n",
      "        0.5869, 0.9353, 0.7642, 0.6843, 0.6531, 0.7118],\n",
      "       grad_fn=<IndexBackward0>)\n",
      "loss after valid:\n",
      "tensor(0.7054, grad_fn=<MeanBackward0>)\n"
     ]
    }
   ],
   "source": [
    "from chessengine.loss_heads import InCheckLoss\n",
    "import torch\n",
    "import yaml \n",
    "\n",
    "# load config from engine_config.yaml\n",
    "with open(\"engine_config.yaml\", \"r\") as f:\n",
    "    config = yaml.safe_load(f)\n",
    "\n",
    "\n",
    "incheckloss = InCheckLoss(config)\n",
    "\n",
    "# create random input tensor\n",
    "B = 64  # batch size\n",
    "H = 128\n",
    "for i in range(1):\n",
    "    x = torch.randn(B, 65, 128)  # random input tensor\n",
    "    king_square = torch.randint(0, 64, (B,1))  # random king squares\n",
    "    in_check = torch.randint(0, 2, (B,1))  # random in-check flags\n",
    "    for j in range(4):\n",
    "        b = torch.randint(0, B, (1,))  # random in-check flags\n",
    "        in_check[b, :] = -100\n",
    "    # print(in_check[:, 0])\n",
    "\n",
    "    loss1, logits = incheckloss(x, king_square, in_check.float())\n",
    "#     if loss1 <= 0:\n",
    "#         print(f\"loss1: {loss1}\")\n",
    "#         print(f\"loss2: {logits[b, :]}\")\n",
    "#         print(f\"b: {b}\")\n",
    "#         print(f\"king_square: {king_square[b, :]}\")\n",
    "#         print(f\"true_index: {in_check[b, :]}\")\n",
    "#         # print(in_check[b, :])\n",
    "# # print(loss2)\n"
   ]
  },
  {
   "cell_type": "code",
   "execution_count": 6,
   "metadata": {},
   "outputs": [
    {
     "name": "stdout",
     "output_type": "stream",
     "text": [
      "torch.Size([64])\n"
     ]
    },
    {
     "data": {
      "text/plain": [
       "torch.Size([64])"
      ]
     },
     "execution_count": 6,
     "metadata": {},
     "output_type": "execute_result"
    }
   ],
   "source": [
    "valid = torch.tensor([1, 1, 1, 1, 1, 1, 1, 1, 1, 1, 1, 1, 1, 1, 1, 1, 1, 1, 1, 1, 1, 1, 1, 1,\n",
    "        1, 1, 1, 1, 1, 1, 1, 1, 1, 1, 1, 1, 1, 0, 1, 1, 1, 1, 1, 1, 1, 1, 1, 1,\n",
    "        1, 1, 1, 1, 1, 1, 1, 1, 1, 1, 1, 1, 1, 1, 1, 1])\n",
    "loss = torch.tensor([ 0.6063,  0.8020,  0.7869,  0.8826,  0.6821,  0.5616,  0.6359,  0.7321,\n",
    "         0.7419,  0.7735,  0.7202,  0.8155,  0.6611,  0.6697,  0.5940,  0.7786,\n",
    "         0.7346,  0.6806,  0.9149,  0.6604,  0.7277,  0.6209,  0.7749,  0.6936,\n",
    "         0.8489,  0.6533,  0.6617,  0.6670,  0.8272,  0.6780,  0.6676,  0.8489,\n",
    "         0.8049,  0.5238,  0.6306,  0.8472,  0.8062, -3.6994,  0.6763,  0.6425,\n",
    "         0.7070,  0.6805,  0.6883,  0.7389,  0.5516,  0.7131,  0.7508,  0.6462,\n",
    "         0.7405,  0.7288,  0.7849,  1.0000,  0.6032,  0.6954,  0.7975,  0.6664,\n",
    "         0.6174,  0.7213,  0.5672,  0.7089,  0.7973,  0.8160,  0.6465,  0.6873])\n",
    "print(loss.shape)\n",
    "valid.shape"
   ]
  },
  {
   "cell_type": "code",
   "execution_count": 29,
   "metadata": {},
   "outputs": [],
   "source": [
    "import importlib\n",
    "import chessengine.datamodule\n",
    "importlib.reload(chessengine.datamodule)\n",
    "from chessengine.datamodule import ChessDataModule\n",
    "import yaml\n",
    "\n",
    "# load config from engine_config.yaml\n",
    "with open(\"engine_config.yaml\", \"r\") as f:\n",
    "    config = yaml.safe_load(f)\n",
    "\n",
    "paths = [\"data/test_positions.pt\"]\n",
    "datamodule = ChessDataModule(config, paths)"
   ]
  },
  {
   "cell_type": "code",
   "execution_count": 31,
   "metadata": {},
   "outputs": [
    {
     "name": "stderr",
     "output_type": "stream",
     "text": [
      "/Users/itamarshamir/Documents/code/chess_engine/chessengine/dataclass.py:11: FutureWarning: You are using `torch.load` with `weights_only=False` (the current default value), which uses the default pickle module implicitly. It is possible to construct malicious pickle data which will execute arbitrary code during unpickling (See https://github.com/pytorch/pytorch/blob/main/SECURITY.md#untrusted-models for more details). In a future release, the default value for `weights_only` will be flipped to `True`. This limits the functions that could be executed during unpickling. Arbitrary objects will no longer be allowed to be loaded via this mode unless they are explicitly allowlisted by the user via `torch.serialization.add_safe_globals`. We recommend you start setting `weights_only=True` for any use case where you don't have full control of the loaded file. Please open an issue on GitHub for any issues related to this experimental feature.\n",
      "  data = torch.load(path)\n"
     ]
    },
    {
     "name": "stdout",
     "output_type": "stream",
     "text": [
      "Train set size: 10479\n",
      "Validation set size: 1164\n",
      "x.shape = torch.Size([64, 8, 8, 21])\n",
      "labels['legal_moves'].shape = torch.Size([64, 64, 49])\n",
      "labels['true_index'].shape = torch.Size([64])\n"
     ]
    }
   ],
   "source": [
    "datamodule.setup()\n",
    "data_loader = datamodule.train_dataloader()\n",
    "for batch in data_loader:\n",
    "    x, labels = batch\n",
    "    print(f\"{x.shape = }\")\n",
    "    print(f\"{labels['legal_moves'].shape = }\")\n",
    "    print(f\"{labels['true_index'].shape = }\")\n",
    "    break"
   ]
  },
  {
   "cell_type": "code",
   "execution_count": 9,
   "metadata": {},
   "outputs": [
    {
     "name": "stdout",
     "output_type": "stream",
     "text": [
      "{'seed': 42, 'data_split': 0.01, 'dataloader': {'batch_size': 4, 'num_workers': 0, 'persistent_workers': False}, 'model': {'feature_dim': 21, 'embed_dim': 128, 'num_heads': 8, 'dropout': 0.0, 'mlp_ratio': 4, 'eval_hidden_dim': 128, 'num_layers': 12, 'n_recycles': 4}, 'loss': {'eval_loss_weight': 0.0, 'move_loss_weight': 1, 'threat_loss_weight': 0.2, 'incheck_loss_weight': 0.1, 'use_move_weight': False}, 'train': {'lr': 0.0001, 'weight_decay': 0.01, 'T_max': 2, 'max_epochs': 30, 'device': 'mps', 'accelerator': 'mps'}}\n",
      "You are using the plain ModelCheckpoint callback. Consider using LitModelCheckpoint which with seamless uploading to Model registry.\n",
      "GPU available: True (mps), used: True\n",
      "TPU available: False, using: 0 TPU cores\n",
      "HPU available: False, using: 0 HPUs\n",
      "/Users/itamarshamir/miniconda3/envs/chess_engine_py311/lib/python3.11/site-packages/pytorch_lightning/loops/utilities.py:73: `max_epochs` was not set. Setting it to 1000 epochs. To train without an epoch limit, set `max_epochs=-1`.\n",
      "/Users/itamarshamir/Documents/code/chess_engine/chessengine/model/dataclass.py:11: FutureWarning: You are using `torch.load` with `weights_only=False` (the current default value), which uses the default pickle module implicitly. It is possible to construct malicious pickle data which will execute arbitrary code during unpickling (See https://github.com/pytorch/pytorch/blob/main/SECURITY.md#untrusted-models for more details). In a future release, the default value for `weights_only` will be flipped to `True`. This limits the functions that could be executed during unpickling. Arbitrary objects will no longer be allowed to be loaded via this mode unless they are explicitly allowlisted by the user via `torch.serialization.add_safe_globals`. We recommend you start setting `weights_only=True` for any use case where you don't have full control of the loaded file. Please open an issue on GitHub for any issues related to this experimental feature.\n",
      "  data = torch.load(path)\n",
      "Train set size: 11527\n",
      "Validation set size: 116\n",
      "/Users/itamarshamir/miniconda3/envs/chess_engine_py311/lib/python3.11/site-packages/pytorch_lightning/trainer/connectors/data_connector.py:425: The 'train_dataloader' does not have many workers which may be a bottleneck. Consider increasing the value of the `num_workers` argument` to `num_workers=7` in the `DataLoader` to improve performance.\n",
      "/Users/itamarshamir/miniconda3/envs/chess_engine_py311/lib/python3.11/site-packages/pytorch_lightning/trainer/connectors/data_connector.py:425: The 'val_dataloader' does not have many workers which may be a bottleneck. Consider increasing the value of the `num_workers` argument` to `num_workers=7` in the `DataLoader` to improve performance.\n",
      "Finding best initial lr:  95%|████████████████▏| 95/100 [00:09<00:00,  9.57it/s]\n",
      "LR finder stopped early after 95 steps due to diverging loss.\n",
      "Learning rate set to 1.9054607179632464e-05\n",
      "Restoring states from the checkpoint path at /Users/itamarshamir/Documents/code/chess_engine/.lr_find_a0534363-b04f-4018-8f9e-16ba5ee2df94.ckpt\n",
      "Restored all states from the checkpoint at /Users/itamarshamir/Documents/code/chess_engine/.lr_find_a0534363-b04f-4018-8f9e-16ba5ee2df94.ckpt\n",
      "/Users/itamarshamir/Documents/code/chess_engine/learning_rate_finder.py:34: UserWarning: FigureCanvasAgg is non-interactive, and thus cannot be shown\n",
      "  fig.show()\n",
      "Suggested LR: 1.9054607179632464e-05\n",
      "1.9054607179632464e-05\n"
     ]
    }
   ],
   "source": [
    "!python learning_rate_finder.py"
   ]
  },
  {
   "cell_type": "code",
   "execution_count": 12,
   "metadata": {},
   "outputs": [
    {
     "name": "stderr",
     "output_type": "stream",
     "text": [
      "You are using the plain ModelCheckpoint callback. Consider using LitModelCheckpoint which with seamless uploading to Model registry.\n"
     ]
    },
    {
     "name": "stderr",
     "output_type": "stream",
     "text": [
      "GPU available: True (mps), used: True\n",
      "TPU available: False, using: 0 TPU cores\n",
      "HPU available: False, using: 0 HPUs\n"
     ]
    },
    {
     "name": "stdout",
     "output_type": "stream",
     "text": [
      "{'seed': 42, 'data_split': 0.01, 'dataloader': {'batch_size': 64, 'num_workers': 0, 'persistent_workers': False}, 'model': {'feature_dim': 21, 'embed_dim': 128, 'num_heads': 8, 'dropout': 0.0, 'mlp_ratio': 4, 'eval_hidden_dim': 128, 'num_layers': 12, 'n_recycles': 4}, 'loss': {'eval_loss_weight': 0.0, 'move_loss_weight': 1, 'threat_loss_weight': 0.2, 'incheck_loss_weight': 0.1, 'use_move_weight': False}, 'train': {'lr': 0.0009, 'weight_decay': 0.01, 'T_max': 2, 'max_epochs': 30, 'device': 'mps', 'accelerator': 'mps'}}\n",
      "Train set size: 11527\n",
      "Validation set size: 116\n"
     ]
    },
    {
     "name": "stderr",
     "output_type": "stream",
     "text": [
      "Finding best initial lr:  97%|█████████▋| 97/100 [00:23<00:00,  4.22it/s]\n",
      "LR finder stopped early after 97 steps due to diverging loss.\n",
      "Learning rate set to 0.00478630092322638\n",
      "Restoring states from the checkpoint path at /Users/itamarshamir/Documents/code/chess_engine/.lr_find_c3bce657-47f2-4c3f-b2f7-b8a360666918.ckpt\n",
      "Restored all states from the checkpoint at /Users/itamarshamir/Documents/code/chess_engine/.lr_find_c3bce657-47f2-4c3f-b2f7-b8a360666918.ckpt\n",
      "/var/folders/xb/0_m2vys15615hn4xqm0k1_7m0000gn/T/ipykernel_52841/2585758123.py:35: UserWarning: FigureCanvasAgg is non-interactive, and thus cannot be shown\n",
      "  fig.show()\n"
     ]
    },
    {
     "name": "stdout",
     "output_type": "stream",
     "text": [
      "Suggested LR: 0.00478630092322638\n",
      "0.00478630092322638\n"
     ]
    },
    {
     "data": {
      "image/png": "[encoded data removed]",
      "text/plain": [
       "<Figure size 640x480 with 1 Axes>"
      ]
     },
     "metadata": {},
     "output_type": "display_data"
    }
   ],
   "source": [
    "# %load learning_rate_finder.py\n",
    "from chessengine.model.engine_pl import ChessLightningModule\n",
    "from chessengine.model.datamodule import ChessDataModule\n",
    "from pytorch_lightning import Trainer\n",
    "from pytorch_lightning.tuner import Tuner\n",
    "import matplotlib.pyplot as plt\n",
    "import yaml\n",
    "import os\n",
    "from dotenv import load_dotenv\n",
    "\n",
    "load_dotenv()\n",
    "TEST_DATASET = os.getenv(\"TEST_DATASET\")\n",
    "\n",
    "\n",
    "# load config from engine_config.yaml\n",
    "with open(\"engine_config.yaml\", \"r\") as f:\n",
    "    config = yaml.safe_load(f)\n",
    "\n",
    "# Update config with mps settings\n",
    "config['train']['accelerator'] = \"mps\"\n",
    "config['dataloader']['num_workers'] = 0\n",
    "config['dataloader']['persistent_workers'] = False\n",
    "\n",
    "print(config)\n",
    "data_paths = [TEST_DATASET]\n",
    "dm = ChessDataModule(config, data_paths)\n",
    "model = ChessLightningModule(config)\n",
    "\n",
    "trainer = Trainer(accelerator=\"mps\")\n",
    "tuner = Tuner(trainer)\n",
    "lr_finder = tuner.lr_find(model, datamodule=dm)\n",
    "\n",
    "# Plot suggestion\n",
    "fig = lr_finder.plot(suggest=True)\n",
    "fig.show()\n",
    "\n",
    "# The new learning rate is updated in model.hparams.lr\n",
    "print(\"Suggested LR:\", model.hparams.lr)\n",
    "print(lr_finder.suggestion())\n",
    "\n",
    "# # Save best lr back to config\n",
    "# config['train']['lr'] = lr_finder.suggestion()"
   ]
  },
  {
   "cell_type": "code",
   "execution_count": 16,
   "metadata": {},
   "outputs": [],
   "source": [
    "!tar -cf positions_shards_10_22.tar data/shards300_small/positions{10..22}.pt"
   ]
  },
  {
   "cell_type": "code",
   "execution_count": 22,
   "metadata": {},
   "outputs": [
    {
     "data": {
      "text/plain": [
       "['/Users/itamarshamir/Documents/code/chess_engine/data/shards300_small/positions0.pt',\n",
       " '/Users/itamarshamir/Documents/code/chess_engine/data/shards300_small/positions1.pt']"
      ]
     },
     "execution_count": 22,
     "metadata": {},
     "output_type": "execute_result"
    }
   ],
   "source": [
    "import os\n",
    "from dotenv import load_dotenv\n",
    "load_dotenv(\".env\")\n",
    "\n",
    "training_paths = os.getenv(\"TRAINING_DATASET\").split(\", \")\n",
    "training_paths"
   ]
  },
  {
   "cell_type": "markdown",
   "metadata": {},
   "source": [
    "# Distribution of number of legal moves"
   ]
  },
  {
   "cell_type": "code",
   "execution_count": 1,
   "metadata": {},
   "outputs": [
    {
     "name": "stderr",
     "output_type": "stream",
     "text": [
      "/Users/itamarshamir/Documents/code/chess_engine/chessengine/model/dataclass.py:14: FutureWarning: You are using `torch.load` with `weights_only=False` (the current default value), which uses the default pickle module implicitly. It is possible to construct malicious pickle data which will execute arbitrary code during unpickling (See https://github.com/pytorch/pytorch/blob/main/SECURITY.md#untrusted-models for more details). In a future release, the default value for `weights_only` will be flipped to `True`. This limits the functions that could be executed during unpickling. Arbitrary objects will no longer be allowed to be loaded via this mode unless they are explicitly allowlisted by the user via `torch.serialization.add_safe_globals`. We recommend you start setting `weights_only=True` for any use case where you don't have full control of the loaded file. Please open an issue on GitHub for any issues related to this experimental feature.\n",
      "  shard = torch.load(path, map_location=\"cpu\")\n"
     ]
    },
    {
     "name": "stdout",
     "output_type": "stream",
     "text": [
      "Loaded data/stacked_shards/positions10.pt in 0.17s\n",
      "Global max legal_moves width: 67\n",
      "Train set size: 99426\n",
      "Validation set size: 0\n"
     ]
    }
   ],
   "source": [
    "# torch load from data/shards300_small/positions10.pt\n",
    "\n",
    "import torch\n",
    "from chessengine.model.datamodule import ChessDataModule\n",
    "test_path = \"data/stacked_shards/positions10.pt\"\n",
    "\n",
    "config ={'dataloader': {\"batch_size\": 1, \"num_workers\": 0, \"persistent_workers\": False}, 'data_split':\n",
    "    0.0, 'train': {'device': 'cpu'}\n",
    "}\n",
    "dm = ChessDataModule(config, [test_path], OVERFIT=False)\n",
    "dm.setup()\n",
    "loader = dm.train_dataloader()"
   ]
  },
  {
   "cell_type": "code",
   "execution_count": 2,
   "metadata": {},
   "outputs": [
    {
     "name": "stdout",
     "output_type": "stream",
     "text": [
      "<torch.utils.data.dataloader.DataLoader object at 0x160495b90>\n",
      "{13: 1138, 6: 1245, 10: 703, 22: 2218, 0: 235, 25: 2091, 35: 3471, 42: 2308, 21: 1727, 33: 3588, 38: 3288, 32: 3501, 18: 1548, 14: 1275, 11: 780, 19: 1659, 48: 720, 45: 1406, 23: 1887, 30: 3758, 39: 3075, 31: 3258, 2: 1337, 36: 3397, 28: 3049, 34: 3456, 26: 2325, 47: 999, 37: 3179, 15: 1442, 16: 1601, 3: 1667, 49: 607, 44: 1702, 24: 1741, 40: 2582, 4: 1711, 8: 674, 20: 3631, 5: 1585, 27: 2747, 12: 1048, 7: 794, 46: 1247, 41: 2399, 29: 3025, 9: 674, 1: 876, 43: 1977, 54: 123, 51: 328, 17: 1507, 52: 215, 50: 485, 57: 35, 53: 177, 55: 78, 58: 32, 60: 14, 56: 49, 59: 15, 67: 1, 63: 3, 64: 1, 61: 7, 62: 4, 65: 1}\n"
     ]
    }
   ],
   "source": [
    "legal_moves_histogram = {}\n",
    "print(loader)\n",
    "# loop over the dataloader\n",
    "for batch in loader:\n",
    "    x, labels = batch\n",
    "    legal_moves = labels[\"legal_moves\"]\n",
    "    l = labels[\"legal_moves\"].shape[-1]\n",
    "    \n",
    "    legal_moves_histogram[l] = legal_moves_histogram.get(l, 0) + 1\n",
    "    \n",
    "print(legal_moves_histogram)"
   ]
  },
  {
   "cell_type": "markdown",
   "metadata": {},
   "source": [
    "## Histogram"
   ]
  },
  {
   "cell_type": "code",
   "execution_count": 3,
   "metadata": {},
   "outputs": [
    {
     "data": {
      "image/png": "[encoded data removed]",
      "text/plain": [
       "<Figure size 640x480 with 1 Axes>"
      ]
     },
     "metadata": {},
     "output_type": "display_data"
    }
   ],
   "source": [
    "# create a histogram of legal moves\n",
    "import matplotlib.pyplot as plt\n",
    "import numpy as np\n",
    "\n",
    "\n",
    "# Create a histogram of the legal moves\n",
    "legal_moves_histogram = dict(sorted(legal_moves_histogram.items()))\n",
    "keys = list(legal_moves_histogram.keys())\n",
    "values = list(legal_moves_histogram.values())\n",
    "plt.bar(keys, values)\n",
    "plt.xlabel(\"Number of Legal Moves\")\n",
    "plt.ylabel(\"Frequency\")\n",
    "plt.title(\"Histogram of Legal Moves\")\n",
    "# only show x ticks in jumps of 5 so 0, 5, 10, 15, 20 etc\n",
    "plt.xticks(np.arange(min(keys), max(keys)+1, 5))\n",
    "plt.xlim(min(keys), max(keys))\n",
    "plt.ylim(0, max(values) + 10)\n",
    "#plt.xticks(np.arange(min(keys), max(keys)+1, 1))\n",
    "plt.grid(axis='y')\n",
    "plt.show()\n"
   ]
  },
  {
   "cell_type": "markdown",
   "metadata": {},
   "source": [
    "## Max number of legal moves"
   ]
  },
  {
   "cell_type": "code",
   "execution_count": 4,
   "metadata": {},
   "outputs": [
    {
     "name": "stdout",
     "output_type": "stream",
     "text": [
      "Max legal moves: 67\n"
     ]
    }
   ],
   "source": [
    "# max legal moves\n",
    "max_legal_moves = max(legal_moves_histogram.keys())\n",
    "print(f\"Max legal moves: {max_legal_moves}\")"
   ]
  },
  {
   "cell_type": "markdown",
   "metadata": {},
   "source": [
    "## Get some probabilities"
   ]
  },
  {
   "cell_type": "code",
   "execution_count": 5,
   "metadata": {},
   "outputs": [
    {
     "name": "stdout",
     "output_type": "stream",
     "text": [
      "Mean number of legal moves: 28.00\n",
      "Probability of below 10 legal moves: 0.12\n"
     ]
    }
   ],
   "source": [
    "total_moves = sum(legal_moves_histogram.values())\n",
    "prob = {key: value / total_moves for key, value in legal_moves_histogram.items()}\n",
    "\n",
    "# mean number of legal moves\n",
    "mean_legal_moves = sum(key * value for key, value in prob.items())\n",
    "print(f\"Mean number of legal moves: {mean_legal_moves:.2f}\")\n",
    "\n",
    "# probability of below 10 legal moves\n",
    "prob_below_10 = sum(prob[key] for key in prob if key <= 10)\n",
    "print(f\"Probability of below 10 legal moves: {prob_below_10:.2f}\")"
   ]
  },
  {
   "cell_type": "markdown",
   "metadata": {},
   "source": [
    "## top5 and top3 probabilities \n",
    "i.e. mean probability of 5/3 moves out of all"
   ]
  },
  {
   "cell_type": "code",
   "execution_count": 18,
   "metadata": {},
   "outputs": [
    {
     "name": "stdout",
     "output_type": "stream",
     "text": [
      "Mean top 5 fraction: 26.30%\n",
      "Mean top 3 fraction: 17.69%\n",
      "Mean top 1 fraction: 6.87%\n"
     ]
    }
   ],
   "source": [
    "mean_top5_fraction = sum(p * 5 / m for m, p in prob.items() if m > 4) + sum(p for m, p in prob.items() if m < 5)\n",
    "mean_top5_fraction = 100 * mean_top5_fraction\n",
    "mean_top3_fraction = sum(p * 3 / m for m, p in prob.items() if m > 2) + sum(p for m, p in prob.items() if m < 3)\n",
    "mean_top3_fraction = 100 * mean_top3_fraction\n",
    "mean_top1_fraction = sum(p * 1 / m for m, p in prob.items() if m > 0) + sum(p for m, p in prob.items() if m < 1)\n",
    "mean_top1_fraction = 100 * mean_top1_fraction\n",
    "\n",
    "print(f\"Mean top 5 fraction: {mean_top5_fraction:.2f}%\")\n",
    "print(f\"Mean top 3 fraction: {mean_top3_fraction:.2f}%\")\n",
    "print(f\"Mean top 1 fraction: {mean_top1_fraction:.2f}%\")"
   ]
  },
  {
   "cell_type": "code",
   "execution_count": 1,
   "metadata": {},
   "outputs": [],
   "source": [
    "# %load data/convert_to_stacked_shards.py\n",
    "import torch\n",
    "import os\n",
    "from tqdm import tqdm\n",
    "\n",
    "def convert_shard_format(input_path, output_path):\n",
    "    os.makedirs(output_path, exist_ok=True)\n",
    "    pt_files = sorted(f for f in os.listdir(input_path) if f.endswith(\".pt\"))\n",
    "\n",
    "    for filename in tqdm(pt_files, desc=\"Converting shards\"):\n",
    "        print(filename)\n",
    "        in_file = os.path.join(input_path, filename)\n",
    "        out_file = os.path.join(output_path, filename)\n",
    "\n",
    "        data = torch.load(in_file, map_location=\"cpu\")\n",
    "\n",
    "        keys = data[0].keys()\n",
    "        batch = {key: [] for key in keys}\n",
    "\n",
    "        # Collect values\n",
    "        for sample in data:\n",
    "            for key in keys:\n",
    "                batch[key].append(sample[key])\n",
    "\n",
    "        # Special handling for legal_moves\n",
    "        legal_moves_list = batch['legal_moves']\n",
    "        max_L = max(t.shape[1] for t in legal_moves_list)\n",
    "        padded_legal_moves = []\n",
    "\n",
    "        for t in legal_moves_list:\n",
    "            L = t.shape[1]\n",
    "            if L < max_L:\n",
    "                pad = torch.full((64, max_L - L), fill_value=-100, dtype=t.dtype)\n",
    "                t = torch.cat([t, pad], dim=1)\n",
    "            padded_legal_moves.append(t)\n",
    "\n",
    "        # Replace legal_moves with padded and stacked\n",
    "        stacked = {}\n",
    "        stacked['legal_moves'] = torch.stack(padded_legal_moves)\n",
    "\n",
    "        # Stack all other fields\n",
    "        for key in keys:\n",
    "            if key == 'legal_moves':\n",
    "                continue\n",
    "            values = batch[key]\n",
    "            if isinstance(values[0], torch.Tensor):\n",
    "                stacked[key] = torch.stack(values)\n",
    "            else:\n",
    "                stacked[key] = torch.tensor(values)\n",
    "\n",
    "        # Save\n",
    "        torch.save(stacked, out_file)\n",
    "\n",
    "    print(f\"✅ Done! Converted shards saved to: {output_path}\")"
   ]
  },
  {
   "cell_type": "code",
   "execution_count": 6,
   "metadata": {},
   "outputs": [
    {
     "name": "stderr",
     "output_type": "stream",
     "text": [
      "Converting shards:   0%|          | 0/23 [00:00<?, ?it/s]/var/folders/xb/0_m2vys15615hn4xqm0k1_7m0000gn/T/ipykernel_17582/1184053627.py:15: FutureWarning: You are using `torch.load` with `weights_only=False` (the current default value), which uses the default pickle module implicitly. It is possible to construct malicious pickle data which will execute arbitrary code during unpickling (See https://github.com/pytorch/pytorch/blob/main/SECURITY.md#untrusted-models for more details). In a future release, the default value for `weights_only` will be flipped to `True`. This limits the functions that could be executed during unpickling. Arbitrary objects will no longer be allowed to be loaded via this mode unless they are explicitly allowlisted by the user via `torch.serialization.add_safe_globals`. We recommend you start setting `weights_only=True` for any use case where you don't have full control of the loaded file. Please open an issue on GitHub for any issues related to this experimental feature.\n",
      "  data = torch.load(in_file, map_location=\"cpu\")\n"
     ]
    },
    {
     "name": "stdout",
     "output_type": "stream",
     "text": [
      "positions0.pt\n"
     ]
    },
    {
     "name": "stderr",
     "output_type": "stream",
     "text": [
      "Converting shards:   4%|▍         | 1/23 [00:15<05:41, 15.52s/it]"
     ]
    },
    {
     "name": "stdout",
     "output_type": "stream",
     "text": [
      "positions1.pt\n"
     ]
    },
    {
     "name": "stderr",
     "output_type": "stream",
     "text": [
      "Converting shards:   9%|▊         | 2/23 [00:31<05:35, 15.97s/it]"
     ]
    },
    {
     "name": "stdout",
     "output_type": "stream",
     "text": [
      "positions10.pt\n"
     ]
    },
    {
     "name": "stderr",
     "output_type": "stream",
     "text": [
      "Converting shards:  13%|█▎        | 3/23 [00:49<05:36, 16.83s/it]"
     ]
    },
    {
     "name": "stdout",
     "output_type": "stream",
     "text": [
      "positions11.pt\n"
     ]
    },
    {
     "name": "stderr",
     "output_type": "stream",
     "text": [
      "Converting shards:  17%|█▋        | 4/23 [01:09<05:42, 18.04s/it]"
     ]
    },
    {
     "name": "stdout",
     "output_type": "stream",
     "text": [
      "positions12.pt\n"
     ]
    },
    {
     "name": "stderr",
     "output_type": "stream",
     "text": [
      "Converting shards:  22%|██▏       | 5/23 [01:28<05:29, 18.33s/it]"
     ]
    },
    {
     "name": "stdout",
     "output_type": "stream",
     "text": [
      "positions13.pt\n"
     ]
    },
    {
     "name": "stderr",
     "output_type": "stream",
     "text": [
      "Converting shards:  26%|██▌       | 6/23 [01:48<05:19, 18.78s/it]"
     ]
    },
    {
     "name": "stdout",
     "output_type": "stream",
     "text": [
      "positions14.pt\n"
     ]
    },
    {
     "name": "stderr",
     "output_type": "stream",
     "text": [
      "Converting shards:  30%|███       | 7/23 [02:10<05:18, 19.89s/it]"
     ]
    },
    {
     "name": "stdout",
     "output_type": "stream",
     "text": [
      "positions15.pt\n"
     ]
    },
    {
     "name": "stderr",
     "output_type": "stream",
     "text": [
      "Converting shards:  35%|███▍      | 8/23 [02:31<05:03, 20.26s/it]"
     ]
    },
    {
     "name": "stdout",
     "output_type": "stream",
     "text": [
      "positions16.pt\n"
     ]
    },
    {
     "name": "stderr",
     "output_type": "stream",
     "text": [
      "Converting shards:  39%|███▉      | 9/23 [02:51<04:44, 20.29s/it]"
     ]
    },
    {
     "name": "stdout",
     "output_type": "stream",
     "text": [
      "positions17.pt\n"
     ]
    },
    {
     "name": "stderr",
     "output_type": "stream",
     "text": [
      "Converting shards:  43%|████▎     | 10/23 [03:09<04:13, 19.54s/it]"
     ]
    },
    {
     "name": "stdout",
     "output_type": "stream",
     "text": [
      "positions18.pt\n"
     ]
    },
    {
     "name": "stderr",
     "output_type": "stream",
     "text": [
      "Converting shards:  48%|████▊     | 11/23 [03:28<03:54, 19.50s/it]"
     ]
    },
    {
     "name": "stdout",
     "output_type": "stream",
     "text": [
      "positions19.pt\n"
     ]
    },
    {
     "name": "stderr",
     "output_type": "stream",
     "text": [
      "Converting shards:  52%|█████▏    | 12/23 [03:50<03:40, 20.02s/it]"
     ]
    },
    {
     "name": "stdout",
     "output_type": "stream",
     "text": [
      "positions2.pt\n"
     ]
    },
    {
     "name": "stderr",
     "output_type": "stream",
     "text": [
      "Converting shards:  57%|█████▋    | 13/23 [04:09<03:18, 19.89s/it]"
     ]
    },
    {
     "name": "stdout",
     "output_type": "stream",
     "text": [
      "positions20.pt\n"
     ]
    },
    {
     "name": "stderr",
     "output_type": "stream",
     "text": [
      "Converting shards:  61%|██████    | 14/23 [04:29<02:57, 19.71s/it]"
     ]
    },
    {
     "name": "stdout",
     "output_type": "stream",
     "text": [
      "positions21.pt\n"
     ]
    },
    {
     "name": "stderr",
     "output_type": "stream",
     "text": [
      "Converting shards:  65%|██████▌   | 15/23 [04:49<02:40, 20.08s/it]"
     ]
    },
    {
     "name": "stdout",
     "output_type": "stream",
     "text": [
      "positions22.pt\n"
     ]
    },
    {
     "name": "stderr",
     "output_type": "stream",
     "text": [
      "Converting shards:  70%|██████▉   | 16/23 [05:02<02:05, 17.91s/it]"
     ]
    },
    {
     "name": "stdout",
     "output_type": "stream",
     "text": [
      "positions3.pt\n"
     ]
    },
    {
     "name": "stderr",
     "output_type": "stream",
     "text": [
      "Converting shards:  74%|███████▍  | 17/23 [05:20<01:46, 17.71s/it]"
     ]
    },
    {
     "name": "stdout",
     "output_type": "stream",
     "text": [
      "positions4.pt\n"
     ]
    },
    {
     "name": "stderr",
     "output_type": "stream",
     "text": [
      "Converting shards:  78%|███████▊  | 18/23 [05:39<01:31, 18.37s/it]"
     ]
    },
    {
     "name": "stdout",
     "output_type": "stream",
     "text": [
      "positions5.pt\n"
     ]
    },
    {
     "name": "stderr",
     "output_type": "stream",
     "text": [
      "Converting shards:  83%|████████▎ | 19/23 [05:58<01:14, 18.52s/it]"
     ]
    },
    {
     "name": "stdout",
     "output_type": "stream",
     "text": [
      "positions6.pt\n"
     ]
    },
    {
     "name": "stderr",
     "output_type": "stream",
     "text": [
      "Converting shards:  87%|████████▋ | 20/23 [06:18<00:56, 18.89s/it]"
     ]
    },
    {
     "name": "stdout",
     "output_type": "stream",
     "text": [
      "positions7.pt\n"
     ]
    },
    {
     "name": "stderr",
     "output_type": "stream",
     "text": [
      "Converting shards:  91%|█████████▏| 21/23 [06:36<00:36, 18.47s/it]"
     ]
    },
    {
     "name": "stdout",
     "output_type": "stream",
     "text": [
      "positions8.pt\n"
     ]
    },
    {
     "name": "stderr",
     "output_type": "stream",
     "text": [
      "Converting shards:  96%|█████████▌| 22/23 [06:54<00:18, 18.54s/it]"
     ]
    },
    {
     "name": "stdout",
     "output_type": "stream",
     "text": [
      "positions9.pt\n"
     ]
    },
    {
     "name": "stderr",
     "output_type": "stream",
     "text": [
      "Converting shards: 100%|██████████| 23/23 [07:11<00:00, 18.77s/it]\n"
     ]
    },
    {
     "name": "stdout",
     "output_type": "stream",
     "text": [
      "✅ Done! Converted shards saved to: /Users/itamarshamir/Documents/code/chess_engine/data/stacked_shards\n"
     ]
    }
   ],
   "source": [
    "input_path = \"/Users/itamarshamir/Documents/code/chess_engine/data/shards300_small\"\n",
    "output_path = \"/Users/itamarshamir/Documents/code/chess_engine/data/stacked_shards\"\n",
    "convert_shard_format(input_path, output_path)"
   ]
  },
  {
   "cell_type": "code",
   "execution_count": 9,
   "metadata": {},
   "outputs": [
    {
     "name": "stdout",
     "output_type": "stream",
     "text": [
      "positions0.pt\n",
      "legal_moves: torch.Size([106862, 64, 66])\n",
      "board: torch.Size([106862, 8, 8, 21])\n",
      "eval: torch.Size([106862, 1])\n",
      "move_target: torch.Size([106862, 64])\n",
      "king_square: torch.Size([106862, 1])\n",
      "check: torch.Size([106862, 1])\n",
      "threat_target: torch.Size([106862, 64])\n",
      "terminal_flag: torch.Size([106862, 1])\n",
      "true_index: torch.Size([106862, 1])\n",
      "positions1.pt\n"
     ]
    },
    {
     "name": "stderr",
     "output_type": "stream",
     "text": [
      "/var/folders/xb/0_m2vys15615hn4xqm0k1_7m0000gn/T/ipykernel_17582/2446006796.py:4: FutureWarning: You are using `torch.load` with `weights_only=False` (the current default value), which uses the default pickle module implicitly. It is possible to construct malicious pickle data which will execute arbitrary code during unpickling (See https://github.com/pytorch/pytorch/blob/main/SECURITY.md#untrusted-models for more details). In a future release, the default value for `weights_only` will be flipped to `True`. This limits the functions that could be executed during unpickling. Arbitrary objects will no longer be allowed to be loaded via this mode unless they are explicitly allowlisted by the user via `torch.serialization.add_safe_globals`. We recommend you start setting `weights_only=True` for any use case where you don't have full control of the loaded file. Please open an issue on GitHub for any issues related to this experimental feature.\n",
      "  data = torch.load(os.path.join(output_path, file), map_location=\"cpu\")\n"
     ]
    },
    {
     "name": "stdout",
     "output_type": "stream",
     "text": [
      "legal_moves: torch.Size([97178, 64, 67])\n",
      "board: torch.Size([97178, 8, 8, 21])\n",
      "eval: torch.Size([97178, 1])\n",
      "move_target: torch.Size([97178, 64])\n",
      "king_square: torch.Size([97178, 1])\n",
      "check: torch.Size([97178, 1])\n",
      "threat_target: torch.Size([97178, 64])\n",
      "terminal_flag: torch.Size([97178, 1])\n",
      "true_index: torch.Size([97178, 1])\n",
      "positions10.pt\n",
      "legal_moves: torch.Size([99426, 64, 67])\n",
      "board: torch.Size([99426, 8, 8, 21])\n",
      "eval: torch.Size([99426, 1])\n",
      "move_target: torch.Size([99426, 64])\n",
      "king_square: torch.Size([99426, 1])\n",
      "check: torch.Size([99426, 1])\n",
      "threat_target: torch.Size([99426, 64])\n",
      "terminal_flag: torch.Size([99426, 1])\n",
      "true_index: torch.Size([99426, 1])\n",
      "positions11.pt\n",
      "legal_moves: torch.Size([106628, 64, 65])\n",
      "board: torch.Size([106628, 8, 8, 21])\n",
      "eval: torch.Size([106628, 1])\n",
      "move_target: torch.Size([106628, 64])\n",
      "king_square: torch.Size([106628, 1])\n",
      "check: torch.Size([106628, 1])\n",
      "threat_target: torch.Size([106628, 64])\n",
      "terminal_flag: torch.Size([106628, 1])\n",
      "true_index: torch.Size([106628, 1])\n",
      "positions12.pt\n",
      "legal_moves: torch.Size([103505, 64, 70])\n",
      "board: torch.Size([103505, 8, 8, 21])\n",
      "eval: torch.Size([103505, 1])\n",
      "move_target: torch.Size([103505, 64])\n",
      "king_square: torch.Size([103505, 1])\n",
      "check: torch.Size([103505, 1])\n",
      "threat_target: torch.Size([103505, 64])\n",
      "terminal_flag: torch.Size([103505, 1])\n",
      "true_index: torch.Size([103505, 1])\n",
      "positions13.pt\n",
      "legal_moves: torch.Size([101413, 64, 69])\n",
      "board: torch.Size([101413, 8, 8, 21])\n",
      "eval: torch.Size([101413, 1])\n",
      "move_target: torch.Size([101413, 64])\n",
      "king_square: torch.Size([101413, 1])\n",
      "check: torch.Size([101413, 1])\n",
      "threat_target: torch.Size([101413, 64])\n",
      "terminal_flag: torch.Size([101413, 1])\n",
      "true_index: torch.Size([101413, 1])\n",
      "positions14.pt\n",
      "legal_moves: torch.Size([106766, 64, 65])\n",
      "board: torch.Size([106766, 8, 8, 21])\n",
      "eval: torch.Size([106766, 1])\n",
      "move_target: torch.Size([106766, 64])\n",
      "king_square: torch.Size([106766, 1])\n",
      "check: torch.Size([106766, 1])\n",
      "threat_target: torch.Size([106766, 64])\n",
      "terminal_flag: torch.Size([106766, 1])\n",
      "true_index: torch.Size([106766, 1])\n",
      "positions15.pt\n",
      "legal_moves: torch.Size([104808, 64, 65])\n",
      "board: torch.Size([104808, 8, 8, 21])\n",
      "eval: torch.Size([104808, 1])\n",
      "move_target: torch.Size([104808, 64])\n",
      "king_square: torch.Size([104808, 1])\n",
      "check: torch.Size([104808, 1])\n",
      "threat_target: torch.Size([104808, 64])\n",
      "terminal_flag: torch.Size([104808, 1])\n",
      "true_index: torch.Size([104808, 1])\n",
      "positions16.pt\n",
      "legal_moves: torch.Size([106204, 64, 65])\n",
      "board: torch.Size([106204, 8, 8, 21])\n",
      "eval: torch.Size([106204, 1])\n",
      "move_target: torch.Size([106204, 64])\n",
      "king_square: torch.Size([106204, 1])\n",
      "check: torch.Size([106204, 1])\n",
      "threat_target: torch.Size([106204, 64])\n",
      "terminal_flag: torch.Size([106204, 1])\n",
      "true_index: torch.Size([106204, 1])\n",
      "positions17.pt\n",
      "legal_moves: torch.Size([94944, 64, 70])\n",
      "board: torch.Size([94944, 8, 8, 21])\n",
      "eval: torch.Size([94944, 1])\n",
      "move_target: torch.Size([94944, 64])\n",
      "king_square: torch.Size([94944, 1])\n",
      "check: torch.Size([94944, 1])\n",
      "threat_target: torch.Size([94944, 64])\n",
      "terminal_flag: torch.Size([94944, 1])\n",
      "true_index: torch.Size([94944, 1])\n",
      "positions18.pt\n",
      "legal_moves: torch.Size([111966, 64, 65])\n",
      "board: torch.Size([111966, 8, 8, 21])\n",
      "eval: torch.Size([111966, 1])\n",
      "move_target: torch.Size([111966, 64])\n",
      "king_square: torch.Size([111966, 1])\n",
      "check: torch.Size([111966, 1])\n",
      "threat_target: torch.Size([111966, 64])\n",
      "terminal_flag: torch.Size([111966, 1])\n",
      "true_index: torch.Size([111966, 1])\n",
      "positions19.pt\n",
      "legal_moves: torch.Size([112519, 64, 65])\n",
      "board: torch.Size([112519, 8, 8, 21])\n",
      "eval: torch.Size([112519, 1])\n",
      "move_target: torch.Size([112519, 64])\n",
      "king_square: torch.Size([112519, 1])\n",
      "check: torch.Size([112519, 1])\n",
      "threat_target: torch.Size([112519, 64])\n",
      "terminal_flag: torch.Size([112519, 1])\n",
      "true_index: torch.Size([112519, 1])\n",
      "positions2.pt\n",
      "legal_moves: torch.Size([103842, 64, 66])\n",
      "board: torch.Size([103842, 8, 8, 21])\n",
      "eval: torch.Size([103842, 1])\n",
      "move_target: torch.Size([103842, 64])\n",
      "king_square: torch.Size([103842, 1])\n",
      "check: torch.Size([103842, 1])\n",
      "threat_target: torch.Size([103842, 64])\n",
      "terminal_flag: torch.Size([103842, 1])\n",
      "true_index: torch.Size([103842, 1])\n",
      "positions20.pt\n",
      "legal_moves: torch.Size([113889, 64, 67])\n",
      "board: torch.Size([113889, 8, 8, 21])\n",
      "eval: torch.Size([113889, 1])\n",
      "move_target: torch.Size([113889, 64])\n",
      "king_square: torch.Size([113889, 1])\n",
      "check: torch.Size([113889, 1])\n",
      "threat_target: torch.Size([113889, 64])\n",
      "terminal_flag: torch.Size([113889, 1])\n",
      "true_index: torch.Size([113889, 1])\n",
      "positions21.pt\n",
      "legal_moves: torch.Size([117169, 64, 66])\n",
      "board: torch.Size([117169, 8, 8, 21])\n",
      "eval: torch.Size([117169, 1])\n",
      "move_target: torch.Size([117169, 64])\n",
      "king_square: torch.Size([117169, 1])\n",
      "check: torch.Size([117169, 1])\n",
      "threat_target: torch.Size([117169, 64])\n",
      "terminal_flag: torch.Size([117169, 1])\n",
      "true_index: torch.Size([117169, 1])\n",
      "positions22.pt\n",
      "legal_moves: torch.Size([65961, 64, 71])\n",
      "board: torch.Size([65961, 8, 8, 21])\n",
      "eval: torch.Size([65961, 1])\n",
      "move_target: torch.Size([65961, 64])\n",
      "king_square: torch.Size([65961, 1])\n",
      "check: torch.Size([65961, 1])\n",
      "threat_target: torch.Size([65961, 64])\n",
      "terminal_flag: torch.Size([65961, 1])\n",
      "true_index: torch.Size([65961, 1])\n",
      "positions3.pt\n",
      "legal_moves: torch.Size([104211, 64, 70])\n",
      "board: torch.Size([104211, 8, 8, 21])\n",
      "eval: torch.Size([104211, 1])\n",
      "move_target: torch.Size([104211, 64])\n",
      "king_square: torch.Size([104211, 1])\n",
      "check: torch.Size([104211, 1])\n",
      "threat_target: torch.Size([104211, 64])\n",
      "terminal_flag: torch.Size([104211, 1])\n",
      "true_index: torch.Size([104211, 1])\n",
      "positions4.pt\n",
      "legal_moves: torch.Size([103900, 64, 66])\n",
      "board: torch.Size([103900, 8, 8, 21])\n",
      "eval: torch.Size([103900, 1])\n",
      "move_target: torch.Size([103900, 64])\n",
      "king_square: torch.Size([103900, 1])\n",
      "check: torch.Size([103900, 1])\n",
      "threat_target: torch.Size([103900, 64])\n",
      "terminal_flag: torch.Size([103900, 1])\n",
      "true_index: torch.Size([103900, 1])\n",
      "positions5.pt\n",
      "legal_moves: torch.Size([101881, 64, 65])\n",
      "board: torch.Size([101881, 8, 8, 21])\n",
      "eval: torch.Size([101881, 1])\n",
      "move_target: torch.Size([101881, 64])\n",
      "king_square: torch.Size([101881, 1])\n",
      "check: torch.Size([101881, 1])\n",
      "threat_target: torch.Size([101881, 64])\n",
      "terminal_flag: torch.Size([101881, 1])\n",
      "true_index: torch.Size([101881, 1])\n",
      "positions6.pt\n",
      "legal_moves: torch.Size([107311, 64, 69])\n",
      "board: torch.Size([107311, 8, 8, 21])\n",
      "eval: torch.Size([107311, 1])\n",
      "move_target: torch.Size([107311, 64])\n",
      "king_square: torch.Size([107311, 1])\n",
      "check: torch.Size([107311, 1])\n",
      "threat_target: torch.Size([107311, 64])\n",
      "terminal_flag: torch.Size([107311, 1])\n",
      "true_index: torch.Size([107311, 1])\n",
      "positions7.pt\n",
      "legal_moves: torch.Size([98983, 64, 90])\n",
      "board: torch.Size([98983, 8, 8, 21])\n",
      "eval: torch.Size([98983, 1])\n",
      "move_target: torch.Size([98983, 64])\n",
      "king_square: torch.Size([98983, 1])\n",
      "check: torch.Size([98983, 1])\n",
      "threat_target: torch.Size([98983, 64])\n",
      "terminal_flag: torch.Size([98983, 1])\n",
      "true_index: torch.Size([98983, 1])\n",
      "positions8.pt\n",
      "legal_moves: torch.Size([103268, 64, 67])\n",
      "board: torch.Size([103268, 8, 8, 21])\n",
      "eval: torch.Size([103268, 1])\n",
      "move_target: torch.Size([103268, 64])\n",
      "king_square: torch.Size([103268, 1])\n",
      "check: torch.Size([103268, 1])\n",
      "threat_target: torch.Size([103268, 64])\n",
      "terminal_flag: torch.Size([103268, 1])\n",
      "true_index: torch.Size([103268, 1])\n",
      "positions9.pt\n",
      "legal_moves: torch.Size([97604, 64, 67])\n",
      "board: torch.Size([97604, 8, 8, 21])\n",
      "eval: torch.Size([97604, 1])\n",
      "move_target: torch.Size([97604, 64])\n",
      "king_square: torch.Size([97604, 1])\n",
      "check: torch.Size([97604, 1])\n",
      "threat_target: torch.Size([97604, 64])\n",
      "terminal_flag: torch.Size([97604, 1])\n",
      "true_index: torch.Size([97604, 1])\n"
     ]
    }
   ],
   "source": [
    "pt_files = sorted(f for f in os.listdir(output_path) if f.endswith(\".pt\"))\n",
    "for file in pt_files:\n",
    "    print(file)\n",
    "    data = torch.load(os.path.join(output_path, file), map_location=\"cpu\")\n",
    "    for k,v in data.items():\n",
    "        print(f\"{k}: {v.shape}\")"
   ]
  },
  {
   "cell_type": "code",
   "execution_count": 11,
   "metadata": {},
   "outputs": [],
   "source": [
    "!tar -cf positions_shards_12_22.tar data/stacked_shards/positions{12..22}.pt"
   ]
  },
  {
   "cell_type": "code",
   "execution_count": 1,
   "metadata": {},
   "outputs": [
    {
     "name": "stdout",
     "output_type": "stream",
     "text": [
      "/Users/itamarshamir/Documents/code/chess_engine/data/test_positions.pt\n",
      "Loaded /Users/itamarshamir/Documents/code/chess_engine/data/test_positions.pt in 0.02s\n",
      "Global max legal_moves width: 61\n"
     ]
    },
    {
     "name": "stderr",
     "output_type": "stream",
     "text": [
      "/Users/itamarshamir/Documents/code/chess_engine/chessengine/model/dataclass.py:14: FutureWarning: You are using `torch.load` with `weights_only=False` (the current default value), which uses the default pickle module implicitly. It is possible to construct malicious pickle data which will execute arbitrary code during unpickling (See https://github.com/pytorch/pytorch/blob/main/SECURITY.md#untrusted-models for more details). In a future release, the default value for `weights_only` will be flipped to `True`. This limits the functions that could be executed during unpickling. Arbitrary objects will no longer be allowed to be loaded via this mode unless they are explicitly allowlisted by the user via `torch.serialization.add_safe_globals`. We recommend you start setting `weights_only=True` for any use case where you don't have full control of the loaded file. Please open an issue on GitHub for any issues related to this experimental feature.\n",
      "  shard = torch.load(path, map_location=\"cpu\")\n"
     ]
    }
   ],
   "source": [
    "from chessengine.model.dataclass import ChessPositionDataset\n",
    "from dotenv import load_dotenv\n",
    "import os\n",
    "load_dotenv()\n",
    "TEST_DATASET = os.getenv(\"TEST_DATASET\")\n",
    "print(TEST_DATASET)\n",
    "\n",
    "dataset = ChessPositionDataset([TEST_DATASET])\n"
   ]
  },
  {
   "cell_type": "code",
   "execution_count": 6,
   "metadata": {},
   "outputs": [
    {
     "name": "stdout",
     "output_type": "stream",
     "text": [
      "11643\n",
      "labels['legal_moves'].shape = torch.Size([64, 61])\n",
      "labels['legal_moves'].shape = torch.Size([64, 61])\n",
      "labels['legal_moves'].shape = torch.Size([64, 61])\n",
      "labels['legal_moves'].shape = torch.Size([64, 61])\n",
      "labels['legal_moves'].shape = torch.Size([64, 61])\n",
      "labels['legal_moves'].shape = torch.Size([64, 61])\n",
      "labels['legal_moves'].shape = torch.Size([64, 61])\n",
      "labels['legal_moves'].shape = torch.Size([64, 61])\n",
      "labels['legal_moves'].shape = torch.Size([64, 61])\n",
      "labels['legal_moves'].shape = torch.Size([64, 61])\n",
      "labels['legal_moves'].shape = torch.Size([64, 61])\n",
      "labels['legal_moves'].shape = torch.Size([64, 61])\n"
     ]
    }
   ],
   "source": [
    "print(len(dataset))\n",
    "\n",
    "for i, data in enumerate(dataset):\n",
    "    x, labels = data\n",
    "    print(f\"{labels['legal_moves'].shape = }\")\n",
    "    \n",
    "    if i > 10:\n",
    "        break\n",
    "\n"
   ]
  },
  {
   "cell_type": "code",
   "execution_count": null,
   "metadata": {},
   "outputs": [
    {
     "name": "stdout",
     "output_type": "stream",
     "text": [
      "Loaded /Users/itamarshamir/Documents/code/chess_engine/data/test_positions.pt in 0.01s\n",
      "Global max legal_moves width: 61\n",
      "Train set size: 10479\n",
      "Validation set size: 1164\n",
      "Random index: tensor([87])\n",
      "x.shape = torch.Size([64, 8, 8, 21])\n",
      "eval: torch.Size([64, 1])\n",
      "check: torch.Size([64, 1])\n",
      "king_square: torch.Size([64, 1])\n",
      "threat_target: torch.Size([64, 64])\n",
      "terminal_flag: torch.Size([64, 1])\n",
      "legal_moves: torch.Size([64, 64, 48])\n",
      "true_index: torch.Size([64, 1])\n"
     ]
    }
   ],
   "source": [
    "from chessengine.model.datamodule import ChessDataModule\n",
    "import torch\n",
    "import yaml\n",
    "# load config from engine_config.yaml\n",
    "with open(\"engine_config.yaml\", \"r\") as f:\n",
    "    config = yaml.safe_load(f)\n",
    "config['dataloader']['num_workers'] = 0\n",
    "config['dataloader']['persistent_workers'] = False\n",
    "config['dataloader']['batch_size'] = 64\n",
    "config['train']['device'] = 'cpu'\n",
    "\n",
    "data_paths = [TEST_DATASET]\n",
    "dm = ChessDataModule(config, data_paths)\n",
    "dm.setup()\n",
    "train_loader = dm.train_dataloader()\n",
    "val_loader = dm.val_dataloader()\n",
    "\n",
    "j = torch.randint(0, len(train_loader.dataset)//64, (1,))\n",
    "print(f\"Random index: {j}\")\n",
    "for i, batch in enumerate(train_loader):\n",
    "    if i == j:\n",
    "        x, labels = batch\n",
    "        print(f\"{x.shape = }\")\n",
    "        for k, v in labels.items():\n",
    "            print(f\"{k}: {v.shape}\")\n",
    "        break"
   ]
  },
  {
   "cell_type": "code",
   "execution_count": 25,
   "metadata": {},
   "outputs": [
    {
     "name": "stdout",
     "output_type": "stream",
     "text": [
      "Number of parameters in the model: 13,057,803\n"
     ]
    }
   ],
   "source": [
    "from chessengine.model.engine_pl import ChessLightningModule\n",
    "import yaml\n",
    "# load config from engine_config.yaml\n",
    "with open(\"engine_config.yaml\", \"r\") as f:\n",
    "    config = yaml.safe_load(f)\n",
    "\n",
    "config['dataloader']['num_workers'] = 0\n",
    "config['dataloader']['persistent_workers'] = False\n",
    "config['model']['embed_dim'] = 256\n",
    "config['model']['eval_hidden_dim'] = 256\n",
    "config['model']['num_heads'] = 16\n",
    "\n",
    "model = ChessLightningModule(config)\n",
    "\n",
    "# number of parameters\n",
    "def count_parameters(model):\n",
    "    return sum(p.numel() for p in model.parameters() if p.requires_grad)\n",
    "print(f\"Number of parameters in the model: {count_parameters(model):,}\")"
   ]
  },
  {
   "cell_type": "code",
   "execution_count": 31,
   "metadata": {},
   "outputs": [
    {
     "data": {
      "text/plain": [
       "[2, 3, 4, 5]"
      ]
     },
     "execution_count": 31,
     "metadata": {},
     "output_type": "execute_result"
    }
   ],
   "source": [
    "l = [1,2,3,4,5]\n",
    "\n",
    "l[1:]"
   ]
  },
  {
   "cell_type": "code",
   "execution_count": null,
   "metadata": {},
   "outputs": [],
   "source": []
  }
 ],
 "metadata": {
  "kernelspec": {
   "display_name": "chess_engine_py311",
   "language": "python",
   "name": "python3"
  },
  "language_info": {
   "codemirror_mode": {
    "name": "ipython",
    "version": 3
   },
   "file_extension": ".py",
   "mimetype": "text/x-python",
   "name": "python",
   "nbconvert_exporter": "python",
   "pygments_lexer": "ipython3",
   "version": "3.11.8"
  }
 },
 "nbformat": 4,
 "nbformat_minor": 2
}
