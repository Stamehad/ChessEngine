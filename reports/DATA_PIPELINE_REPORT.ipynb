{
 "cells": [
  {
   "cell_type": "markdown",
   "id": "5d12a0f8",
   "metadata": {},
   "source": [
    "## 📚 Data Overview\n",
    "\n",
    "The training data was sourced from [Lichess PGN database](https://database.lichess.org/), which provides large-scale collections of chess games. I used February 2025 data games.\n",
    "\n",
    "To ensure high-quality examples, we applied the following filters:\n",
    "\n",
    "- Both players must be rated **above 2400**.\n",
    "- Games must be **at least 5 minutes per side** to exclude low-effort blitz games.\n",
    "\n",
    "This filtering process yielded:\n",
    "\n",
    "- **22,596 games**\n",
    "- **2,370,238 board positions**\n",
    "- Positions are divided into **23 shards** (shards 0–22), each containing exactly **1,000 games** and weighing **~500–700MB** after processing.\n",
    "\n",
    "### 🧹 Data Processing Pipeline\n",
    "\n",
    "1. **Filtering**:\n",
    "   - Scripts `pgn_filtering.py` and `pgn_time_filtering.py` were used to apply rating and time controls filters to raw PGN files. The `pgn` shards in data/shards300_small are already filtered.\n",
    "\n",
    "2. **Parsing**:\n",
    "   - `position_parsing.py` converts filtered PGN games into a structured batch format:\n",
    "     - Board input tensors\n",
    "     - Labels for move targets, evaluation result, in-check flag, threats, etc.\n",
    "     - All the tensors are saved in `int8` or `uint8` type to improve efficiency.   \n",
    "\n",
    "3. **Final Packaging**:\n",
    "   - `convert_to_stacked_shards.py` collects and compresses parsed batches into final `.pt` tensor files.\n",
    "   - This significantly accelerates data loading during training.\n",
    "\n",
    "Each shard in its final form contains all required inputs and targets for model training, allowing efficient streaming from disk."
   ]
  },
  {
   "cell_type": "markdown",
   "id": "89710cb0",
   "metadata": {},
   "source": [
    "## Reproducing the training data\n",
    "### 🔧 The following are two simple scripts to reproduce the training data from the filtered pgn shards"
   ]
  },
  {
   "cell_type": "code",
   "execution_count": null,
   "id": "80a89399",
   "metadata": {},
   "outputs": [],
   "source": [
    "# parse_shards.py\n",
    "\n",
    "import subprocess\n",
    "\n",
    "def parse_shards(start=0, end=23):\n",
    "    for i in range(start, end):\n",
    "        input_file = f\"data/shards300_small/shard_{i}.pgn\"\n",
    "        output_file = f\"data/shards300_small/positions{i}.pt\"\n",
    "        command = [\n",
    "            \"python3\", \"chessengine/preprocessing/position_parsing.py\",\n",
    "            \"--input\", input_file,\n",
    "            \"--output\", output_file\n",
    "        ]\n",
    "        print(f\"🔹 Parsing shard {i}...\")\n",
    "        result = subprocess.run(command)\n",
    "        if result.returncode != 0:\n",
    "            print(f\"❌ Failed to parse shard {i}\")\n",
    "\n",
    "# Example usage:\n",
    "# parse_shards(20, 23)"
   ]
  },
  {
   "cell_type": "code",
   "execution_count": null,
   "id": "a6323de9",
   "metadata": {},
   "outputs": [],
   "source": [
    "from data.convert_to_stacked_shards import convert_shard_format\n",
    "\n",
    "input_path = \"data/shards300_small\"\n",
    "output_path = \"data/stacked_shards\"\n",
    "convert_shard_format(input_path, output_path)"
   ]
  }
 ],
 "metadata": {
  "kernelspec": {
   "display_name": "chess_engine_py311",
   "language": "python",
   "name": "python3"
  },
  "language_info": {
   "name": "python",
   "version": "3.11.8"
  }
 },
 "nbformat": 4,
 "nbformat_minor": 5
}
